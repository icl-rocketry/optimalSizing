{
 "cells": [
  {
   "cell_type": "code",
   "execution_count": 1,
   "metadata": {
    "scrolled": false
   },
   "outputs": [
    {
     "name": "stdout",
     "output_type": "stream",
     "text": [
      "​Beginning signomial solve.\n",
      "Solving took 5 GP solves and 1.54 seconds.\n",
      "\n",
      "Solved at 05-11 19:18\n",
      "\n",
      "Cost\n",
      "----\n",
      " 27.89 [kg]\n",
      "\n",
      "Free Variables\n",
      "--------------\n",
      "               | Rocket\n",
      "    a_{launch} : 86.54   [m/s²] Acceleration off launch rail\n",
      "             m : 27.89   [kg]   Mass of Rocket\n",
      "         min_a : 86.54   [m/s²] minimum launch acceleration\n",
      "\n",
      "               | Rocket/Boosters\n",
      "             F : 1687    [N]    Boosters cumulative thrust\n",
      "             m : 0.9749  [kg]   Mass of Boosters\n",
      "       m_{dry} : 0.6824  [kg]   Dry mass of boosters\n",
      "      m_{prop} : 0.2925  [kg]   Propellant mass of boosters\n",
      "      t_{burn} : 0.3467  [s]    Booster burn time\n",
      "\n",
      "               | Rocket/SimpleEngine\n",
      "     A_{grain} : 45.58   [cm²]  cross section area of grain\n",
      "     L_{grain} : 0.176   [m]    Length of the grain\n",
      "        L_{ox} : 0.4569  [m]    Length of ox tank\n",
      "        V_{ox} : 8329    [cm³]  Volume of ox tank\n",
      "             m : 13.82   [kg]   Mass of Engine\n",
      "       m_{dry} : 7.68    [kg]   Dry mass of engine\n",
      "      m_{fuel} : 0.7219  [kg]   fuel mass\n",
      "m_{grain tank} : 1.58    [kg]   Mass of combustion chamber\n",
      "   m_{ox tank} : 4.101   [kg]   Mass of ox tank\n",
      "        m_{ox} : 5.414   [kg]   ox mass\n",
      "      m_{prop} : 6.136   [kg]   Mass of Propellant\n",
      "      t_{wall} : 2.345   [mm]   Wall Thickness of ox tank\n",
      "      v_{fuel} : 802.1   [cm³]  Volume of fuel\n",
      "\n",
      "Most Sensitive\n",
      "--------------\n",
      "               | Rocket\n",
      "           PMF : +0.81  Propellant Mass Fraction required\n",
      "\n",
      "               | Rocket/SimpleEngine\n",
      "rho_{ox, tank} : +0.39  Density of ox tank (if al)\n",
      "            SF : +0.39  Wall thickness safety factor\n",
      "        Tank P : +0.39  Max Ox Tank pressure\n",
      "  \\sigma_{max} : -0.39  Max stress of tank, Al-7075-T6\n",
      "\n",
      "Tightest Constraints\n",
      "--------------------\n",
      "       | Rocket/SimpleEngine\n",
      "  +2.2 : OF_**-1*m_{ox}_ + m_{ox}_ >= m_{prop}_\n",
      "  +2.1 : m_{prop}_ >= m_{fuel}_ + m_{ox}_\n",
      " +0.95 : m_ >= m_{dry}_ + m_{prop}_\n",
      "\n",
      "       | Rocket\n",
      "  +1.9 : m_ >= m_/Avionics + m_/Boosters + m_/Payload + m_/Recovery + m_/SimpleEngine\n",
      "           + m_/Structures\n",
      " +0.81 : m_{prop}_/SimpleEngine >= PMF_*m_\n",
      "\n"
     ]
    }
   ],
   "source": [
    "import gpkit\n",
    "from gpkit import Model, Variable\n",
    "from gpkit.constraints.tight import Tight\n",
    "from gpkit.constraints.loose import Loose\n",
    "from gpkit.constraints.bounded import Bounded\n",
    "from gpkit import ureg\n",
    "\n",
    "from prettytable import PrettyTable\n",
    "import operator\n",
    "\n",
    "from rocket import Rocket\n",
    "from sankey3 import Sankey\n",
    "\n",
    "import datetime\n",
    "\n",
    "with gpkit.SignomialsEnabled():\n",
    "    r = Rocket()\n",
    "    prob = Model(r.m, Bounded(r))\n",
    "    sol = prob.localsolve(iteration_limit=10)\n",
    "    sol.datetime = datetime.datetime.now().strftime('%d-%m %H:%M')\n",
    "\n",
    "print()\n",
    "print(f'Solved at {sol.datetime}')        \n",
    "print(sol.summary())"
   ]
  },
  {
   "cell_type": "code",
   "execution_count": null,
   "metadata": {},
   "outputs": [],
   "source": []
  },
  {
   "cell_type": "code",
   "execution_count": 2,
   "metadata": {},
   "outputs": [
    {
     "name": "stdout",
     "output_type": "stream",
     "text": [
      "SORTED BY LINEAGE, SENSITIVITY (solved on 05-11 19:18)\n",
      "+----------------+---------------------+----------+--------+--------+---------------------------------------+\n",
      "|            key |             lineage |    value |   unit |   sens |                                 descr |\n",
      "+----------------+---------------------+----------+--------+--------+---------------------------------------+\n",
      "|            PMF |              Rocket |    0.220 |      - |  0.814 |     Propellant Mass Fraction required |\n",
      "|     v_{launch} |              Rocket |   30.000 |    m/s |  0.125 |              Velocity off launch rail |\n",
      "|     L_{launch} |              Rocket |    5.200 |      m | -0.029 |                 Length of launch rail |\n",
      "|              g |              Rocket |    9.810 |  m/s^2 |  0.011 |           Acceleration due to gravity |\n",
      "|     a_{launch} |              Rocket |   86.538 |  m/s^2 |      * |          Acceleration off launch rail |\n",
      "|              m |              Rocket |   27.891 |     kg |      * |                        Mass of Rocket |\n",
      "| TW_{main, min} |              Rocket |    2.500 |      - |  0.000 | Main engine thrust to take off weight |\n",
      "|          min_a |              Rocket |   86.538 |  m/s^2 |      * |           minimum launch acceleration |\n",
      "|              m |     Rocket/Avionics |    1.000 |     kg |  0.069 |                      Mass of Avionics |\n",
      "|            DMF |     Rocket/Boosters |    0.700 |      - |  0.157 |         Dry mass fraction of boosters |\n",
      "|              c |     Rocket/Boosters | 2000.000 |    m/s | -0.067 |                boosters exhaust speed |\n",
      "|              m |     Rocket/Boosters |    0.975 |     kg |      * |                      Mass of Boosters |\n",
      "|       m_{prop} |     Rocket/Boosters |    0.292 |     kg |      * |           Propellant mass of boosters |\n",
      "|        m_{dry} |     Rocket/Boosters |    0.682 |     kg |      * |                  Dry mass of boosters |\n",
      "|       t_{burn} |     Rocket/Boosters |    0.347 |      s |      * |                     Booster burn time |\n",
      "|              F |     Rocket/Boosters | 1687.261 |      N |      * |            Boosters cumulative thrust |\n",
      "|              m |      Rocket/Payload |    4.000 |     kg |  0.275 |                       Mass of Payload |\n",
      "|              m |     Rocket/Recovery |    3.500 |     kg |  0.241 |                      Mass of Recovery |\n",
      "| rho_{ox, tank} | Rocket/SimpleEngine | 8000.000 | kg/m^3 |  0.391 |            Density of ox tank (if al) |\n",
      "|         Tank P | Rocket/SimpleEngine |   60.000 |    bar |  0.391 |                  Max Ox Tank pressure |\n",
      "|             SF | Rocket/SimpleEngine |    3.000 |      - |  0.391 |          Wall thickness safety factor |\n",
      "|   \\sigma_{max} | Rocket/SimpleEngine |  585.000 |    MPa | -0.391 |        Max stress of tank, Al-7075-T6 |\n",
      "|       rho_{ox} | Rocket/SimpleEngine |  650.000 | kg/m^3 | -0.282 |            density of liquid ox ROUGH |\n",
      "|      rho_{wax} | Rocket/SimpleEngine |  900.000 | kg/m^3 | -0.109 |                       Density of fuel |\n",
      "|     m_{valves} | Rocket/SimpleEngine |    1.000 |     kg |  0.069 |           Mass of valves and plumbing |\n",
      "|     m_{nozzle} | Rocket/SimpleEngine |    1.000 |     kg |  0.069 |               Mass of nozzle assembly |\n",
      "|             OF | Rocket/SimpleEngine |    7.500 |      - | -0.063 |                      Ox to fuel ratio |\n",
      "|              F | Rocket/SimpleEngine | 1000.000 |      N | -0.040 |                         Engine thrust |\n",
      "|              m | Rocket/SimpleEngine |   13.816 |     kg |      * |                        Mass of Engine |\n",
      "| m_{grain tank} | Rocket/SimpleEngine |    1.580 |     kg |      * |            Mass of combustion chamber |\n",
      "|    m_{ox tank} | Rocket/SimpleEngine |    4.101 |     kg |      * |                       Mass of ox tank |\n",
      "|       m_{prop} | Rocket/SimpleEngine |    6.136 |     kg |      * |                    Mass of Propellant |\n",
      "|        m_{dry} | Rocket/SimpleEngine |    7.680 |     kg |      * |                    Dry mass of engine |\n",
      "|         m_{ox} | Rocket/SimpleEngine |    5.414 |     kg |      * |                               ox mass |\n",
      "|       m_{fuel} | Rocket/SimpleEngine |    0.722 |     kg |      * |                             fuel mass |\n",
      "|           d_ox | Rocket/SimpleEngine |    6.000 |     in |  0.000 |                   Diameter of ox tank |\n",
      "|       t_{wall} | Rocket/SimpleEngine |    2.345 |     mm |      * |             Wall Thickness of ox tank |\n",
      "|         L_{ox} | Rocket/SimpleEngine |    0.457 |      m |      * |                     Length of ox tank |\n",
      "|       v_{fuel} | Rocket/SimpleEngine |  802.096 |   cm^3 |      * |                        Volume of fuel |\n",
      "|      L_{grain} | Rocket/SimpleEngine |    0.176 |      m |      * |                   Length of the grain |\n",
      "|         V_{ox} | Rocket/SimpleEngine | 8329.458 |   cm^3 |      * |                     Volume of ox tank |\n",
      "|      A_{grain} | Rocket/SimpleEngine |   45.581 |   cm^2 |      * |           cross section area of grain |\n",
      "|              m |   Rocket/Structures |    4.600 |     kg |  0.317 |                    Mass of Structures |\n",
      "+----------------+---------------------+----------+--------+--------+---------------------------------------+\n"
     ]
    }
   ],
   "source": [
    "\n",
    "d=sol['sensitivities']['variables']\n",
    "variables = sol['variables']\n",
    "t = PrettyTable(['key','lineage','value','unit','sens', '-abs(sens)','descr'])\n",
    "for key, val in d.items():\n",
    "    if key in sol['constants'].keys():\n",
    "        sens =  '%4.3f'%val\n",
    "    else:\n",
    "        sens = '*'\n",
    "    \n",
    "    t.add_row([key.name,key.lineagestr(),float(variables[key]),key.unitrepr,sens,-abs(float(val)),key.label])\n",
    "    \n",
    "    \n",
    "\n",
    "t.align='r'\n",
    "t.float_format='5.3'\n",
    "t.reversesort = False\n",
    "t.sortby = '-abs(sens)'\n",
    "\n",
    "t.sort_key=operator.itemgetter(2,6)\n",
    "print('SORTED BY LINEAGE, SENSITIVITY (solved on ' + sol.datetime + ')')\n",
    "print(t.get_string(fields = ['key', 'lineage','value','unit','sens','descr']))\n"
   ]
  },
  {
   "cell_type": "code",
   "execution_count": 3,
   "metadata": {
    "scrolled": false
   },
   "outputs": [
    {
     "name": "stdout",
     "output_type": "stream",
     "text": [
      "SORTED BY SENSITIVITY (solved on 05-11 19:18)\n",
      "+----------------+---------------------+----------+--------+--------+---------------------------------------+\n",
      "|            key |             lineage |    value |   unit |   sens |                                 descr |\n",
      "+----------------+---------------------+----------+--------+--------+---------------------------------------+\n",
      "|            PMF |              Rocket |    0.220 |      - |  0.814 |     Propellant Mass Fraction required |\n",
      "| rho_{ox, tank} | Rocket/SimpleEngine | 8000.000 | kg/m^3 |  0.391 |            Density of ox tank (if al) |\n",
      "|         Tank P | Rocket/SimpleEngine |   60.000 |    bar |  0.391 |                  Max Ox Tank pressure |\n",
      "|             SF | Rocket/SimpleEngine |    3.000 |      - |  0.391 |          Wall thickness safety factor |\n",
      "|   \\sigma_{max} | Rocket/SimpleEngine |  585.000 |    MPa | -0.391 |        Max stress of tank, Al-7075-T6 |\n",
      "|              m |   Rocket/Structures |    4.600 |     kg |  0.317 |                    Mass of Structures |\n",
      "|       rho_{ox} | Rocket/SimpleEngine |  650.000 | kg/m^3 | -0.282 |            density of liquid ox ROUGH |\n",
      "|              m |      Rocket/Payload |    4.000 |     kg |  0.275 |                       Mass of Payload |\n",
      "|              m |     Rocket/Recovery |    3.500 |     kg |  0.241 |                      Mass of Recovery |\n",
      "|            DMF |     Rocket/Boosters |    0.700 |      - |  0.157 |         Dry mass fraction of boosters |\n",
      "|     v_{launch} |              Rocket |   30.000 |    m/s |  0.125 |              Velocity off launch rail |\n",
      "|      rho_{wax} | Rocket/SimpleEngine |  900.000 | kg/m^3 | -0.109 |                       Density of fuel |\n",
      "|     m_{valves} | Rocket/SimpleEngine |    1.000 |     kg |  0.069 |           Mass of valves and plumbing |\n",
      "|     m_{nozzle} | Rocket/SimpleEngine |    1.000 |     kg |  0.069 |               Mass of nozzle assembly |\n",
      "|              m |     Rocket/Avionics |    1.000 |     kg |  0.069 |                      Mass of Avionics |\n",
      "|              c |     Rocket/Boosters | 2000.000 |    m/s | -0.067 |                boosters exhaust speed |\n",
      "|             OF | Rocket/SimpleEngine |    7.500 |      - | -0.063 |                      Ox to fuel ratio |\n",
      "|              F | Rocket/SimpleEngine | 1000.000 |      N | -0.040 |                         Engine thrust |\n",
      "|     L_{launch} |              Rocket |    5.200 |      m | -0.029 |                 Length of launch rail |\n",
      "|              g |              Rocket |    9.810 |  m/s^2 |  0.011 |           Acceleration due to gravity |\n",
      "|              m |     Rocket/Boosters |    0.975 |     kg |      * |                      Mass of Boosters |\n",
      "|              m | Rocket/SimpleEngine |   13.816 |     kg |      * |                        Mass of Engine |\n",
      "| m_{grain tank} | Rocket/SimpleEngine |    1.580 |     kg |      * |            Mass of combustion chamber |\n",
      "|    m_{ox tank} | Rocket/SimpleEngine |    4.101 |     kg |      * |                       Mass of ox tank |\n",
      "|       m_{prop} |     Rocket/Boosters |    0.292 |     kg |      * |           Propellant mass of boosters |\n",
      "|        m_{dry} |     Rocket/Boosters |    0.682 |     kg |      * |                  Dry mass of boosters |\n",
      "|       m_{prop} | Rocket/SimpleEngine |    6.136 |     kg |      * |                    Mass of Propellant |\n",
      "|        m_{dry} | Rocket/SimpleEngine |    7.680 |     kg |      * |                    Dry mass of engine |\n",
      "|         m_{ox} | Rocket/SimpleEngine |    5.414 |     kg |      * |                               ox mass |\n",
      "|       m_{fuel} | Rocket/SimpleEngine |    0.722 |     kg |      * |                             fuel mass |\n",
      "|     a_{launch} |              Rocket |   86.538 |  m/s^2 |      * |          Acceleration off launch rail |\n",
      "|           d_ox | Rocket/SimpleEngine |    6.000 |     in |  0.000 |                   Diameter of ox tank |\n",
      "|              m |              Rocket |   27.891 |     kg |      * |                        Mass of Rocket |\n",
      "| TW_{main, min} |              Rocket |    2.500 |      - |  0.000 | Main engine thrust to take off weight |\n",
      "|       t_{burn} |     Rocket/Boosters |    0.347 |      s |      * |                     Booster burn time |\n",
      "|       t_{wall} | Rocket/SimpleEngine |    2.345 |     mm |      * |             Wall Thickness of ox tank |\n",
      "|              F |     Rocket/Boosters | 1687.261 |      N |      * |            Boosters cumulative thrust |\n",
      "|         L_{ox} | Rocket/SimpleEngine |    0.457 |      m |      * |                     Length of ox tank |\n",
      "|       v_{fuel} | Rocket/SimpleEngine |  802.096 |   cm^3 |      * |                        Volume of fuel |\n",
      "|      L_{grain} | Rocket/SimpleEngine |    0.176 |      m |      * |                   Length of the grain |\n",
      "|         V_{ox} | Rocket/SimpleEngine | 8329.458 |   cm^3 |      * |                     Volume of ox tank |\n",
      "|      A_{grain} | Rocket/SimpleEngine |   45.581 |   cm^2 |      * |           cross section area of grain |\n",
      "|          min_a |              Rocket |   86.538 |  m/s^2 |      * |           minimum launch acceleration |\n",
      "+----------------+---------------------+----------+--------+--------+---------------------------------------+\n"
     ]
    }
   ],
   "source": [
    "t.sort_key=operator.itemgetter(6)\n",
    "print('SORTED BY SENSITIVITY (solved on ' + sol.datetime + ')')\n",
    "print(t.get_string(fields = ['key', 'lineage','value','unit','sens','descr']))"
   ]
  },
  {
   "cell_type": "code",
   "execution_count": 12,
   "metadata": {},
   "outputs": [
    {
     "data": {
      "text/html": [
       "10479.999999999998 centimeter<sup>3</sup>"
      ],
      "text/latex": [
       "$10479.999999999998\\ \\mathrm{centimeter}^{3}$"
      ],
      "text/plain": [
       "10479.999999999998 <Unit('centimeter ** 3')>"
      ]
     },
     "execution_count": 12,
     "metadata": {},
     "output_type": "execute_result"
    }
   ],
   "source": [
    "(0.01048*ureg.m**3).to(ureg.cm**3)"
   ]
  },
  {
   "cell_type": "code",
   "execution_count": 4,
   "metadata": {
    "scrolled": false
   },
   "outputs": [
    {
     "name": "stdout",
     "output_type": "stream",
     "text": [
      "(objective) adds +1 to the sensitivity of m_Rocket\n",
      "(objective) is m_Rocket [kg] \n",
      "\n",
      "Ⓐ adds -1.92 to the overall sensitivity of m_Rocket\n",
      "Ⓐ is m_Rocket >= m_Rocket/Avionics + m_Rocket/Boosters + m_Rocket/Payload + m_Rocket/Recovery + m_Rocket/SimpleEngine + m_Rocket/Structures \n",
      "\n",
      "Ⓑ adds +0.814 to the overall sensitivity of m_Rocket\n",
      "Ⓑ is m_{prop}_Rocket/SimpleEngine >= PMF_Rocket*m_Rocket \n",
      "\n",
      "Ⓒ adds +2.02e-12 to the overall sensitivity of m_Rocket\n",
      "Ⓒ is m_Rocket <= 100 \n",
      "\n",
      "Ⓓ adds -1.25e-11 to the overall sensitivity of m_Rocket\n",
      "Ⓓ is m_Rocket >= 10 \n",
      "\n",
      "Ⓔ adds +4.54e-12 to the overall sensitivity of m_Rocket\n",
      "Ⓔ is F_Rocket/SimpleEngine >= TW_{main, min}_Rocket*g_Rocket*m_Rocket \n",
      "\n",
      "Ⓕ adds +1.04e-13 to the overall sensitivity of m_Rocket\n",
      "Ⓕ is m_Rocket <= 1e+30 \n",
      "\n",
      "Ⓖ adds -9.71e-14 to the overall sensitivity of m_Rocket\n",
      "Ⓖ is m_Rocket >= 1e-30 \n",
      "\n"
     ]
    },
    {
     "data": {
      "application/vnd.jupyter.widget-view+json": {
       "model_id": "cc3d7c18ec344cde87fdc7b5bc82b78c",
       "version_major": 2,
       "version_minor": 0
      },
      "text/plain": [
       "SankeyWidget(layout=Layout(height='400', width='900'), links=[{'source': 'm_Rocket', 'target': 'Model', 'value…"
      ]
     },
     "metadata": {},
     "output_type": "display_data"
    }
   ],
   "source": [
    "Sankey(prob).diagram(r.m)"
   ]
  },
  {
   "cell_type": "code",
   "execution_count": 5,
   "metadata": {},
   "outputs": [],
   "source": [
    "s = Sankey(prob)"
   ]
  },
  {
   "cell_type": "code",
   "execution_count": 6,
   "metadata": {},
   "outputs": [
    {
     "name": "stdout",
     "output_type": "stream",
     "text": [
      "Ⓐ adds +0.0671 to the overall sensitivity of m_{prop}_Rocket/Boosters\n",
      "Ⓐ is m_Rocket/Boosters >= m_{dry}_Rocket/Boosters + m_{prop}_Rocket/Boosters \n",
      "\n",
      "Ⓑ adds -1.65e-09 to the overall sensitivity of m_{prop}_Rocket/Boosters\n",
      "Ⓑ is m_{prop}_Rocket/Boosters >= 0.2 \n",
      "\n",
      "Ⓒ adds -0.0671 to the overall sensitivity of m_{prop}_Rocket/Boosters\n",
      "Ⓒ is c_Rocket/Boosters*m_{prop}_Rocket/Boosters >= F_Rocket/Boosters*t_{burn}_Rocket/Boosters \n",
      "\n",
      "Ⓓ adds +8.65e-14 to the overall sensitivity of m_{prop}_Rocket/Boosters\n",
      "Ⓓ is m_{prop}_Rocket/Boosters <= 1e+30 \n",
      "\n",
      "Ⓔ adds -1.17e-13 to the overall sensitivity of m_{prop}_Rocket/Boosters\n",
      "Ⓔ is m_{prop}_Rocket/Boosters >= 1e-30 \n",
      "\n"
     ]
    },
    {
     "data": {
      "application/vnd.jupyter.widget-view+json": {
       "model_id": "ccabd98861974df6b2bf7789e4b8c4b1",
       "version_major": 2,
       "version_minor": 0
      },
      "text/plain": [
       "SankeyWidget(layout=Layout(height='400', width='900'), links=[{'source': 'm_{prop}_Rocket/Boosters', 'target':…"
      ]
     },
     "metadata": {},
     "output_type": "display_data"
    }
   ],
   "source": [
    "s.sorted_by(\"constraints\", 9)"
   ]
  },
  {
   "cell_type": "code",
   "execution_count": 7,
   "metadata": {
    "scrolled": false
   },
   "outputs": [
    {
     "name": "stdout",
     "output_type": "stream",
     "text": [
      "Ⓐ adds +0.814 to the overall sensitivity of PMF_Rocket\n",
      "Ⓐ is m_{prop}_Rocket/SimpleEngine >= PMF_Rocket*m_Rocket \n",
      "\n"
     ]
    },
    {
     "data": {
      "application/vnd.jupyter.widget-view+json": {
       "model_id": "f8f0b1f3b3de4398b9b0ac77b7c2f980",
       "version_major": 2,
       "version_minor": 0
      },
      "text/plain": [
       "SankeyWidget(layout=Layout(height='400', width='900'), links=[{'source': 'PMF_Rocket', 'target': 'Model', 'val…"
      ]
     },
     "metadata": {},
     "output_type": "display_data"
    }
   ],
   "source": [
    "s.sorted_by(\"maxflow\", 3)"
   ]
  },
  {
   "cell_type": "code",
   "execution_count": 8,
   "metadata": {},
   "outputs": [
    {
     "name": "stdout",
     "output_type": "stream",
     "text": [
      "Ⓐ adds +1.9 to the overall sensitivity of m_{ox}_Rocket/SimpleEngine\n",
      "Ⓐ is m_{prop}_Rocket/SimpleEngine >= m_{fuel}_Rocket/SimpleEngine + m_{ox}_Rocket/SimpleEngine \n",
      "\n",
      "Ⓑ adds -2.18 to the overall sensitivity of m_{ox}_Rocket/SimpleEngine\n",
      "Ⓑ is OF_Rocket/SimpleEngine**-1*m_{ox}_Rocket/SimpleEngine + m_{ox}_Rocket/SimpleEngine >= m_{prop}_Rocket/SimpleEngine \n",
      "\n",
      "Ⓒ adds +0.282 to the overall sensitivity of m_{ox}_Rocket/SimpleEngine\n",
      "Ⓒ is V_{ox}_Rocket/SimpleEngine >= m_{ox}_Rocket/SimpleEngine*rho_{ox}_Rocket/SimpleEngine**-1 \n",
      "\n",
      "Ⓓ adds +1.02e-13 to the overall sensitivity of m_{ox}_Rocket/SimpleEngine\n",
      "Ⓓ is m_{ox}_Rocket/SimpleEngine <= 1e+30 \n",
      "\n",
      "Ⓔ adds -9.94e-14 to the overall sensitivity of m_{ox}_Rocket/SimpleEngine\n",
      "Ⓔ is m_{ox}_Rocket/SimpleEngine >= 1e-30 \n",
      "\n"
     ]
    },
    {
     "data": {
      "application/vnd.jupyter.widget-view+json": {
       "model_id": "44e5efbed1614228b1eba59a4d3e6c47",
       "version_major": 2,
       "version_minor": 0
      },
      "text/plain": [
       "SankeyWidget(layout=Layout(height='400', width='900'), links=[{'source': 'm_{ox}_Rocket/SimpleEngine', 'target…"
      ]
     },
     "metadata": {},
     "output_type": "display_data"
    }
   ],
   "source": [
    "Sankey(prob).diagram(r.engine.m_ox)"
   ]
  },
  {
   "cell_type": "code",
   "execution_count": null,
   "metadata": {},
   "outputs": [],
   "source": []
  },
  {
   "cell_type": "code",
   "execution_count": null,
   "metadata": {},
   "outputs": [],
   "source": []
  }
 ],
 "metadata": {
  "kernelspec": {
   "display_name": "Python 3",
   "language": "python",
   "name": "python3"
  },
  "language_info": {
   "codemirror_mode": {
    "name": "ipython",
    "version": 3
   },
   "file_extension": ".py",
   "mimetype": "text/x-python",
   "name": "python",
   "nbconvert_exporter": "python",
   "pygments_lexer": "ipython3",
   "version": "3.6.7"
  }
 },
 "nbformat": 4,
 "nbformat_minor": 2
}
