{
 "cells": [
  {
   "cell_type": "code",
   "execution_count": 1,
   "metadata": {},
   "outputs": [
    {
     "name": "stdout",
     "output_type": "stream",
     "text": [
      "​"
     ]
    }
   ],
   "source": [
    "#create basic components useful for creating a gpkit model\n",
    "\n",
    "from gpkit import Model, Variable\n",
    "from gpkit.constraints.tight import Tight\n",
    "from gpkit.constraints.bounded import Bounded\n",
    "from gpkit import ureg"
   ]
  },
  {
   "cell_type": "code",
   "execution_count": 2,
   "metadata": {},
   "outputs": [],
   "source": [
    "class Motor(Model):\n",
    "    \n",
    "    def setup(self):\n",
    "        \n",
    "        constraints = []\n",
    "        \n",
    "        #define masses\n",
    "        self.m_dry = Variable(\"m_{dry}\", \"kg\", \"Dry Mass of Motor\")\n",
    "        self.m_propellant = Variable(\"m_{prop}\", \"kg\", \"Propellant Mass of Motor\")\n",
    "        self.m = Variable(\"m\", \"kg\", \"Total mass of motor\")\n",
    "        \n",
    "        constraints += [self.m >= self.m_dry + self.m_propellant] \n",
    "        \n",
    "        #define impulse\n",
    "        self.c = Variable(\"c\", \"m/s\", \"Exhaust speed of motor\")\n",
    "        self.t_burn = Variable(\"t_{burn}\", \"s\", \"Burn Time\")\n",
    "        self.I_t = Variable(\"I_t\", \"N s\", \"Total impulse of motor\")\n",
    "        \n",
    "        self.F_avg = Variable(\"T_{avg}\", \"N\", \"Average force of motor\")\n",
    "        \n",
    "        constraints += [Tight([self.F_avg <= self.m_propellant*self.c/self.t_burn])]\n",
    "        \n",
    "        constraints += [Tight([self.I_t <= self.m_propellant*self.c])]\n",
    "        \n",
    "        return constraints\n",
    "        \n",
    "        \n",
    "class Tube(Model):\n",
    "    \n",
    "    def setup(self):\n",
    "        \n",
    "        constraints = []\n",
    "        \n",
    "        \n",
    "        self.m = Variable(\"m\", \"kg\", \"Mass of Tube\")\n",
    "        \n",
    "        self.l = Variable(\"l\", \"m\", \"Length of Tube\")\n",
    "        \n",
    "        self.C_d = Variable(\"C_d\",  0.2, \"\", \"Drag contribution of Tube\")\n",
    "        \n",
    "        \n",
    "        return constraints\n",
    "        "
   ]
  },
  {
   "cell_type": "code",
   "execution_count": 3,
   "metadata": {},
   "outputs": [],
   "source": [
    "motor = Motor()"
   ]
  },
  {
   "cell_type": "code",
   "execution_count": 4,
   "metadata": {},
   "outputs": [
    {
     "data": {
      "text/latex": [
       "$$\\begin{array}{ll} \\text{}\n",
       "\\text{minimize}\n",
       "    & 1 \\\\\n",
       "\\text{subject to}\n",
       "    & {m}_{Motor} \\geq {m_{dry}}_{Motor} + {m_{prop}}_{Motor} \\\\\n",
       "    & {T_{avg}}_{Motor} \\leq \\frac{{c}_{Motor} {m_{prop}}_{Motor}}{{t_{burn}}_{Motor}} \\\\\n",
       "    & {I_t}_{Motor} \\leq {c}_{Motor} {m_{prop}}_{Motor} \\\\\n",
       "\\end{array}$$"
      ],
      "text/plain": [
       "[gpkit.PosynomialInequality(m_Motor >= m_{dry}_Motor + m_{prop}_Motor),\n",
       " [gpkit.PosynomialInequality(T_{avg}_Motor <= c_Motor*m_{prop}_Motor*t_{burn}_Motor**-1)],\n",
       " [gpkit.PosynomialInequality(I_t_Motor <= c_Motor*m_{prop}_Motor)]]"
      ]
     },
     "execution_count": 4,
     "metadata": {},
     "output_type": "execute_result"
    }
   ],
   "source": [
    "motor"
   ]
  },
  {
   "cell_type": "code",
   "execution_count": 5,
   "metadata": {},
   "outputs": [],
   "source": [
    "class Rocket(Model):\n",
    "    \n",
    "    def setup(self):\n",
    "        #basic\n",
    "        constraints = []\n",
    "        components = self.components = []\n",
    "        \n",
    "        m = self.m  =  Variable(\"m\", \"kg\",\"Mass of Rocket\")\n",
    "        \n",
    "        #motor\n",
    "        motor = self.motor = Motor()\n",
    "        components += [motor]\n",
    "        \n",
    "        constraints += [motor.m_dry >= 0.2*ureg.kg]\n",
    "        constraints += [motor.m_propellant >= 0.5*ureg.kg]\n",
    "        \n",
    "        tube = self.tube = Tube()\n",
    "        components += [tube]\n",
    "        \n",
    "        constraints += [tube.m >= 0.2*ureg.kg]\n",
    "        \n",
    "        constraints += [m >= sum(comp.m for comp in components)]\n",
    "        return [components, constraints]\n",
    "        "
   ]
  },
  {
   "cell_type": "code",
   "execution_count": 6,
   "metadata": {},
   "outputs": [],
   "source": [
    "rocket = Rocket()"
   ]
  },
  {
   "cell_type": "code",
   "execution_count": 7,
   "metadata": {},
   "outputs": [
    {
     "data": {
      "text/latex": [
       "$$\\begin{array}{ll} \\text{}\n",
       "\\text{minimize}\n",
       "    & 1 \\\\\n",
       "\\text{subject to}\n",
       "    & Motor_{0} \\\\\n",
       "    & Tube_{0} \\\\\n",
       "    & {m_{dry}}_{Rocket/Motor} \\geq 0.2 \\\\\n",
       "    & {m_{prop}}_{Rocket/Motor} \\geq 0.5 \\\\\n",
       "    & {m}_{Rocket/Tube} \\geq 0.2 \\\\\n",
       "    & {m}_{Rocket} \\geq {m}_{Rocket/Motor} + {m}_{Rocket/Tube} \\\\\n",
       "\\end{array}$$"
      ],
      "text/plain": [
       "[[[gpkit.PosynomialInequality(m_Rocket/Motor >= m_{dry}_Rocket/Motor + m_{prop}_Rocket/Motor),\n",
       "   [gpkit.PosynomialInequality(T_{avg}_Rocket/Motor <= c_Rocket/Motor*m_{prop}_Rocket/Motor*t_{burn}_Rocket/Motor**-1)],\n",
       "   [gpkit.PosynomialInequality(I_t_Rocket/Motor <= c_Rocket/Motor*m_{prop}_Rocket/Motor)]],\n",
       "  []],\n",
       " [gpkit.PosynomialInequality(m_{dry}_Rocket/Motor >= 0.2),\n",
       "  gpkit.PosynomialInequality(m_{prop}_Rocket/Motor >= 0.5),\n",
       "  gpkit.PosynomialInequality(m_Rocket/Tube >= 0.2),\n",
       "  gpkit.PosynomialInequality(m_Rocket >= m_Rocket/Motor + m_Rocket/Tube)]]"
      ]
     },
     "execution_count": 7,
     "metadata": {},
     "output_type": "execute_result"
    }
   ],
   "source": [
    "rocket"
   ]
  },
  {
   "cell_type": "code",
   "execution_count": 8,
   "metadata": {},
   "outputs": [],
   "source": [
    "optimizer = Model(rocket.m, Bounded(rocket))"
   ]
  },
  {
   "cell_type": "code",
   "execution_count": 9,
   "metadata": {},
   "outputs": [
    {
     "data": {
      "text/latex": [
       "$$\\begin{array}{ll} \\text{}\n",
       "\\text{minimize}\n",
       "    & {m}_{Rocket} \\\\\n",
       "\\text{subject to}\n",
       "    & Rocket_{0} \\\\\n",
       "    & {m}_{Rocket/Tube} \\leq 1 \\times 10^{30} \\\\\n",
       "    & {m}_{Rocket/Tube} \\geq 1 \\times 10^{-30} \\\\\n",
       "    & {m}_{Rocket/Motor} \\leq 1 \\times 10^{30} \\\\\n",
       "    & {m}_{Rocket/Motor} \\geq 1 \\times 10^{-30} \\\\\n",
       "    & {m}_{Rocket} \\leq 1 \\times 10^{30} \\\\\n",
       "    & {m}_{Rocket} \\geq 1 \\times 10^{-30} \\\\\n",
       "    & {c}_{Rocket/Motor} \\leq 1 \\times 10^{30} \\\\\n",
       "    & {c}_{Rocket/Motor} \\geq 1 \\times 10^{-30} \\\\\n",
       "    & {m_{dry}}_{Rocket/Motor} \\leq 1 \\times 10^{30} \\\\\n",
       "    & {m_{dry}}_{Rocket/Motor} \\geq 1 \\times 10^{-30} \\\\\n",
       "    & {m_{prop}}_{Rocket/Motor} \\leq 1 \\times 10^{30} \\\\\n",
       "    & {m_{prop}}_{Rocket/Motor} \\geq 1 \\times 10^{-30} \\\\\n",
       "    & {T_{avg}}_{Rocket/Motor} \\leq 1 \\times 10^{30} \\\\\n",
       "    & {T_{avg}}_{Rocket/Motor} \\geq 1 \\times 10^{-30} \\\\\n",
       "    & {I_t}_{Rocket/Motor} \\leq 1 \\times 10^{30} \\\\\n",
       "    & {I_t}_{Rocket/Motor} \\geq 1 \\times 10^{-30} \\\\\n",
       "    & {t_{burn}}_{Rocket/Motor} \\leq 1 \\times 10^{30} \\\\\n",
       "    & {t_{burn}}_{Rocket/Motor} \\geq 1 \\times 10^{-30} \\\\\n",
       "\\end{array}$$"
      ],
      "text/plain": [
       "[[[[[gpkit.PosynomialInequality(m_Rocket/Motor >= m_{dry}_Rocket/Motor + m_{prop}_Rocket/Motor),\n",
       "     [gpkit.PosynomialInequality(T_{avg}_Rocket/Motor <= c_Rocket/Motor*m_{prop}_Rocket/Motor*t_{burn}_Rocket/Motor**-1)],\n",
       "     [gpkit.PosynomialInequality(I_t_Rocket/Motor <= c_Rocket/Motor*m_{prop}_Rocket/Motor)]],\n",
       "    []],\n",
       "   [gpkit.PosynomialInequality(m_{dry}_Rocket/Motor >= 0.2),\n",
       "    gpkit.PosynomialInequality(m_{prop}_Rocket/Motor >= 0.5),\n",
       "    gpkit.PosynomialInequality(m_Rocket/Tube >= 0.2),\n",
       "    gpkit.PosynomialInequality(m_Rocket >= m_Rocket/Motor + m_Rocket/Tube)]],\n",
       "  [[gpkit.PosynomialInequality(m_Rocket/Tube <= 1e+30),\n",
       "    gpkit.PosynomialInequality(m_Rocket/Tube >= 1e-30)],\n",
       "   [gpkit.PosynomialInequality(m_Rocket/Motor <= 1e+30),\n",
       "    gpkit.PosynomialInequality(m_Rocket/Motor >= 1e-30)],\n",
       "   [gpkit.PosynomialInequality(m_Rocket <= 1e+30),\n",
       "    gpkit.PosynomialInequality(m_Rocket >= 1e-30)],\n",
       "   [gpkit.PosynomialInequality(c_Rocket/Motor <= 1e+30),\n",
       "    gpkit.PosynomialInequality(c_Rocket/Motor >= 1e-30)],\n",
       "   [gpkit.PosynomialInequality(m_{dry}_Rocket/Motor <= 1e+30),\n",
       "    gpkit.PosynomialInequality(m_{dry}_Rocket/Motor >= 1e-30)],\n",
       "   [gpkit.PosynomialInequality(m_{prop}_Rocket/Motor <= 1e+30),\n",
       "    gpkit.PosynomialInequality(m_{prop}_Rocket/Motor >= 1e-30)],\n",
       "   [gpkit.PosynomialInequality(T_{avg}_Rocket/Motor <= 1e+30),\n",
       "    gpkit.PosynomialInequality(T_{avg}_Rocket/Motor >= 1e-30)],\n",
       "   [gpkit.PosynomialInequality(I_t_Rocket/Motor <= 1e+30),\n",
       "    gpkit.PosynomialInequality(I_t_Rocket/Motor >= 1e-30)],\n",
       "   [gpkit.PosynomialInequality(t_{burn}_Rocket/Motor <= 1e+30),\n",
       "    gpkit.PosynomialInequality(t_{burn}_Rocket/Motor >= 1e-30)]]]]"
      ]
     },
     "execution_count": 9,
     "metadata": {},
     "output_type": "execute_result"
    }
   ],
   "source": [
    "optimizer"
   ]
  },
  {
   "cell_type": "code",
   "execution_count": 10,
   "metadata": {
    "scrolled": false
   },
   "outputs": [
    {
     "name": "stdout",
     "output_type": "stream",
     "text": [
      "Using solver 'cvxopt'\n",
      "Solving for 9 variables.\n",
      "Solving took 0.0501 seconds.\n",
      "\n",
      "Cost\n",
      "----\n",
      " 0.9 [kg]\n",
      "\n",
      "Warnings\n",
      "========\n",
      "Unexpectedly Loose Constraints\n",
      "------------------------------\n",
      "0.4834 <= 6.985 : T_{avg} <= c*m_{prop}*t_{burn}**-1\n",
      "0.3073 <= 3.376 : I_t <= c*m_{prop}\n",
      "\n",
      "Free Variables\n",
      "--------------\n",
      "         | Rocket\n",
      "       m : 0.9     [kg]  Mass of Rocket\n",
      "\n",
      "         | Rocket/Motor\n",
      "     I_t : 0.3073  [N·s] Total impulse of motor\n",
      " T_{avg} : 0.4834  [N]   Average force of motor\n",
      "       c : 6.753   [m/s] Exhaust speed of motor\n",
      "       m : 0.7     [kg]  Total mass of motor\n",
      " m_{dry} : 0.2     [kg]  Dry Mass of Motor\n",
      "m_{prop} : 0.5     [kg]  Propellant Mass of Motor\n",
      "t_{burn} : 0.4834  [s]   Burn Time\n",
      "\n",
      "         | Rocket/Tube\n",
      "       m : 0.2     [kg]  Mass of Tube\n",
      "\n",
      "Tightest Constraints\n",
      "--------------------\n",
      "       | Rocket\n",
      "    +1 : m_ >= m_/Motor + m_/Tube\n",
      " +0.56 : m_{prop}_/Motor >= 0.5\n",
      " +0.22 : m_/Tube >= 0.2\n",
      " +0.22 : m_{dry}_/Motor >= 0.2\n",
      "\n",
      "       | Rocket/Motor\n",
      " +0.78 : m_ >= m_{dry}_ + m_{prop}_\n",
      "\n"
     ]
    }
   ],
   "source": [
    "sol = optimizer.solve()\n",
    "print(sol.summary())"
   ]
  },
  {
   "cell_type": "code",
   "execution_count": null,
   "metadata": {},
   "outputs": [],
   "source": []
  },
  {
   "cell_type": "code",
   "execution_count": null,
   "metadata": {},
   "outputs": [],
   "source": []
  }
 ],
 "metadata": {
  "kernelspec": {
   "display_name": "Python 3",
   "language": "python",
   "name": "python3"
  },
  "language_info": {
   "codemirror_mode": {
    "name": "ipython",
    "version": 3
   },
   "file_extension": ".py",
   "mimetype": "text/x-python",
   "name": "python",
   "nbconvert_exporter": "python",
   "pygments_lexer": "ipython3",
   "version": "3.6.7"
  }
 },
 "nbformat": 4,
 "nbformat_minor": 2
}
