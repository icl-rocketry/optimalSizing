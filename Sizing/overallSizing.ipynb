{
 "cells": [
  {
   "cell_type": "code",
   "execution_count": 1,
   "metadata": {
    "scrolled": false
   },
   "outputs": [
    {
     "name": "stdout",
     "output_type": "stream",
     "text": [
      "​Beginning signomial solve.\n",
      "Solving took 5 GP solves and 1.6 seconds.\n",
      "\n",
      "Solved at 18-10 14:08\n",
      "\n",
      "Cost\n",
      "----\n",
      " 32.74 [kg]\n",
      "\n",
      "Warnings\n",
      "========\n",
      "Unexpectedly Tight Constraints\n",
      "------------------------------\n",
      " +0.27 : L_{ox} >= 0.5\n",
      "\n",
      "Free Variables\n",
      "--------------\n",
      "               | Rocket\n",
      "    a_{launch} : 90         [m/s²] Acceleration off launch rail\n",
      "             m : 32.74      [kg]   Mass of Rocket\n",
      "         min_a : 90         [m/s²] minimum launch acceleration\n",
      "\n",
      "               | Rocket/Boosters\n",
      "             F : 2268       [N]    Boosters cumulative thrust\n",
      "             m : 1.26       [kg]   Mass of Boosters\n",
      "       m_{dry} : 0.8819     [kg]   Dry mass of boosters\n",
      "      m_{prop} : 0.378      [kg]   Propellant mass of boosters\n",
      "      t_{burn} : 0.3333     [s]    Booster burn time\n",
      "\n",
      "               | Rocket/SimpleEngine\n",
      "     A_{grain} : 127.2      [cm²]  cross section area of grain\n",
      "     L_{grain} : 0.08173    [m]    Length of the grain\n",
      "        L_{ox} : 0.5        [m]    Length of ox tank\n",
      "        V_{ox} : 1.207e+04  [cm³]  Volume of ox tank\n",
      "             m : 15.98      [kg]   Mass of Engine\n",
      "       m_{dry} : 9.432      [kg]   Dry mass of engine\n",
      "      m_{fuel} : 0.9354     [kg]   fuel mass\n",
      "m_{grain tank} : 1.044      [kg]   Mass of grain tank\n",
      "   m_{ox tank} : 6.388      [kg]   Mass of ox tank\n",
      "        m_{ox} : 5.613      [kg]   ox mass\n",
      "      m_{prop} : 6.548      [kg]   Mass of Propellant\n",
      "      t_{wall} : 8.372      [mm]   Wall Thickness of ox tank\n",
      "      v_{fuel} : 1039       [cm³]  Volume of fuel\n",
      "\n",
      "               | Rocket/Structures\n",
      "             m : 6          [kg]   Mass of Structures\n",
      "\n",
      "Most Sensitive\n",
      "--------------\n",
      "             | Rocket\n",
      "         PMF : +0.33  Propellant Mass Fraction required\n",
      "\n",
      "             | Rocket/SimpleEngine\n",
      "        d_ox : +0.55  Diameter of ox tank\n",
      "      Tank P : +0.32  Max Ox Tank pressure\n",
      "          SF : +0.32  Wall thickness safety factor\n",
      "\\sigma_{max} : -0.32  Max stress of tank, Al-7075-T6\n",
      "\n",
      "Tightest Constraints\n",
      "--------------------\n",
      "       | Rocket/SimpleEngine\n",
      "  +2.3 : m_{prop}_ >= m_{fuel}_ + m_{ox}_\n",
      "    +2 : OF_**-1*m_{ox}_ + m_{ox}_ >= m_{prop}_\n",
      " +0.68 : m_ >= m_{dry}_ + m_{prop}_\n",
      "  +0.4 : m_{dry}_ >= m_{grain tank}_ + m_{nozzle}_ + m_{ox tank}_ + m_{valves}_\n",
      "\n",
      "       | Rocket\n",
      "  +1.4 : m_ >= m_/Avionics + m_/Boosters + m_/Payload + m_/Recovery + m_/SimpleEngine\n",
      "           + m_/Structures\n",
      "\n"
     ]
    }
   ],
   "source": [
    "import gpkit\n",
    "from gpkit import Model, Variable\n",
    "from gpkit.constraints.tight import Tight\n",
    "from gpkit.constraints.loose import Loose\n",
    "from gpkit.constraints.bounded import Bounded\n",
    "from gpkit import ureg\n",
    "\n",
    "from prettytable import PrettyTable\n",
    "import operator\n",
    "\n",
    "from rocket import Rocket\n",
    "from sankey3 import Sankey\n",
    "\n",
    "import datetime\n",
    "\n",
    "with gpkit.SignomialsEnabled():\n",
    "    r = Rocket()\n",
    "    prob = Model(r.m, Bounded(r))\n",
    "    sol = prob.localsolve(iteration_limit=10)\n",
    "    sol.datetime = datetime.datetime.now().strftime('%d-%m %H:%M')\n",
    "\n",
    "print()\n",
    "print(f'Solved at {sol.datetime}')        \n",
    "print(sol.summary())"
   ]
  },
  {
   "cell_type": "code",
   "execution_count": null,
   "metadata": {},
   "outputs": [],
   "source": []
  },
  {
   "cell_type": "code",
   "execution_count": 2,
   "metadata": {},
   "outputs": [
    {
     "name": "stdout",
     "output_type": "stream",
     "text": [
      "SORTED BY LINEAGE, SENSITIVITY (solved on 18-10 14:08)\n",
      "+-------------------+---------------------+-----------+--------+--------+---------------------------------------+\n",
      "|               key |             lineage |     value |   unit |   sens |                                 descr |\n",
      "+-------------------+---------------------+-----------+--------+--------+---------------------------------------+\n",
      "|               PMF |              Rocket |     0.200 |      - |  0.325 |     Propellant Mass Fraction required |\n",
      "|        v_{launch} |              Rocket |    30.000 |    m/s |  0.086 |              Velocity off launch rail |\n",
      "|        L_{launch} |              Rocket |     5.000 |      m | -0.016 |                 Length of launch rail |\n",
      "|                 g |              Rocket |     9.810 |  m/s^2 |  0.008 |           Acceleration due to gravity |\n",
      "|        a_{launch} |              Rocket |    90.000 |  m/s^2 |      * |          Acceleration off launch rail |\n",
      "|                 m |              Rocket |    32.740 |     kg |      * |                        Mass of Rocket |\n",
      "|    TW_{main, min} |              Rocket |     2.500 |      - |  0.000 | Main engine thrust to take off weight |\n",
      "|             min_a |              Rocket |    90.000 |  m/s^2 |      * |           minimum launch acceleration |\n",
      "|                 m |     Rocket/Avionics |     2.000 |     kg |  0.086 |                      Mass of Avionics |\n",
      "|               DMF |     Rocket/Boosters |     0.700 |      - |  0.126 |         Dry mass fraction of boosters |\n",
      "|                 c |     Rocket/Boosters |  2000.000 |    m/s | -0.054 |                boosters exhaust speed |\n",
      "|                 m |     Rocket/Boosters |     1.260 |     kg |      * |                      Mass of Boosters |\n",
      "|          m_{prop} |     Rocket/Boosters |     0.378 |     kg |      * |           Propellant mass of boosters |\n",
      "|           m_{dry} |     Rocket/Boosters |     0.882 |     kg |      * |                  Dry mass of boosters |\n",
      "|          t_{burn} |     Rocket/Boosters |     0.333 |      s |      * |                     Booster burn time |\n",
      "|                 F |     Rocket/Boosters |  2267.804 |      N |      * |            Boosters cumulative thrust |\n",
      "|                 m |      Rocket/Payload |     4.500 |     kg |  0.193 |                       Mass of Payload |\n",
      "|                 m |     Rocket/Recovery |     3.000 |     kg |  0.129 |                      Mass of Recovery |\n",
      "|              d_ox | Rocket/SimpleEngine |    18.000 |     cm |  0.548 |                   Diameter of ox tank |\n",
      "|                SF | Rocket/SimpleEngine |     5.000 |      - |  0.319 |          Wall thickness safety factor |\n",
      "|      \\sigma_{max} | Rocket/SimpleEngine |   430.000 |    MPa | -0.319 |        Max stress of tank, Al-7075-T6 |\n",
      "|            Tank P | Rocket/SimpleEngine |    80.000 |    bar |  0.319 |                  Max Ox Tank pressure |\n",
      "|    rho_{ox, tank} | Rocket/SimpleEngine |  2700.000 | kg/m^3 |  0.319 |            Density of ox tank (if al) |\n",
      "|         rho_{wax} | Rocket/SimpleEngine |   900.000 | kg/m^3 | -0.045 |                       Density of fuel |\n",
      "|        m_{valves} | Rocket/SimpleEngine |     1.000 |     kg |  0.043 |           Mass of valves and plumbing |\n",
      "|        m_{nozzle} | Rocket/SimpleEngine |     1.000 |     kg |  0.043 |               Mass of nozzle assembly |\n",
      "|                OF | Rocket/SimpleEngine |     6.000 |      - | -0.038 |                      Ox to fuel ratio |\n",
      "|                 F | Rocket/SimpleEngine |  1000.000 |      N | -0.024 |                         Engine thrust |\n",
      "|    m_{grain tank} | Rocket/SimpleEngine |     1.044 |     kg |      * |                    Mass of grain tank |\n",
      "|                 m | Rocket/SimpleEngine |    15.980 |     kg |      * |                        Mass of Engine |\n",
      "|       m_{ox tank} | Rocket/SimpleEngine |     6.388 |     kg |      * |                       Mass of ox tank |\n",
      "|           m_{dry} | Rocket/SimpleEngine |     9.432 |     kg |      * |                    Dry mass of engine |\n",
      "|          m_{prop} | Rocket/SimpleEngine |     6.548 |     kg |      * |                    Mass of Propellant |\n",
      "|            m_{ox} | Rocket/SimpleEngine |     5.613 |     kg |      * |                               ox mass |\n",
      "|          m_{fuel} | Rocket/SimpleEngine |     0.935 |     kg |      * |                             fuel mass |\n",
      "|          t_{wall} | Rocket/SimpleEngine |     8.372 |     mm |      * |             Wall Thickness of ox tank |\n",
      "|          rho_{ox} | Rocket/SimpleEngine |   490.000 | kg/m^3 | -0.000 |                  density of liquid ox |\n",
      "|            L_{ox} | Rocket/SimpleEngine |     0.500 |      m |      * |                     Length of ox tank |\n",
      "|         L_{grain} | Rocket/SimpleEngine |     0.082 |      m |      * |                   Length of the grain |\n",
      "|          v_{fuel} | Rocket/SimpleEngine |  1039.372 |   cm^3 |      * |                        Volume of fuel |\n",
      "|         A_{grain} | Rocket/SimpleEngine |   127.170 |   cm^2 |      * |           cross section area of grain |\n",
      "|            V_{ox} | Rocket/SimpleEngine | 12069.488 |   cm^3 |      * |                     Volume of ox tank |\n",
      "|          m_{tube} |   Rocket/Structures |     4.000 |     kg |  0.171 |                                  None |\n",
      "|          m_{fins} |   Rocket/Structures |     1.200 |     kg |  0.051 |     Mass of fins and mounting of fins |\n",
      "|            m_{nc} |   Rocket/Structures |     0.500 |     kg |  0.021 |                     Mass of nose cone |\n",
      "| m_{booster_struc} |   Rocket/Structures |     0.300 |     kg |  0.013 |         Mass needed to mount boosters |\n",
      "|                 m |   Rocket/Structures |     6.000 |     kg |      * |                    Mass of Structures |\n",
      "+-------------------+---------------------+-----------+--------+--------+---------------------------------------+\n"
     ]
    }
   ],
   "source": [
    "\n",
    "d=sol['sensitivities']['variables']\n",
    "variables = sol['variables']\n",
    "t = PrettyTable(['key','lineage','value','unit','sens', '-abs(sens)','descr'])\n",
    "for key, val in d.items():\n",
    "    if key in sol['constants'].keys():\n",
    "        sens =  '%4.3f'%val\n",
    "    else:\n",
    "        sens = '*'\n",
    "    \n",
    "    t.add_row([key.name,key.lineagestr(),float(variables[key]),key.unitrepr,sens,-abs(float(val)),key.label])\n",
    "    \n",
    "    \n",
    "\n",
    "t.align='r'\n",
    "t.float_format='5.3'\n",
    "t.reversesort = False\n",
    "t.sortby = '-abs(sens)'\n",
    "\n",
    "t.sort_key=operator.itemgetter(2,6)\n",
    "print('SORTED BY LINEAGE, SENSITIVITY (solved on ' + sol.datetime + ')')\n",
    "print(t.get_string(fields = ['key', 'lineage','value','unit','sens','descr']))\n"
   ]
  },
  {
   "cell_type": "code",
   "execution_count": 3,
   "metadata": {
    "scrolled": false
   },
   "outputs": [
    {
     "name": "stdout",
     "output_type": "stream",
     "text": [
      "SORTED BY SENSITIVITY (solved on 18-10 14:08)\n",
      "+-------------------+---------------------+-----------+--------+--------+---------------------------------------+\n",
      "|               key |             lineage |     value |   unit |   sens |                                 descr |\n",
      "+-------------------+---------------------+-----------+--------+--------+---------------------------------------+\n",
      "|              d_ox | Rocket/SimpleEngine |    18.000 |     cm |  0.548 |                   Diameter of ox tank |\n",
      "|               PMF |              Rocket |     0.200 |      - |  0.325 |     Propellant Mass Fraction required |\n",
      "|                SF | Rocket/SimpleEngine |     5.000 |      - |  0.319 |          Wall thickness safety factor |\n",
      "|      \\sigma_{max} | Rocket/SimpleEngine |   430.000 |    MPa | -0.319 |        Max stress of tank, Al-7075-T6 |\n",
      "|            Tank P | Rocket/SimpleEngine |    80.000 |    bar |  0.319 |                  Max Ox Tank pressure |\n",
      "|    rho_{ox, tank} | Rocket/SimpleEngine |  2700.000 | kg/m^3 |  0.319 |            Density of ox tank (if al) |\n",
      "|                 m |      Rocket/Payload |     4.500 |     kg |  0.193 |                       Mass of Payload |\n",
      "|          m_{tube} |   Rocket/Structures |     4.000 |     kg |  0.171 |                                  None |\n",
      "|                 m |     Rocket/Recovery |     3.000 |     kg |  0.129 |                      Mass of Recovery |\n",
      "|               DMF |     Rocket/Boosters |     0.700 |      - |  0.126 |         Dry mass fraction of boosters |\n",
      "|        v_{launch} |              Rocket |    30.000 |    m/s |  0.086 |              Velocity off launch rail |\n",
      "|                 m |     Rocket/Avionics |     2.000 |     kg |  0.086 |                      Mass of Avionics |\n",
      "|                 c |     Rocket/Boosters |  2000.000 |    m/s | -0.054 |                boosters exhaust speed |\n",
      "|          m_{fins} |   Rocket/Structures |     1.200 |     kg |  0.051 |     Mass of fins and mounting of fins |\n",
      "|         rho_{wax} | Rocket/SimpleEngine |   900.000 | kg/m^3 | -0.045 |                       Density of fuel |\n",
      "|        m_{valves} | Rocket/SimpleEngine |     1.000 |     kg |  0.043 |           Mass of valves and plumbing |\n",
      "|        m_{nozzle} | Rocket/SimpleEngine |     1.000 |     kg |  0.043 |               Mass of nozzle assembly |\n",
      "|                OF | Rocket/SimpleEngine |     6.000 |      - | -0.038 |                      Ox to fuel ratio |\n",
      "|                 F | Rocket/SimpleEngine |  1000.000 |      N | -0.024 |                         Engine thrust |\n",
      "|            m_{nc} |   Rocket/Structures |     0.500 |     kg |  0.021 |                     Mass of nose cone |\n",
      "|        L_{launch} |              Rocket |     5.000 |      m | -0.016 |                 Length of launch rail |\n",
      "| m_{booster_struc} |   Rocket/Structures |     0.300 |     kg |  0.013 |         Mass needed to mount boosters |\n",
      "|                 g |              Rocket |     9.810 |  m/s^2 |  0.008 |           Acceleration due to gravity |\n",
      "|                 m |     Rocket/Boosters |     1.260 |     kg |      * |                      Mass of Boosters |\n",
      "|    m_{grain tank} | Rocket/SimpleEngine |     1.044 |     kg |      * |                    Mass of grain tank |\n",
      "|                 m | Rocket/SimpleEngine |    15.980 |     kg |      * |                        Mass of Engine |\n",
      "|       m_{ox tank} | Rocket/SimpleEngine |     6.388 |     kg |      * |                       Mass of ox tank |\n",
      "|                 m |   Rocket/Structures |     6.000 |     kg |      * |                    Mass of Structures |\n",
      "|          m_{prop} |     Rocket/Boosters |     0.378 |     kg |      * |           Propellant mass of boosters |\n",
      "|           m_{dry} |     Rocket/Boosters |     0.882 |     kg |      * |                  Dry mass of boosters |\n",
      "|           m_{dry} | Rocket/SimpleEngine |     9.432 |     kg |      * |                    Dry mass of engine |\n",
      "|          m_{prop} | Rocket/SimpleEngine |     6.548 |     kg |      * |                    Mass of Propellant |\n",
      "|        a_{launch} |              Rocket |    90.000 |  m/s^2 |      * |          Acceleration off launch rail |\n",
      "|            m_{ox} | Rocket/SimpleEngine |     5.613 |     kg |      * |                               ox mass |\n",
      "|          m_{fuel} | Rocket/SimpleEngine |     0.935 |     kg |      * |                             fuel mass |\n",
      "|                 m |              Rocket |    32.740 |     kg |      * |                        Mass of Rocket |\n",
      "|    TW_{main, min} |              Rocket |     2.500 |      - |  0.000 | Main engine thrust to take off weight |\n",
      "|          t_{wall} | Rocket/SimpleEngine |     8.372 |     mm |      * |             Wall Thickness of ox tank |\n",
      "|          t_{burn} |     Rocket/Boosters |     0.333 |      s |      * |                     Booster burn time |\n",
      "|          rho_{ox} | Rocket/SimpleEngine |   490.000 | kg/m^3 | -0.000 |                  density of liquid ox |\n",
      "|                 F |     Rocket/Boosters |  2267.804 |      N |      * |            Boosters cumulative thrust |\n",
      "|            L_{ox} | Rocket/SimpleEngine |     0.500 |      m |      * |                     Length of ox tank |\n",
      "|         L_{grain} | Rocket/SimpleEngine |     0.082 |      m |      * |                   Length of the grain |\n",
      "|          v_{fuel} | Rocket/SimpleEngine |  1039.372 |   cm^3 |      * |                        Volume of fuel |\n",
      "|         A_{grain} | Rocket/SimpleEngine |   127.170 |   cm^2 |      * |           cross section area of grain |\n",
      "|             min_a |              Rocket |    90.000 |  m/s^2 |      * |           minimum launch acceleration |\n",
      "|            V_{ox} | Rocket/SimpleEngine | 12069.488 |   cm^3 |      * |                     Volume of ox tank |\n",
      "+-------------------+---------------------+-----------+--------+--------+---------------------------------------+\n"
     ]
    }
   ],
   "source": [
    "t.sort_key=operator.itemgetter(6)\n",
    "print('SORTED BY SENSITIVITY (solved on ' + sol.datetime + ')')\n",
    "print(t.get_string(fields = ['key', 'lineage','value','unit','sens','descr']))"
   ]
  },
  {
   "cell_type": "code",
   "execution_count": null,
   "metadata": {},
   "outputs": [],
   "source": []
  },
  {
   "cell_type": "code",
   "execution_count": 4,
   "metadata": {
    "scrolled": false
   },
   "outputs": [
    {
     "name": "stdout",
     "output_type": "stream",
     "text": [
      "(objective) adds +1 to the sensitivity of m_Rocket\n",
      "(objective) is m_Rocket [kg] \n",
      "\n",
      "Ⓐ adds -1.4 to the overall sensitivity of m_Rocket\n",
      "Ⓐ is m_Rocket >= m_Rocket/Avionics + m_Rocket/Boosters + m_Rocket/Payload + m_Rocket/Recovery + m_Rocket/SimpleEngine + m_Rocket/Structures \n",
      "\n",
      "Ⓑ adds +0.325 to the overall sensitivity of m_Rocket\n",
      "Ⓑ is m_{prop}_Rocket/SimpleEngine >= PMF_Rocket*m_Rocket \n",
      "\n",
      "Ⓒ adds +5.9e-11 to the overall sensitivity of m_Rocket\n",
      "Ⓒ is m_Rocket <= 100 \n",
      "\n",
      "Ⓓ adds -5.37e-11 to the overall sensitivity of m_Rocket\n",
      "Ⓓ is m_Rocket >= 10 \n",
      "\n",
      "Ⓔ adds +3.63e-11 to the overall sensitivity of m_Rocket\n",
      "Ⓔ is F_Rocket/SimpleEngine >= TW_{main, min}_Rocket*g_Rocket*m_Rocket \n",
      "\n",
      "Ⓕ adds +7.16e-13 to the overall sensitivity of m_Rocket\n",
      "Ⓕ is m_Rocket <= 1e+30 \n",
      "\n",
      "Ⓖ adds -6.54e-13 to the overall sensitivity of m_Rocket\n",
      "Ⓖ is m_Rocket >= 1e-30 \n",
      "\n"
     ]
    },
    {
     "data": {
      "application/vnd.jupyter.widget-view+json": {
       "model_id": "d54903e721ae4fa5bafeaefeb39031de",
       "version_major": 2,
       "version_minor": 0
      },
      "text/plain": [
       "SankeyWidget(layout=Layout(height='400', width='900'), links=[{'source': 'm_Rocket', 'target': 'Model', 'value…"
      ]
     },
     "metadata": {},
     "output_type": "display_data"
    }
   ],
   "source": [
    "Sankey(prob).diagram(r.m)"
   ]
  },
  {
   "cell_type": "code",
   "execution_count": 5,
   "metadata": {},
   "outputs": [],
   "source": [
    "s = Sankey(prob)"
   ]
  },
  {
   "cell_type": "code",
   "execution_count": 6,
   "metadata": {},
   "outputs": [
    {
     "name": "stdout",
     "output_type": "stream",
     "text": [
      "Ⓐ adds +0.054 to the overall sensitivity of m_{prop}_Rocket/Boosters\n",
      "Ⓐ is m_Rocket/Boosters >= m_{dry}_Rocket/Boosters + m_{prop}_Rocket/Boosters \n",
      "\n",
      "Ⓑ adds -5.92e-10 to the overall sensitivity of m_{prop}_Rocket/Boosters\n",
      "Ⓑ is m_{prop}_Rocket/Boosters >= 0.2 \n",
      "\n",
      "Ⓒ adds -0.054 to the overall sensitivity of m_{prop}_Rocket/Boosters\n",
      "Ⓒ is c_Rocket/Boosters*m_{prop}_Rocket/Boosters >= F_Rocket/Boosters*t_{burn}_Rocket/Boosters \n",
      "\n",
      "Ⓓ adds +6.49e-13 to the overall sensitivity of m_{prop}_Rocket/Boosters\n",
      "Ⓓ is m_{prop}_Rocket/Boosters <= 1e+30 \n",
      "\n",
      "Ⓔ adds -7.21e-13 to the overall sensitivity of m_{prop}_Rocket/Boosters\n",
      "Ⓔ is m_{prop}_Rocket/Boosters >= 1e-30 \n",
      "\n"
     ]
    },
    {
     "data": {
      "application/vnd.jupyter.widget-view+json": {
       "model_id": "f8462c248a2948af925887da8e5b13f5",
       "version_major": 2,
       "version_minor": 0
      },
      "text/plain": [
       "SankeyWidget(layout=Layout(height='400', width='900'), links=[{'source': 'm_{prop}_Rocket/Boosters', 'target':…"
      ]
     },
     "metadata": {},
     "output_type": "display_data"
    }
   ],
   "source": [
    "s.sorted_by(\"constraints\", 9)"
   ]
  },
  {
   "cell_type": "code",
   "execution_count": 7,
   "metadata": {
    "scrolled": false
   },
   "outputs": [
    {
     "name": "stdout",
     "output_type": "stream",
     "text": [
      "Ⓐ adds +0.319 to the overall sensitivity of d_ox_Rocket/SimpleEngine\n",
      "Ⓐ is t_{wall}_Rocket/SimpleEngine >= 0.5*SF_Rocket/SimpleEngine*Tank P_Rocket/SimpleEngine*\\sigma_{max}_Rocket/SimpleEngine**-1*d_ox_Rocket/SimpleEngine \n",
      "\n",
      "Ⓑ adds -1.99e-11 to the overall sensitivity of d_ox_Rocket/SimpleEngine\n",
      "Ⓑ is L_{ox}_Rocket/SimpleEngine >= 1.27*V_{ox}_Rocket/SimpleEngine*d_ox_Rocket/SimpleEngine**-2 \n",
      "\n",
      "Ⓒ adds +0.274 to the overall sensitivity of d_ox_Rocket/SimpleEngine\n",
      "Ⓒ is m_{ox tank}_Rocket/SimpleEngine >= 3.14*L_{ox}_Rocket/SimpleEngine*d_ox_Rocket/SimpleEngine*rho_{ox, tank}_Rocket/SimpleEngine*t_{wall}_Rocket/SimpleEngine \n",
      "\n",
      "Ⓓ adds -0.0895 to the overall sensitivity of d_ox_Rocket/SimpleEngine\n",
      "Ⓓ is A_{grain}_Rocket/SimpleEngine <= 0.393*d_ox_Rocket/SimpleEngine**2 \n",
      "\n",
      "Ⓔ adds +0.0448 to the overall sensitivity of d_ox_Rocket/SimpleEngine\n",
      "Ⓔ is m_{grain tank}_Rocket/SimpleEngine >= 3.14*L_{grain}_Rocket/SimpleEngine*d_ox_Rocket/SimpleEngine*rho_{ox, tank}_Rocket/SimpleEngine*t_{wall}_Rocket/SimpleEngine \n",
      "\n"
     ]
    },
    {
     "data": {
      "application/vnd.jupyter.widget-view+json": {
       "model_id": "03bdb9d6f8964215b15e4a13993acf2f",
       "version_major": 2,
       "version_minor": 0
      },
      "text/plain": [
       "SankeyWidget(layout=Layout(height='400', width='900'), links=[{'source': 'd_ox_Rocket/SimpleEngine', 'target':…"
      ]
     },
     "metadata": {},
     "output_type": "display_data"
    }
   ],
   "source": [
    "s.sorted_by(\"maxflow\", 3)"
   ]
  },
  {
   "cell_type": "code",
   "execution_count": 8,
   "metadata": {},
   "outputs": [
    {
     "name": "stdout",
     "output_type": "stream",
     "text": [
      "Ⓐ adds +1.98 to the overall sensitivity of m_{ox}_Rocket/SimpleEngine\n",
      "Ⓐ is m_{prop}_Rocket/SimpleEngine >= m_{fuel}_Rocket/SimpleEngine + m_{ox}_Rocket/SimpleEngine \n",
      "\n",
      "Ⓑ adds -1.98 to the overall sensitivity of m_{ox}_Rocket/SimpleEngine\n",
      "Ⓑ is OF_Rocket/SimpleEngine**-1*m_{ox}_Rocket/SimpleEngine + m_{ox}_Rocket/SimpleEngine >= m_{prop}_Rocket/SimpleEngine \n",
      "\n",
      "Ⓒ adds +1.01e-11 to the overall sensitivity of m_{ox}_Rocket/SimpleEngine\n",
      "Ⓒ is V_{ox}_Rocket/SimpleEngine >= m_{ox}_Rocket/SimpleEngine*rho_{ox}_Rocket/SimpleEngine**-1 \n",
      "\n",
      "Ⓓ adds +6.99e-13 to the overall sensitivity of m_{ox}_Rocket/SimpleEngine\n",
      "Ⓓ is m_{ox}_Rocket/SimpleEngine <= 1e+30 \n",
      "\n",
      "Ⓔ adds -6.71e-13 to the overall sensitivity of m_{ox}_Rocket/SimpleEngine\n",
      "Ⓔ is m_{ox}_Rocket/SimpleEngine >= 1e-30 \n",
      "\n"
     ]
    },
    {
     "data": {
      "application/vnd.jupyter.widget-view+json": {
       "model_id": "6e90f3d4f82a42249ef9babf1c34aa0d",
       "version_major": 2,
       "version_minor": 0
      },
      "text/plain": [
       "SankeyWidget(layout=Layout(height='400', width='900'), links=[{'source': 'm_{ox}_Rocket/SimpleEngine', 'target…"
      ]
     },
     "metadata": {},
     "output_type": "display_data"
    }
   ],
   "source": [
    "Sankey(prob).diagram(r.engine.m_ox)"
   ]
  },
  {
   "cell_type": "code",
   "execution_count": null,
   "metadata": {},
   "outputs": [],
   "source": []
  },
  {
   "cell_type": "code",
   "execution_count": null,
   "metadata": {},
   "outputs": [],
   "source": []
  }
 ],
 "metadata": {
  "kernelspec": {
   "display_name": "Python 3",
   "language": "python",
   "name": "python3"
  },
  "language_info": {
   "codemirror_mode": {
    "name": "ipython",
    "version": 3
   },
   "file_extension": ".py",
   "mimetype": "text/x-python",
   "name": "python",
   "nbconvert_exporter": "python",
   "pygments_lexer": "ipython3",
   "version": "3.6.7"
  }
 },
 "nbformat": 4,
 "nbformat_minor": 2
}
