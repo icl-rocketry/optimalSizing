{
 "cells": [
  {
   "cell_type": "code",
   "execution_count": 1,
   "metadata": {
    "scrolled": false
   },
   "outputs": [
    {
     "name": "stdout",
     "output_type": "stream",
     "text": [
      "​Beginning signomial solve.\n",
      "Solving took 5 GP solves and 1.87 seconds.\n",
      "\n",
      "Solved at 26-08 13:02\n",
      "\n",
      "Cost\n",
      "----\n",
      " 31.82 [kg]\n",
      "\n",
      "Free Variables\n",
      "--------------\n",
      "               | Rocket\n",
      "    a_{launch} : 90         [m/s²] Acceleration off launch rail\n",
      "             m : 31.82      [kg]   Mass of Rocket\n",
      "         min_a : 90         [m/s²] minimum launch acceleration\n",
      "\n",
      "               | Rocket/Boosters\n",
      "             F : 2426       [N]    Boosters cumulative thrust\n",
      "             m : 1.348      [kg]   Mass of Boosters\n",
      "       m_{dry} : 0.9433     [kg]   Dry mass of boosters\n",
      "      m_{prop} : 0.4043     [kg]   Propellant mass of boosters\n",
      "      t_{burn} : 0.3333     [s]    Booster burn time\n",
      "\n",
      "               | Rocket/SimpleEngine\n",
      "     A_{grain} : 88.31      [cm²]  cross section area of grain\n",
      "     L_{grain} : 0.1144     [m]    Length of the grain\n",
      "        L_{ox} : 0.6302     [m]    Length of ox tank\n",
      "        V_{ox} : 1.113e+04  [cm³]  Volume of ox tank\n",
      "             m : 14.97      [kg]   Mass of Engine\n",
      "       m_{dry} : 8.606      [kg]   Dry mass of engine\n",
      "      m_{fuel} : 0.9091     [kg]   fuel mass\n",
      "m_{grain tank} : 1.015      [kg]   Mass of grain tank\n",
      "   m_{ox tank} : 5.592      [kg]   Mass of ox tank\n",
      "        m_{ox} : 5.454      [kg]   ox mass\n",
      "      m_{prop} : 6.364      [kg]   Mass of Propellant\n",
      "      t_{wall} : 6.977      [mm]   Wall Thickness of ox tank\n",
      "      v_{fuel} : 1010       [cm³]  Volume of fuel\n",
      "\n",
      "               | Rocket/Structures\n",
      "             m : 6          [kg]   Mass of Structures\n",
      "\n",
      "Most Sensitive\n",
      "--------------\n",
      "               | Rocket\n",
      "           PMF : +0.76  Propellant Mass Fraction required\n",
      "\n",
      "               | Rocket/SimpleEngine\n",
      "        Tank P : +0.39  Max Ox Tank pressure\n",
      "            SF : +0.39  Wall thickness safety factor\n",
      "rho_{ox, tank} : +0.39  Density of ox tank (if al)\n",
      "  \\sigma_{max} : -0.39  Max stress of tank, Al-7075-T6\n",
      "\n",
      "Tightest Constraints\n",
      "--------------------\n",
      "       | Rocket/SimpleEngine\n",
      "  +2.3 : OF_**-1*m_{ox}_ + m_{ox}_ >= m_{prop}_\n",
      "  +2.2 : m_{prop}_ >= m_{fuel}_ + m_{ox}_\n",
      " +0.88 : m_ >= m_{dry}_ + m_{prop}_\n",
      "\n",
      "       | Rocket\n",
      "  +1.9 : m_ >= m_/Avionics + m_/Boosters + m_/Payload + m_/Recovery + m_/SimpleEngine\n",
      "           + m_/Structures\n",
      " +0.76 : m_{prop}_/SimpleEngine >= PMF_*m_\n",
      "\n"
     ]
    }
   ],
   "source": [
    "import gpkit\n",
    "from gpkit import Model, Variable\n",
    "from gpkit.constraints.tight import Tight\n",
    "from gpkit.constraints.loose import Loose\n",
    "from gpkit.constraints.bounded import Bounded\n",
    "from gpkit import ureg\n",
    "\n",
    "from prettytable import PrettyTable\n",
    "import operator\n",
    "\n",
    "from rocket import Rocket\n",
    "from sankey3 import Sankey\n",
    "\n",
    "import datetime\n",
    "\n",
    "with gpkit.SignomialsEnabled():\n",
    "    r = Rocket()\n",
    "    prob = Model(r.m, Bounded(r))\n",
    "    sol = prob.localsolve(iteration_limit=10)\n",
    "    sol.datetime = datetime.datetime.now().strftime('%d-%m %H:%M')\n",
    "\n",
    "print()\n",
    "print(f'Solved at {sol.datetime}')        \n",
    "print(sol.summary())"
   ]
  },
  {
   "cell_type": "code",
   "execution_count": null,
   "metadata": {},
   "outputs": [],
   "source": []
  },
  {
   "cell_type": "code",
   "execution_count": 2,
   "metadata": {},
   "outputs": [
    {
     "name": "stdout",
     "output_type": "stream",
     "text": [
      "SORTED BY LINEAGE, SENSITIVITY (solved on 26-08 13:02)\n",
      "+-------------------+---------------------+-----------+--------+--------+---------------------------------------+\n",
      "|               key |             lineage |     value |   unit |   sens |                                 descr |\n",
      "+-------------------+---------------------+-----------+--------+--------+---------------------------------------+\n",
      "|               PMF |              Rocket |     0.200 |      - |  0.759 |     Propellant Mass Fraction required |\n",
      "|        v_{launch} |              Rocket |    30.000 |    m/s |  0.107 |              Velocity off launch rail |\n",
      "|        L_{launch} |              Rocket |     5.000 |      m | -0.014 |                 Length of launch rail |\n",
      "|                 g |              Rocket |     9.810 |  m/s^2 |  0.010 |           Acceleration due to gravity |\n",
      "|        a_{launch} |              Rocket |    90.000 |  m/s^2 |      * |          Acceleration off launch rail |\n",
      "|                 m |              Rocket |    31.818 |     kg |      * |                        Mass of Rocket |\n",
      "|    TW_{main, min} |              Rocket |     2.000 |      - |  0.000 | Main engine thrust to take off weight |\n",
      "|             min_a |              Rocket |    90.000 |  m/s^2 |      * |           minimum launch acceleration |\n",
      "|                 m |     Rocket/Avionics |     2.000 |     kg |  0.117 |                      Mass of Avionics |\n",
      "|               DMF |     Rocket/Boosters |     0.700 |      - |  0.184 |         Dry mass fraction of boosters |\n",
      "|                 c |     Rocket/Boosters |  2000.000 |    m/s | -0.079 |                boosters exhaust speed |\n",
      "|                 m |     Rocket/Boosters |     1.348 |     kg |      * |                      Mass of Boosters |\n",
      "|          m_{prop} |     Rocket/Boosters |     0.404 |     kg |      * |           Propellant mass of boosters |\n",
      "|           m_{dry} |     Rocket/Boosters |     0.943 |     kg |      * |                  Dry mass of boosters |\n",
      "|          t_{burn} |     Rocket/Boosters |     0.333 |      s |      * |                     Booster burn time |\n",
      "|                 F |     Rocket/Boosters |  2425.711 |      N |      * |            Boosters cumulative thrust |\n",
      "|                 m |      Rocket/Payload |     4.500 |     kg |  0.263 |                       Mass of Payload |\n",
      "|                 m |     Rocket/Recovery |     3.000 |     kg |  0.176 |                      Mass of Recovery |\n",
      "|      \\sigma_{max} | Rocket/SimpleEngine |   430.000 |    MPa | -0.387 |        Max stress of tank, Al-7075-T6 |\n",
      "|            Tank P | Rocket/SimpleEngine |    80.000 |    bar |  0.387 |                  Max Ox Tank pressure |\n",
      "|                SF | Rocket/SimpleEngine |     5.000 |      - |  0.387 |          Wall thickness safety factor |\n",
      "|    rho_{ox, tank} | Rocket/SimpleEngine |  2700.000 | kg/m^3 |  0.387 |            Density of ox tank (if al) |\n",
      "|          rho_{ox} | Rocket/SimpleEngine |   490.000 | kg/m^3 | -0.327 |                  density of liquid ox |\n",
      "|         rho_{wax} | Rocket/SimpleEngine |   900.000 | kg/m^3 | -0.059 |                       Density of fuel |\n",
      "|        m_{valves} | Rocket/SimpleEngine |     1.000 |     kg |  0.059 |           Mass of valves and plumbing |\n",
      "|        m_{nozzle} | Rocket/SimpleEngine |     1.000 |     kg |  0.059 |               Mass of nozzle assembly |\n",
      "|                 F | Rocket/SimpleEngine |   750.000 |      N | -0.024 |                         Engine thrust |\n",
      "|                OF | Rocket/SimpleEngine |     6.000 |      - | -0.004 |                      Ox to fuel ratio |\n",
      "|              d_ox | Rocket/SimpleEngine |    15.000 |     cm |  0.000 |                   Diameter of ox tank |\n",
      "|    m_{grain tank} | Rocket/SimpleEngine |     1.015 |     kg |      * |                    Mass of grain tank |\n",
      "|                 m | Rocket/SimpleEngine |    14.970 |     kg |      * |                        Mass of Engine |\n",
      "|       m_{ox tank} | Rocket/SimpleEngine |     5.592 |     kg |      * |                       Mass of ox tank |\n",
      "|           m_{dry} | Rocket/SimpleEngine |     8.606 |     kg |      * |                    Dry mass of engine |\n",
      "|          m_{prop} | Rocket/SimpleEngine |     6.364 |     kg |      * |                    Mass of Propellant |\n",
      "|            m_{ox} | Rocket/SimpleEngine |     5.454 |     kg |      * |                               ox mass |\n",
      "|          m_{fuel} | Rocket/SimpleEngine |     0.909 |     kg |      * |                             fuel mass |\n",
      "|          t_{wall} | Rocket/SimpleEngine |     6.977 |     mm |      * |             Wall Thickness of ox tank |\n",
      "|            V_{ox} | Rocket/SimpleEngine | 11131.502 |   cm^3 |      * |                     Volume of ox tank |\n",
      "|            L_{ox} | Rocket/SimpleEngine |     0.630 |      m |      * |                     Length of ox tank |\n",
      "|          v_{fuel} | Rocket/SimpleEngine |  1010.081 |   cm^3 |      * |                        Volume of fuel |\n",
      "|         L_{grain} | Rocket/SimpleEngine |     0.114 |      m |      * |                   Length of the grain |\n",
      "|         A_{grain} | Rocket/SimpleEngine |    88.312 |   cm^2 |      * |           cross section area of grain |\n",
      "|          m_{tube} |   Rocket/Structures |     4.000 |     kg |  0.234 |                                  None |\n",
      "|          m_{fins} |   Rocket/Structures |     1.200 |     kg |  0.070 |     Mass of fins and mounting of fins |\n",
      "|            m_{nc} |   Rocket/Structures |     0.500 |     kg |  0.029 |                     Mass of nose cone |\n",
      "| m_{booster_struc} |   Rocket/Structures |     0.300 |     kg |  0.018 |         Mass needed to mount boosters |\n",
      "|                 m |   Rocket/Structures |     6.000 |     kg |      * |                    Mass of Structures |\n",
      "+-------------------+---------------------+-----------+--------+--------+---------------------------------------+\n"
     ]
    }
   ],
   "source": [
    "\n",
    "d=sol['sensitivities']['variables']\n",
    "variables = sol['variables']\n",
    "t = PrettyTable(['key','lineage','value','unit','sens', '-abs(sens)','descr'])\n",
    "for key, val in d.items():\n",
    "    if key in sol['constants'].keys():\n",
    "        sens =  '%4.3f'%val\n",
    "    else:\n",
    "        sens = '*'\n",
    "    \n",
    "    t.add_row([key.name,key.lineagestr(),float(variables[key]),key.unitrepr,sens,-abs(float(val)),key.label])\n",
    "    \n",
    "    \n",
    "\n",
    "t.align='r'\n",
    "t.float_format='5.3'\n",
    "t.reversesort = False\n",
    "t.sortby = '-abs(sens)'\n",
    "\n",
    "t.sort_key=operator.itemgetter(2,6)\n",
    "print('SORTED BY LINEAGE, SENSITIVITY (solved on ' + sol.datetime + ')')\n",
    "print(t.get_string(fields = ['key', 'lineage','value','unit','sens','descr']))\n"
   ]
  },
  {
   "cell_type": "code",
   "execution_count": 3,
   "metadata": {
    "scrolled": false
   },
   "outputs": [
    {
     "name": "stdout",
     "output_type": "stream",
     "text": [
      "SORTED BY SENSITIVITY (solved on 26-08 13:02)\n",
      "+-------------------+---------------------+-----------+--------+--------+---------------------------------------+\n",
      "|               key |             lineage |     value |   unit |   sens |                                 descr |\n",
      "+-------------------+---------------------+-----------+--------+--------+---------------------------------------+\n",
      "|               PMF |              Rocket |     0.200 |      - |  0.759 |     Propellant Mass Fraction required |\n",
      "|      \\sigma_{max} | Rocket/SimpleEngine |   430.000 |    MPa | -0.387 |        Max stress of tank, Al-7075-T6 |\n",
      "|            Tank P | Rocket/SimpleEngine |    80.000 |    bar |  0.387 |                  Max Ox Tank pressure |\n",
      "|                SF | Rocket/SimpleEngine |     5.000 |      - |  0.387 |          Wall thickness safety factor |\n",
      "|    rho_{ox, tank} | Rocket/SimpleEngine |  2700.000 | kg/m^3 |  0.387 |            Density of ox tank (if al) |\n",
      "|          rho_{ox} | Rocket/SimpleEngine |   490.000 | kg/m^3 | -0.327 |                  density of liquid ox |\n",
      "|                 m |      Rocket/Payload |     4.500 |     kg |  0.263 |                       Mass of Payload |\n",
      "|          m_{tube} |   Rocket/Structures |     4.000 |     kg |  0.234 |                                  None |\n",
      "|               DMF |     Rocket/Boosters |     0.700 |      - |  0.184 |         Dry mass fraction of boosters |\n",
      "|                 m |     Rocket/Recovery |     3.000 |     kg |  0.176 |                      Mass of Recovery |\n",
      "|                 m |     Rocket/Avionics |     2.000 |     kg |  0.117 |                      Mass of Avionics |\n",
      "|        v_{launch} |              Rocket |    30.000 |    m/s |  0.107 |              Velocity off launch rail |\n",
      "|                 c |     Rocket/Boosters |  2000.000 |    m/s | -0.079 |                boosters exhaust speed |\n",
      "|          m_{fins} |   Rocket/Structures |     1.200 |     kg |  0.070 |     Mass of fins and mounting of fins |\n",
      "|         rho_{wax} | Rocket/SimpleEngine |   900.000 | kg/m^3 | -0.059 |                       Density of fuel |\n",
      "|        m_{valves} | Rocket/SimpleEngine |     1.000 |     kg |  0.059 |           Mass of valves and plumbing |\n",
      "|        m_{nozzle} | Rocket/SimpleEngine |     1.000 |     kg |  0.059 |               Mass of nozzle assembly |\n",
      "|            m_{nc} |   Rocket/Structures |     0.500 |     kg |  0.029 |                     Mass of nose cone |\n",
      "|                 F | Rocket/SimpleEngine |   750.000 |      N | -0.024 |                         Engine thrust |\n",
      "| m_{booster_struc} |   Rocket/Structures |     0.300 |     kg |  0.018 |         Mass needed to mount boosters |\n",
      "|        L_{launch} |              Rocket |     5.000 |      m | -0.014 |                 Length of launch rail |\n",
      "|                 g |              Rocket |     9.810 |  m/s^2 |  0.010 |           Acceleration due to gravity |\n",
      "|                OF | Rocket/SimpleEngine |     6.000 |      - | -0.004 |                      Ox to fuel ratio |\n",
      "|              d_ox | Rocket/SimpleEngine |    15.000 |     cm |  0.000 |                   Diameter of ox tank |\n",
      "|                 m |     Rocket/Boosters |     1.348 |     kg |      * |                      Mass of Boosters |\n",
      "|    m_{grain tank} | Rocket/SimpleEngine |     1.015 |     kg |      * |                    Mass of grain tank |\n",
      "|                 m | Rocket/SimpleEngine |    14.970 |     kg |      * |                        Mass of Engine |\n",
      "|       m_{ox tank} | Rocket/SimpleEngine |     5.592 |     kg |      * |                       Mass of ox tank |\n",
      "|                 m |   Rocket/Structures |     6.000 |     kg |      * |                    Mass of Structures |\n",
      "|          m_{prop} |     Rocket/Boosters |     0.404 |     kg |      * |           Propellant mass of boosters |\n",
      "|           m_{dry} |     Rocket/Boosters |     0.943 |     kg |      * |                  Dry mass of boosters |\n",
      "|           m_{dry} | Rocket/SimpleEngine |     8.606 |     kg |      * |                    Dry mass of engine |\n",
      "|          m_{prop} | Rocket/SimpleEngine |     6.364 |     kg |      * |                    Mass of Propellant |\n",
      "|            m_{ox} | Rocket/SimpleEngine |     5.454 |     kg |      * |                               ox mass |\n",
      "|        a_{launch} |              Rocket |    90.000 |  m/s^2 |      * |          Acceleration off launch rail |\n",
      "|          m_{fuel} | Rocket/SimpleEngine |     0.909 |     kg |      * |                             fuel mass |\n",
      "|                 m |              Rocket |    31.818 |     kg |      * |                        Mass of Rocket |\n",
      "|    TW_{main, min} |              Rocket |     2.000 |      - |  0.000 | Main engine thrust to take off weight |\n",
      "|          t_{wall} | Rocket/SimpleEngine |     6.977 |     mm |      * |             Wall Thickness of ox tank |\n",
      "|          t_{burn} |     Rocket/Boosters |     0.333 |      s |      * |                     Booster burn time |\n",
      "|                 F |     Rocket/Boosters |  2425.711 |      N |      * |            Boosters cumulative thrust |\n",
      "|            V_{ox} | Rocket/SimpleEngine | 11131.502 |   cm^3 |      * |                     Volume of ox tank |\n",
      "|            L_{ox} | Rocket/SimpleEngine |     0.630 |      m |      * |                     Length of ox tank |\n",
      "|             min_a |              Rocket |    90.000 |  m/s^2 |      * |           minimum launch acceleration |\n",
      "|          v_{fuel} | Rocket/SimpleEngine |  1010.081 |   cm^3 |      * |                        Volume of fuel |\n",
      "|         L_{grain} | Rocket/SimpleEngine |     0.114 |      m |      * |                   Length of the grain |\n",
      "|         A_{grain} | Rocket/SimpleEngine |    88.312 |   cm^2 |      * |           cross section area of grain |\n",
      "+-------------------+---------------------+-----------+--------+--------+---------------------------------------+\n"
     ]
    }
   ],
   "source": [
    "t.sort_key=operator.itemgetter(6)\n",
    "print('SORTED BY SENSITIVITY (solved on ' + sol.datetime + ')')\n",
    "print(t.get_string(fields = ['key', 'lineage','value','unit','sens','descr']))"
   ]
  },
  {
   "cell_type": "code",
   "execution_count": null,
   "metadata": {},
   "outputs": [],
   "source": []
  },
  {
   "cell_type": "code",
   "execution_count": 4,
   "metadata": {
    "scrolled": false
   },
   "outputs": [
    {
     "name": "stdout",
     "output_type": "stream",
     "text": [
      "(objective) adds +1 to the sensitivity of m_Rocket\n",
      "(objective) is m_Rocket [kg] \n",
      "\n",
      "Ⓐ adds -1.86 to the overall sensitivity of m_Rocket\n",
      "Ⓐ is m_Rocket >= m_Rocket/Avionics + m_Rocket/Boosters + m_Rocket/Payload + m_Rocket/Recovery + m_Rocket/SimpleEngine + m_Rocket/Structures \n",
      "\n",
      "Ⓑ adds +0.759 to the overall sensitivity of m_Rocket\n",
      "Ⓑ is m_{prop}_Rocket/SimpleEngine >= PMF_Rocket*m_Rocket \n",
      "\n",
      "Ⓒ adds +5.35e-11 to the overall sensitivity of m_Rocket\n",
      "Ⓒ is m_Rocket <= 100 \n",
      "\n",
      "Ⓓ adds -1.12e-10 to the overall sensitivity of m_Rocket\n",
      "Ⓓ is m_Rocket >= 10 \n",
      "\n",
      "Ⓔ adds +2.82e-11 to the overall sensitivity of m_Rocket\n",
      "Ⓔ is F_Rocket/SimpleEngine >= TW_{main, min}_Rocket*g_Rocket*m_Rocket \n",
      "\n",
      "Ⓕ adds +1.49e-12 to the overall sensitivity of m_Rocket\n",
      "Ⓕ is m_Rocket <= 1e+30 \n",
      "\n",
      "Ⓖ adds -1.36e-12 to the overall sensitivity of m_Rocket\n",
      "Ⓖ is m_Rocket >= 1e-30 \n",
      "\n"
     ]
    },
    {
     "data": {
      "application/vnd.jupyter.widget-view+json": {
       "model_id": "e8fd6102f3d0483280288483a5ac1c4b",
       "version_major": 2,
       "version_minor": 0
      },
      "text/plain": [
       "SankeyWidget(layout=Layout(height='400', width='900'), links=[{'source': 'm_Rocket', 'target': 'Model', 'value…"
      ]
     },
     "metadata": {},
     "output_type": "display_data"
    }
   ],
   "source": [
    "Sankey(prob).diagram(r.m)"
   ]
  },
  {
   "cell_type": "code",
   "execution_count": 5,
   "metadata": {},
   "outputs": [],
   "source": [
    "s = Sankey(prob)"
   ]
  },
  {
   "cell_type": "code",
   "execution_count": 6,
   "metadata": {},
   "outputs": [
    {
     "name": "stdout",
     "output_type": "stream",
     "text": [
      "Ⓐ adds +0.0789 to the overall sensitivity of m_{prop}_Rocket/Boosters\n",
      "Ⓐ is m_Rocket/Boosters >= m_{dry}_Rocket/Boosters + m_{prop}_Rocket/Boosters \n",
      "\n",
      "Ⓑ adds -9.17e-10 to the overall sensitivity of m_{prop}_Rocket/Boosters\n",
      "Ⓑ is m_{prop}_Rocket/Boosters >= 0.2 \n",
      "\n",
      "Ⓒ adds -0.0789 to the overall sensitivity of m_{prop}_Rocket/Boosters\n",
      "Ⓒ is c_Rocket/Boosters*m_{prop}_Rocket/Boosters >= F_Rocket/Boosters*t_{burn}_Rocket/Boosters \n",
      "\n",
      "Ⓓ adds +1.35e-12 to the overall sensitivity of m_{prop}_Rocket/Boosters\n",
      "Ⓓ is m_{prop}_Rocket/Boosters <= 1e+30 \n",
      "\n",
      "Ⓔ adds -1.49e-12 to the overall sensitivity of m_{prop}_Rocket/Boosters\n",
      "Ⓔ is m_{prop}_Rocket/Boosters >= 1e-30 \n",
      "\n"
     ]
    },
    {
     "data": {
      "application/vnd.jupyter.widget-view+json": {
       "model_id": "d3458a06859f4b0681d909e50bfb6c6d",
       "version_major": 2,
       "version_minor": 0
      },
      "text/plain": [
       "SankeyWidget(layout=Layout(height='400', width='900'), links=[{'source': 'm_{prop}_Rocket/Boosters', 'target':…"
      ]
     },
     "metadata": {},
     "output_type": "display_data"
    }
   ],
   "source": [
    "s.sorted_by(\"constraints\", 9)"
   ]
  },
  {
   "cell_type": "code",
   "execution_count": 7,
   "metadata": {
    "scrolled": false
   },
   "outputs": [
    {
     "name": "stdout",
     "output_type": "stream",
     "text": [
      "Ⓐ adds +0.759 to the overall sensitivity of PMF_Rocket\n",
      "Ⓐ is m_{prop}_Rocket/SimpleEngine >= PMF_Rocket*m_Rocket \n",
      "\n"
     ]
    },
    {
     "data": {
      "application/vnd.jupyter.widget-view+json": {
       "model_id": "9ab7b46a34ef45cbb1e0f604b67eef8d",
       "version_major": 2,
       "version_minor": 0
      },
      "text/plain": [
       "SankeyWidget(layout=Layout(height='400', width='900'), links=[{'source': 'PMF_Rocket', 'target': 'Model', 'val…"
      ]
     },
     "metadata": {},
     "output_type": "display_data"
    }
   ],
   "source": [
    "s.sorted_by(\"maxflow\", 3)"
   ]
  },
  {
   "cell_type": "code",
   "execution_count": 8,
   "metadata": {},
   "outputs": [
    {
     "name": "stdout",
     "output_type": "stream",
     "text": [
      "Ⓐ adds +1.92 to the overall sensitivity of m_{ox}_Rocket/SimpleEngine\n",
      "Ⓐ is m_{prop}_Rocket/SimpleEngine >= m_{fuel}_Rocket/SimpleEngine + m_{ox}_Rocket/SimpleEngine \n",
      "\n",
      "Ⓑ adds -2.25 to the overall sensitivity of m_{ox}_Rocket/SimpleEngine\n",
      "Ⓑ is OF_Rocket/SimpleEngine**-1*m_{ox}_Rocket/SimpleEngine + m_{ox}_Rocket/SimpleEngine >= m_{prop}_Rocket/SimpleEngine \n",
      "\n",
      "Ⓒ adds +0.327 to the overall sensitivity of m_{ox}_Rocket/SimpleEngine\n",
      "Ⓒ is V_{ox}_Rocket/SimpleEngine >= m_{ox}_Rocket/SimpleEngine*rho_{ox}_Rocket/SimpleEngine**-1 \n",
      "\n",
      "Ⓓ adds +1.45e-12 to the overall sensitivity of m_{ox}_Rocket/SimpleEngine\n",
      "Ⓓ is m_{ox}_Rocket/SimpleEngine <= 1e+30 \n",
      "\n",
      "Ⓔ adds -1.39e-12 to the overall sensitivity of m_{ox}_Rocket/SimpleEngine\n",
      "Ⓔ is m_{ox}_Rocket/SimpleEngine >= 1e-30 \n",
      "\n"
     ]
    },
    {
     "data": {
      "application/vnd.jupyter.widget-view+json": {
       "model_id": "16d227b28b294dffae089f540b8cfc80",
       "version_major": 2,
       "version_minor": 0
      },
      "text/plain": [
       "SankeyWidget(layout=Layout(height='400', width='900'), links=[{'source': 'm_{ox}_Rocket/SimpleEngine', 'target…"
      ]
     },
     "metadata": {},
     "output_type": "display_data"
    }
   ],
   "source": [
    "Sankey(prob).diagram(r.engine.m_ox)"
   ]
  },
  {
   "cell_type": "code",
   "execution_count": null,
   "metadata": {},
   "outputs": [],
   "source": []
  },
  {
   "cell_type": "code",
   "execution_count": null,
   "metadata": {},
   "outputs": [],
   "source": []
  }
 ],
 "metadata": {
  "kernelspec": {
   "display_name": "Python 3",
   "language": "python",
   "name": "python3"
  },
  "language_info": {
   "codemirror_mode": {
    "name": "ipython",
    "version": 3
   },
   "file_extension": ".py",
   "mimetype": "text/x-python",
   "name": "python",
   "nbconvert_exporter": "python",
   "pygments_lexer": "ipython3",
   "version": "3.6.7"
  }
 },
 "nbformat": 4,
 "nbformat_minor": 2
}
