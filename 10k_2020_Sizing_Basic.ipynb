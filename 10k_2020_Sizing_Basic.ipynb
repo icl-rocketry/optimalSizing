{
 "cells": [
  {
   "cell_type": "code",
   "execution_count": 1,
   "metadata": {},
   "outputs": [
    {
     "name": "stdout",
     "output_type": "stream",
     "text": [
      "​"
     ]
    }
   ],
   "source": [
    "import gpkit\n",
    "from gpkit import Model, Variable\n",
    "from gpkit.constraints.tight import Tight\n",
    "from gpkit.constraints.bounded import Bounded\n",
    "from gpkit import ureg\n",
    "\n",
    "from BasicRocketComponents import Motor, Tube"
   ]
  },
  {
   "cell_type": "code",
   "execution_count": 2,
   "metadata": {},
   "outputs": [],
   "source": [
    "\n",
    "class Rocket(Model):\n",
    "    \n",
    "    def setup(self):\n",
    "        \n",
    "        constraints = []\n",
    "        components = []\n",
    "        \n",
    "        m = self.m = Variable(\"m\",\"kg\",\"Mass of Rocket\")\n",
    "        \n",
    "        #define all components\n",
    "        \n",
    "        #nc   = self.nc   = NoseCone()\n",
    "        body = self.body = Tube()\n",
    "        #fins = self.fins = Fins()\n",
    "        av      = self.av      = Avionics()\n",
    "        payload = self.payload = Payload()\n",
    "        recovery  = self.recovery  = Recovery()\n",
    "        mainMotor = self.mainMotor = MainMotor()\n",
    "        boosters  = self.boosters  = Booster()\n",
    "        \n",
    "        #components += [nc]\n",
    "        components += [body]\n",
    "        #components += [fins]\n",
    "        components += [av]\n",
    "        components += [payload]\n",
    "        components += [recovery]\n",
    "        components += [mainMotor]\n",
    "        components += [boosters]\n",
    "        \n",
    "        #propellant mass fraction needs to be 17% of total vehicle\n",
    "        constraints += [mainMotor.motor.I_t >= 22000*ureg.N*ureg.s]\n",
    "        \n",
    "        #define mass of airframe based on dry mass\n",
    "        constraints += [body.m >= 10*ureg.kg]\n",
    "        \n",
    "        #require boosters to clear the launch tower\n",
    "        \n",
    "        constraints += self.launch_rod_clearance()\n",
    "        \n",
    "        constraints +=  [Tight([self.m >= sum(comp.m for comp in components)])]\n",
    "        return [components, constraints]\n",
    "    \n",
    "    \n",
    "    def launch_rod_clearance(self):\n",
    "        \n",
    "        constraints = []\n",
    "        \n",
    "        # first performed by assuming the mass isnt changed\n",
    "        #height of launch rod\n",
    "        h_LR = self.h_LR = Variable(\"h_{LR}\",5.2, \"m\", \"Launch rod height\")\n",
    "\n",
    "        \n",
    "        #height reached by boosters alone\n",
    "        h = Variable(\"h\",\"m\",\"Height reached by boosters\")\n",
    "        \n",
    "        t = Variable(\"t\", \"s\", \"Time of launch rod clearance\")\n",
    "        \n",
    "        #velocity at launch rod clearance time\n",
    "        v = Variable(\"v_{LR}\", \"m/s\", \"Velocity at launch rod clearance\")\n",
    "        \n",
    "        g = Variable(\"g\", 9.81,\"m/s^2\", \"Acceleration due to gravity\")\n",
    "        \n",
    "        constraints += [v<=(self.boosters.F_avg/self.m - g)*t]\n",
    "        constraints += [h_LR>=0.5*(self.boosters.F_avg/self.m - g)*t**2]\n",
    "        \n",
    "        #velocity requirement\n",
    "        v_minLR = Variable(\"v_{LR, min}\", 30.5, \"m/s\", \"Minimum velocity off the launch rail\")\n",
    "        constraints += [v>= v_minLR]\n",
    "        \n",
    "        \n",
    "        constraints += [t <= self.boosters.motor.t_burn]\n",
    "        #needs to return a list of constraints\n",
    "        \n",
    "        return constraints\n",
    "        \n",
    "        "
   ]
  },
  {
   "cell_type": "code",
   "execution_count": 3,
   "metadata": {},
   "outputs": [],
   "source": [
    "class Avionics(Model):\n",
    "    \n",
    "    def setup(self):\n",
    "        \n",
    "        constraints = []\n",
    "        \n",
    "        m = self.m = Variable(\"m\", \"kg\", \"Mass of Avionics\")\n",
    "        \n",
    "        constraints += [m >= 1*ureg.kg]\n",
    "        \n",
    "        return [constraints]"
   ]
  },
  {
   "cell_type": "code",
   "execution_count": 4,
   "metadata": {},
   "outputs": [],
   "source": [
    "class Payload(Model):\n",
    "    \n",
    "    def setup(self):\n",
    "        \n",
    "        constraints = []\n",
    "        m = self.m = Variable(\"m\", \"kg\",\"Mass of payload\")\n",
    "        \n",
    "        constraints += [m >= 5*ureg.kg]\n",
    "        \n",
    "        return [constraints]\n",
    "        \n",
    "    "
   ]
  },
  {
   "cell_type": "code",
   "execution_count": 5,
   "metadata": {},
   "outputs": [],
   "source": [
    "class Recovery(Model):\n",
    "    \n",
    "    def setup(self):\n",
    "        \n",
    "        constraints = []\n",
    "        m = self.m = Variable(\"m\", \"kg\", \"Mass of Recovery System\")\n",
    "        \n",
    "        constraints += [m >= 7*ureg.kg]\n",
    "        \n",
    "        return [constraints]"
   ]
  },
  {
   "cell_type": "code",
   "execution_count": 6,
   "metadata": {},
   "outputs": [],
   "source": [
    "class MainMotor(Model):\n",
    "    \n",
    "    def setup(self):\n",
    "        \n",
    "        constraints = []\n",
    "        components = self.components = []\n",
    "        m = self.m = Variable(\"m\", \"kg\", \"Mass of Main Motor\")\n",
    "        \n",
    "        motor = self.motor = Motor()\n",
    "        components += [motor]\n",
    "        \n",
    "        constraints += [motor.m_dry >= 0.7*self.m] #based on most rockets on thrustcurve.org\n",
    "        constraints += [Tight([motor.F_avg >= 350*ureg.N])]\n",
    "        constraints += [Tight([motor.t_burn >= 20*ureg.s])]\n",
    "        \n",
    "        constraints += [Tight([motor.c <= 2200*ureg.m/ureg.s])] #based on most rockets on thrustcurve.org\n",
    "                                    \n",
    "        constraints +=  Tight([self.m >= sum(comp.m for comp in components)])\n",
    "        \n",
    "        return [components, constraints]\n",
    "    \n",
    "class Booster(Model):\n",
    "    \n",
    "    def setup(self):\n",
    "        \n",
    "        constraints = []\n",
    "        components = self.components = []\n",
    "        m = self.m = Variable(\"m\", \"kg\", \"Mass of all boosters\")\n",
    "        \n",
    "        \n",
    "        num = Variable(\"num\", 4, \"\", \"Number of boosters\")\n",
    "        \n",
    "        #motor referes to a single motor\n",
    "        motor = self.motor = Motor()\n",
    "        components += [motor]\n",
    "        \n",
    "        #generic bounds, computing the bounds based on the vehicle mass is done in the Rocket() class. \n",
    "        constraints += [motor.m_dry >= 0.6*motor.m]\n",
    "        constraints += [motor.F_avg >= 10*ureg.N]\n",
    "        constraints += [motor.F_avg <= 4000*ureg.N]\n",
    "        constraints += [motor.t_burn >= 0.5*ureg.s]\n",
    "        \n",
    "        constraints += [Tight([motor.c <= 2200*ureg.m/ureg.s])]\n",
    "        \n",
    "        \n",
    "        #constraint the total impulse by the burn time\n",
    "        const1 = Variable(\"K1\",2000,\"N\", \"constant for limiting booster perf\")\n",
    "        constraints += [motor.I_t <= const1*motor.t_burn]\n",
    "        const2 = Variable(\"K2\",7,\"s\", \"constant for limiting booster perf\")\n",
    "        constraints += [motor.I_t <= const2*motor.F_avg]\n",
    "        const3 = Variable(\"K3\",0.5,\"s\", \"constant for limiting booster perf\")\n",
    "        constraints += [motor.I_t >= const3*motor.F_avg]\n",
    "        \n",
    "        \n",
    "        #get average thrust of all the boosters\n",
    "        F_avg = self.F_avg  = Variable(\"F_{avg}\", \"N\", \"Average force produced by all the boosters together\")\n",
    "        constraints += [F_avg <= num*motor.F_avg]\n",
    "        \n",
    "        \n",
    "        #in this case, we define the mass constraint explicity\n",
    "        constraints += [Tight([self.m >= num*motor.m])]\n",
    "        \n",
    "        return [components, constraints]"
   ]
  },
  {
   "cell_type": "code",
   "execution_count": 7,
   "metadata": {},
   "outputs": [],
   "source": [
    "with gpkit.SignomialsEnabled():\n",
    "    r = Rocket()"
   ]
  },
  {
   "cell_type": "code",
   "execution_count": 8,
   "metadata": {},
   "outputs": [
    {
     "data": {
      "text/latex": [
       "$$\\begin{array}{ll} \\text{}\n",
       "\\text{minimize}\n",
       "    & 1 \\\\\n",
       "\\text{subject to}\n",
       "    & Tube_{0} \\\\\n",
       "    & Avionics_{0} \\\\\n",
       "    & Payload_{0} \\\\\n",
       "    & Recovery_{0} \\\\\n",
       "    & MainMotor_{0} \\\\\n",
       "    & Booster_{0} \\\\\n",
       "    & {I_t}_{Rocket/MainMotor/Motor} \\geq 2.2 \\times 10^{4} \\\\\n",
       "    & {m}_{Rocket/Tube} \\geq 10 \\\\\n",
       "    & -{g}_{Rocket} {t}_{Rocket} + \\frac{{F_{avg}}_{Rocket/Booster} {t}_{Rocket}}{{m}_{Rocket}} \\geq {v_{LR}}_{Rocket} \\\\\n",
       "    & -0.5{g}_{Rocket} {t}_{Rocket}^{2} + 0.5\\frac{{F_{avg}}_{Rocket/Booster} {t}_{Rocket}^{2}}{{m}_{Rocket}} \\leq {h_{LR}}_{Rocket} \\\\\n",
       "    & {v_{LR}}_{Rocket} \\geq {v_{LR, min}}_{Rocket} \\\\\n",
       "    & {t}_{Rocket} \\leq {t_{burn}}_{Rocket/Booster/Motor} \\\\\n",
       "    & {m}_{Rocket} \\geq {m}_{Rocket/Avionics} + {m}_{Rocket/Booster} + {m}_{Rocket/MainMotor} + {m}_{Rocket/Payload} + {m}_{Rocket/Recovery} + {m}_{Rocket/Tube} \\\\\n",
       "\\end{array}$$"
      ],
      "text/plain": [
       "[[[],\n",
       "  [[gpkit.PosynomialInequality(m_Rocket/Avionics >= 1)]],\n",
       "  [[gpkit.PosynomialInequality(m_Rocket/Payload >= 5)]],\n",
       "  [[gpkit.PosynomialInequality(m_Rocket/Recovery >= 7)]],\n",
       "  [[[gpkit.PosynomialInequality(m_Rocket/MainMotor/Motor >= m_{dry}_Rocket/MainMotor/Motor + m_{prop}_Rocket/MainMotor/Motor),\n",
       "     [gpkit.PosynomialInequality(T_{avg}_Rocket/MainMotor/Motor <= c_Rocket/MainMotor/Motor*m_{prop}_Rocket/MainMotor/Motor*t_{burn}_Rocket/MainMotor/Motor**-1)],\n",
       "     [gpkit.PosynomialInequality(T_{avg}_Rocket/MainMotor/Motor >= c_Rocket/MainMotor/Motor*m_{prop}_Rocket/MainMotor/Motor*t_{burn}_Rocket/MainMotor/Motor**-1)],\n",
       "     [gpkit.PosynomialInequality(I_t_Rocket/MainMotor/Motor <= c_Rocket/MainMotor/Motor*m_{prop}_Rocket/MainMotor/Motor)],\n",
       "     [gpkit.PosynomialInequality(I_t_Rocket/MainMotor/Motor >= c_Rocket/MainMotor/Motor*m_{prop}_Rocket/MainMotor/Motor)]]],\n",
       "   [gpkit.PosynomialInequality(m_{dry}_Rocket/MainMotor/Motor >= 0.7*m_Rocket/MainMotor),\n",
       "    [gpkit.PosynomialInequality(T_{avg}_Rocket/MainMotor/Motor >= 350)],\n",
       "    [gpkit.PosynomialInequality(t_{burn}_Rocket/MainMotor/Motor >= 20)],\n",
       "    [gpkit.PosynomialInequality(c_Rocket/MainMotor/Motor <= 2.2e+03)],\n",
       "    gpkit.PosynomialInequality(m_Rocket/MainMotor >= m_Rocket/MainMotor/Motor)]],\n",
       "  [[[gpkit.PosynomialInequality(m_Rocket/Booster/Motor >= m_{dry}_Rocket/Booster/Motor + m_{prop}_Rocket/Booster/Motor),\n",
       "     [gpkit.PosynomialInequality(T_{avg}_Rocket/Booster/Motor <= c_Rocket/Booster/Motor*m_{prop}_Rocket/Booster/Motor*t_{burn}_Rocket/Booster/Motor**-1)],\n",
       "     [gpkit.PosynomialInequality(T_{avg}_Rocket/Booster/Motor >= c_Rocket/Booster/Motor*m_{prop}_Rocket/Booster/Motor*t_{burn}_Rocket/Booster/Motor**-1)],\n",
       "     [gpkit.PosynomialInequality(I_t_Rocket/Booster/Motor <= c_Rocket/Booster/Motor*m_{prop}_Rocket/Booster/Motor)],\n",
       "     [gpkit.PosynomialInequality(I_t_Rocket/Booster/Motor >= c_Rocket/Booster/Motor*m_{prop}_Rocket/Booster/Motor)]]],\n",
       "   [gpkit.PosynomialInequality(m_{dry}_Rocket/Booster/Motor >= 0.6*m_Rocket/Booster/Motor),\n",
       "    gpkit.PosynomialInequality(T_{avg}_Rocket/Booster/Motor >= 10),\n",
       "    gpkit.PosynomialInequality(T_{avg}_Rocket/Booster/Motor <= 4e+03),\n",
       "    gpkit.PosynomialInequality(t_{burn}_Rocket/Booster/Motor >= 0.5),\n",
       "    [gpkit.PosynomialInequality(c_Rocket/Booster/Motor <= 2.2e+03)],\n",
       "    gpkit.PosynomialInequality(I_t_Rocket/Booster/Motor <= K1_Rocket/Booster*t_{burn}_Rocket/Booster/Motor),\n",
       "    gpkit.PosynomialInequality(I_t_Rocket/Booster/Motor <= K2_Rocket/Booster*T_{avg}_Rocket/Booster/Motor),\n",
       "    gpkit.PosynomialInequality(I_t_Rocket/Booster/Motor >= K3_Rocket/Booster*T_{avg}_Rocket/Booster/Motor),\n",
       "    gpkit.PosynomialInequality(F_{avg}_Rocket/Booster <= T_{avg}_Rocket/Booster/Motor*num_Rocket/Booster),\n",
       "    [gpkit.PosynomialInequality(m_Rocket/Booster >= m_Rocket/Booster/Motor*num_Rocket/Booster)]]]],\n",
       " [gpkit.PosynomialInequality(I_t_Rocket/MainMotor/Motor >= 2.2e+04),\n",
       "  gpkit.PosynomialInequality(m_Rocket/Tube >= 10),\n",
       "  gpkit.SignomialInequality(-g_Rocket*t_Rocket + F_{avg}_Rocket/Booster*m_Rocket**-1*t_Rocket >= v_{LR}_Rocket),\n",
       "  gpkit.SignomialInequality(-0.5*g_Rocket*t_Rocket**2 + 0.5*F_{avg}_Rocket/Booster*m_Rocket**-1*t_Rocket**2 <= h_{LR}_Rocket),\n",
       "  gpkit.PosynomialInequality(v_{LR}_Rocket >= v_{LR, min}_Rocket),\n",
       "  gpkit.PosynomialInequality(t_Rocket <= t_{burn}_Rocket/Booster/Motor),\n",
       "  [gpkit.PosynomialInequality(m_Rocket >= m_Rocket/Avionics + m_Rocket/Booster + m_Rocket/MainMotor + m_Rocket/Payload + m_Rocket/Recovery + m_Rocket/Tube)]]]"
      ]
     },
     "execution_count": 8,
     "metadata": {},
     "output_type": "execute_result"
    }
   ],
   "source": [
    "r"
   ]
  },
  {
   "cell_type": "code",
   "execution_count": null,
   "metadata": {},
   "outputs": [],
   "source": []
  },
  {
   "cell_type": "code",
   "execution_count": 9,
   "metadata": {},
   "outputs": [],
   "source": [
    "opt = Model(r.m, Bounded(r))"
   ]
  },
  {
   "cell_type": "code",
   "execution_count": 10,
   "metadata": {},
   "outputs": [
    {
     "name": "stdout",
     "output_type": "stream",
     "text": [
      "Beginning signomial solve.\n",
      "Solving took 5 GP solves and 1.89 seconds.\n"
     ]
    }
   ],
   "source": [
    "sol = opt.localsolve()"
   ]
  },
  {
   "cell_type": "code",
   "execution_count": 11,
   "metadata": {
    "scrolled": false
   },
   "outputs": [
    {
     "name": "stdout",
     "output_type": "stream",
     "text": [
      "\n",
      "Cost\n",
      "----\n",
      " 59.7 [kg]\n",
      "\n",
      "Warnings\n",
      "========\n",
      "Unexpectedly Loose Constraints\n",
      "------------------------------\n",
      "               | Rocket/MainMotor\n",
      "   35.49 >= 20 : t_{burn}_/Motor >= 20\n",
      "  619.9 >= 350 : T_{avg}_/Motor >= 350\n",
      "\n",
      "               | Rocket/Booster\n",
      "  2200 <= 2200 : c_/Motor <= 2.2e+03\n",
      "3.367 >= 3.367 : m_ >= m_/Motor*num_\n",
      "\n",
      "Free Variables\n",
      "--------------\n",
      "         | Rocket\n",
      "       m : 59.7     [kg]  Mass of Rocket\n",
      "       t : 0.341    [s]   Time of launch rod clearance\n",
      "  v_{LR} : 30.5     [m/s] Velocity at launch rod clearance\n",
      "\n",
      "         | Rocket/Avionics\n",
      "       m : 1        [kg]  Mass of Avionics\n",
      "\n",
      "         | Rocket/Booster\n",
      " F_{avg} : 5926     [N]   Average force produced by all the boosters together\n",
      "       m : 3.367    [kg]  Mass of all boosters\n",
      "\n",
      "         | Rocket/Booster/Motor\n",
      "     I_t : 740.7    [N·s] Total impulse of motor\n",
      " T_{avg} : 1481     [N]   Average force of motor\n",
      "       c : 2200     [m/s] Exhaust speed of motor\n",
      "       m : 0.8417   [kg]  Total mass of motor\n",
      " m_{dry} : 0.505    [kg]  Dry Mass of Motor\n",
      "m_{prop} : 0.3367   [kg]  Propellant Mass of Motor\n",
      "t_{burn} : 0.5      [s]   Burn Time\n",
      "\n",
      "         | Rocket/MainMotor\n",
      "       m : 33.33    [kg]  Mass of Main Motor\n",
      "\n",
      "         | Rocket/MainMotor/Motor\n",
      "     I_t : 2.2e+04  [N·s] Total impulse of motor\n",
      " T_{avg} : 619.9    [N]   Average force of motor\n",
      "       c : 2200     [m/s] Exhaust speed of motor\n",
      "       m : 33.33    [kg]  Total mass of motor\n",
      " m_{dry} : 23.33    [kg]  Dry Mass of Motor\n",
      "m_{prop} : 10       [kg]  Propellant Mass of Motor\n",
      "t_{burn} : 35.49    [s]   Burn Time\n",
      "\n",
      "         | Rocket/Payload\n",
      "       m : 5        [kg]  Mass of payload\n",
      "\n",
      "         | Rocket/Recovery\n",
      "       m : 7        [kg]  Mass of Recovery System\n",
      "\n",
      "         | Rocket/Tube\n",
      "       m : 10       [kg]  Mass of Tube\n",
      "\n",
      "Most Sensitive\n",
      "--------------\n",
      "            | Rocket\n",
      "v_{LR, min} : +0.11    Minimum velocity off the launch rail\n",
      "     h_{LR} : -0.054   Launch rod height\n",
      "          g : +0.0059  Acceleration due to gravity\n",
      "\n",
      "            | Rocket/Booster\n",
      "         K3 : +0.031   constant for limiting booster perf\n",
      "\n",
      "Tightest Constraints\n",
      "--------------------\n",
      "       | Rocket/MainMotor/Motor\n",
      "    +2 : I_t_ <= c_*m_{prop}_\n",
      "    +2 : m_ >= m_{dry}_ + m_{prop}_\n",
      "\n",
      "       | Rocket/MainMotor\n",
      "    +2 : m_ >= m_/Motor\n",
      "\n",
      "       | Rocket/Booster/Motor\n",
      "  +1.7 : I_t_ <= c_*m_{prop}_\n",
      "  +1.7 : I_t_ >= c_*m_{prop}_\n",
      "\n"
     ]
    }
   ],
   "source": [
    "print(sol.summary())"
   ]
  },
  {
   "cell_type": "code",
   "execution_count": 12,
   "metadata": {},
   "outputs": [
    {
     "data": {
      "text/plain": [
       "4.8682265625"
      ]
     },
     "execution_count": 12,
     "metadata": {},
     "output_type": "execute_result"
    }
   ],
   "source": [
    "#estimate drag force at launch rod clearance\n",
    "0.5*1.225*30**2*0.5*3.14*(0.15/2)**2"
   ]
  },
  {
   "cell_type": "code",
   "execution_count": null,
   "metadata": {},
   "outputs": [],
   "source": []
  },
  {
   "cell_type": "code",
   "execution_count": null,
   "metadata": {},
   "outputs": [],
   "source": []
  },
  {
   "cell_type": "code",
   "execution_count": null,
   "metadata": {},
   "outputs": [],
   "source": []
  },
  {
   "cell_type": "code",
   "execution_count": null,
   "metadata": {},
   "outputs": [],
   "source": []
  },
  {
   "cell_type": "code",
   "execution_count": null,
   "metadata": {},
   "outputs": [],
   "source": []
  },
  {
   "cell_type": "code",
   "execution_count": null,
   "metadata": {},
   "outputs": [],
   "source": []
  },
  {
   "cell_type": "code",
   "execution_count": null,
   "metadata": {},
   "outputs": [],
   "source": []
  }
 ],
 "metadata": {
  "kernelspec": {
   "display_name": "Python 3",
   "language": "python",
   "name": "python3"
  },
  "language_info": {
   "codemirror_mode": {
    "name": "ipython",
    "version": 3
   },
   "file_extension": ".py",
   "mimetype": "text/x-python",
   "name": "python",
   "nbconvert_exporter": "python",
   "pygments_lexer": "ipython3",
   "version": "3.6.7"
  }
 },
 "nbformat": 4,
 "nbformat_minor": 2
}
