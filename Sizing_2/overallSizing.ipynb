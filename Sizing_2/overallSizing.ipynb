{
 "cells": [
  {
   "cell_type": "code",
   "execution_count": 1,
   "metadata": {
    "scrolled": false
   },
   "outputs": [
    {
     "name": "stdout",
     "output_type": "stream",
     "text": [
      "​Beginning signomial solve.\n",
      "Solving took 6 GP solves and 1.55 seconds.\n",
      "\n",
      "Cost\n",
      "----\n",
      " 54.75 [kg]\n",
      "\n",
      "Free Variables\n",
      "--------------\n",
      "               | Rocket.1\n",
      "    a_{launch} : 98.1       [m/s²] Acceleration off launch rail\n",
      "             m : 54.75      [kg]   Mass of Rocket\n",
      "\n",
      "               | Rocket.1/Boosters\n",
      "             F : 4621       [N]    Boosters cumulative thrust\n",
      "             c : 2000       [m/s]  boosters exhaust speed\n",
      "             m : 2.459      [kg]   Mass of Boosters\n",
      "       m_{dry} : 1.721      [kg]   Dry mass of boosters\n",
      "      m_{prop} : 0.7377     [kg]   Propellant mass of boosters\n",
      "      t_{burn} : 0.3193     [s]    Booster burn time\n",
      "\n",
      "               | Rocket.1/SimpleEngine\n",
      "     A_{grain} : 26.06      [cm²]  cross section of where the grain is\n",
      "     L_{grain} : 0.2719     [m]    Length of the grain\n",
      "        L_{ox} : 0.9218     [m]    Length of ox tank\n",
      "        V_{ox} : 1.628e+04  [cm³]  Volume of ox tank\n",
      "             m : 36.79      [kg]   Mass of Engine\n",
      "       m_{dry} : 27.48      [kg]   Dry mass of engine\n",
      "      m_{fuel} : 1.33       [kg]   fuel mass\n",
      "m_{grain tank} : 12.74      [kg]   Mass of grain tank\n",
      "   m_{ox tank} : 12.74      [kg]   Mass of ox tank\n",
      "        m_{ox} : 7.978      [kg]   ox mass\n",
      "      m_{prop} : 9.308      [kg]   Mass of Propellant\n",
      "      t_{wall} : 10.87      [mm]   Wall Thickness of ox tank\n",
      "      v_{fuel} : 208.9      [cm³]  Volume of fuel\n",
      "\n",
      "               | Rocket.1/Structures\n",
      "             m : 6          [kg]   Mass of Structures\n",
      "\n",
      "Most Sensitive\n",
      "--------------\n",
      "               | Rocket.1/Payload\n",
      "             m : +0.26  Mass of Payload\n",
      "\n",
      "               | Rocket.1/SimpleEngine\n",
      " Tank Pressure : +1.5   Ox Tank pressure\n",
      "rho_{ox, tank} : +1.5   Density of ox tank (if al)\n",
      "  \\sigma_{max} : -1.5   Max stress of tank\n",
      "      rho_{ox} : -1.5   density of liquid ox\n",
      "\n",
      "Tightest Constraints\n",
      "--------------------\n",
      "       | Rocket.1\n",
      "  +3.2 : m_ >= m_/Avionics + m_/Boosters + m_/Payload + m_/Recovery + m_/SimpleEngine\n",
      "           + m_/Structures\n",
      "    +2 : m_{prop}_/SimpleEngine >= 0.17*m_\n",
      "\n",
      "       | Rocket.1/SimpleEngine\n",
      "  +2.7 : OF_**-1*m_{ox}_ + m_{ox}_ >= m_{prop}_\n",
      "  +2.2 : m_ >= m_{dry}_ + m_{prop}_\n",
      "  +1.6 : m_{dry}_ >= m_{grain tank}_ + m_{nozzle}_ + m_{ox tank}_ + m_{valves}_\n",
      "\n"
     ]
    }
   ],
   "source": [
    "import gpkit\n",
    "from gpkit import Model, Variable\n",
    "from gpkit.constraints.tight import Tight\n",
    "from gpkit.constraints.bounded import Bounded\n",
    "from gpkit import ureg\n",
    "\n",
    "from rocket import Rocket\n",
    "from sankey3 import Sankey\n",
    "\n",
    "try: \n",
    "    r = Rocket()\n",
    "    prob = Model(r.m, Bounded(r))\n",
    "    sol = prob.solve()\n",
    "except:\n",
    "    with gpkit.SignomialsEnabled():\n",
    "        r = Rocket()\n",
    "        prob = Model(r.m, Bounded(r))\n",
    "        sol = prob.localsolve(iteration_limit=10)\n",
    "        \n",
    "        \n",
    "print(sol.summary())"
   ]
  },
  {
   "cell_type": "code",
   "execution_count": 3,
   "metadata": {},
   "outputs": [
    {
     "data": {
      "text/latex": [
       "$$\\begin{array}{ll} \\text{}\n",
       "\\text{minimize}\n",
       "    & 1 \\\\\n",
       "\\text{subject to}\n",
       "    & Payload_{0} \\\\\n",
       "    & Avionics_{0} \\\\\n",
       "    & Recovery_{0} \\\\\n",
       "    & SimpleEngine_{0} \\\\\n",
       "    & Boosters_{0} \\\\\n",
       "    & Structures_{0} \\\\\n",
       "    & {m}_{Rocket.1} \\geq {m}_{Rocket.1/Avionics} + {m}_{Rocket.1/Boosters} + {m}_{Rocket.1/Payload} + {m}_{Rocket.1/Recovery} + {m}_{Rocket.1/SimpleEngine} + {m}_{Rocket.1/Structures} \\\\\n",
       "    & {m_{prop}}_{Rocket.1/SimpleEngine} \\geq 0.17{m}_{Rocket.1} \\\\\n",
       "    & \\frac{{F}_{Rocket.1/Boosters}}{{m}_{Rocket.1}} + \\frac{{F}_{Rocket.1/SimpleEngine}}{{m}_{Rocket.1}} \\geq {a_{launch}}_{Rocket.1} \\\\\n",
       "    & {a_{launch}}_{Rocket.1} \\geq {T/W}_{Rocket.1} {g}_{Rocket.1} \\\\\n",
       "    & 0.5{a_{launch}}_{Rocket.1} {t_{burn}}_{Rocket.1/Boosters}^{2} \\geq 5 \\\\\n",
       "    & {m_{prop}}_{Rocket.1/Boosters} \\geq 0.2 \\\\\n",
       "    & {c}_{Rocket.1/Boosters} {m_{prop}}_{Rocket.1/Boosters} \\geq {F}_{Rocket.1/Boosters} {t_{burn}}_{Rocket.1/Boosters} \\\\\n",
       "    & {m}_{Rocket.1} \\leq 100 \\\\\n",
       "    & {m}_{Rocket.1} \\geq 10 \\\\\n",
       "\\end{array}$$"
      ],
      "text/plain": [
       "[[[[], []],\n",
       "  [[], []],\n",
       "  [[], []],\n",
       "  [[],\n",
       "   [[gpkit.PosynomialInequality(m_{prop}_Rocket.1/SimpleEngine >= m_{fuel}_Rocket.1/SimpleEngine + m_{ox}_Rocket.1/SimpleEngine)],\n",
       "    [gpkit.SignomialInequality(OF_Rocket.1/SimpleEngine*m_{fuel}_Rocket.1/SimpleEngine + m_{fuel}_Rocket.1/SimpleEngine >= m_{prop}_Rocket.1/SimpleEngine)],\n",
       "    [gpkit.SignomialInequality(OF_Rocket.1/SimpleEngine**-1*m_{ox}_Rocket.1/SimpleEngine + m_{ox}_Rocket.1/SimpleEngine >= m_{prop}_Rocket.1/SimpleEngine)],\n",
       "    [gpkit.PosynomialInequality(m_Rocket.1/SimpleEngine >= m_{dry}_Rocket.1/SimpleEngine + m_{prop}_Rocket.1/SimpleEngine)],\n",
       "    gpkit.PosynomialInequality(t_{wall}_Rocket.1/SimpleEngine >= 2.5*Tank Pressure_Rocket.1/SimpleEngine*\\sigma_{max}_Rocket.1/SimpleEngine**-1*d_ox_Rocket.1/SimpleEngine),\n",
       "    gpkit.PosynomialInequality(V_{ox}_Rocket.1/SimpleEngine >= m_{ox}_Rocket.1/SimpleEngine*rho_{ox}_Rocket.1/SimpleEngine**-1),\n",
       "    gpkit.PosynomialInequality(L_{ox}_Rocket.1/SimpleEngine >= 1.27*V_{ox}_Rocket.1/SimpleEngine*d_ox_Rocket.1/SimpleEngine**-2),\n",
       "    gpkit.PosynomialInequality(m_{ox tank}_Rocket.1/SimpleEngine >= 3.14*L_{ox}_Rocket.1/SimpleEngine*d_ox_Rocket.1/SimpleEngine*rho_{ox, tank}_Rocket.1/SimpleEngine*t_{wall}_Rocket.1/SimpleEngine),\n",
       "    gpkit.PosynomialInequality(A_{grain}_Rocket.1/SimpleEngine <= 0.393*d_ox_Rocket.1/SimpleEngine**2),\n",
       "    gpkit.PosynomialInequality(L_{grain}_Rocket.1/SimpleEngine >= A_{grain}_Rocket.1/SimpleEngine**-1*v_{fuel}_Rocket.1/SimpleEngine),\n",
       "    gpkit.PosynomialInequality(m_{grain tank}_Rocket.1/SimpleEngine >= 3.14*L_{grain}_Rocket.1/SimpleEngine*d_ox_Rocket.1/SimpleEngine*rho_{ox, tank}_Rocket.1/SimpleEngine*t_{wall}_Rocket.1/SimpleEngine),\n",
       "    gpkit.PosynomialInequality(m_{grain tank}_Rocket.1/SimpleEngine >= m_{ox tank}_Rocket.1/SimpleEngine),\n",
       "    gpkit.PosynomialInequality(m_{dry}_Rocket.1/SimpleEngine >= m_{grain tank}_Rocket.1/SimpleEngine + m_{nozzle}_Rocket.1/SimpleEngine + m_{ox tank}_Rocket.1/SimpleEngine + m_{valves}_Rocket.1/SimpleEngine),\n",
       "    gpkit.PosynomialInequality(L_{ox}_Rocket.1/SimpleEngine >= 0.5),\n",
       "    gpkit.PosynomialInequality(L_{ox}_Rocket.1/SimpleEngine <= 2),\n",
       "    gpkit.PosynomialInequality(t_{wall}_Rocket.1/SimpleEngine >= 1),\n",
       "    gpkit.PosynomialInequality(t_{wall}_Rocket.1/SimpleEngine <= 20)]],\n",
       "  [[gpkit.PosynomialInequality(m_Rocket.1/Boosters >= 0.1),\n",
       "    gpkit.PosynomialInequality(c_Rocket.1/Boosters <= 2e+03),\n",
       "    [gpkit.PosynomialInequality(m_Rocket.1/Boosters >= m_{dry}_Rocket.1/Boosters + m_{prop}_Rocket.1/Boosters)],\n",
       "    gpkit.PosynomialInequality(m_{dry}_Rocket.1/Boosters >= 0.7*m_Rocket.1/Boosters)],\n",
       "   []],\n",
       "  [[gpkit.PosynomialInequality(m_Rocket.1/Structures >= 6)], []]],\n",
       " [[gpkit.PosynomialInequality(m_Rocket.1 >= m_Rocket.1/Avionics + m_Rocket.1/Boosters + m_Rocket.1/Payload + m_Rocket.1/Recovery + m_Rocket.1/SimpleEngine + m_Rocket.1/Structures)],\n",
       "  gpkit.PosynomialInequality(m_{prop}_Rocket.1/SimpleEngine >= 0.17*m_Rocket.1),\n",
       "  gpkit.SignomialInequality(F_Rocket.1/Boosters*m_Rocket.1**-1 + F_Rocket.1/SimpleEngine*m_Rocket.1**-1 >= a_{launch}_Rocket.1),\n",
       "  gpkit.PosynomialInequality(a_{launch}_Rocket.1 >= T/W_Rocket.1*g_Rocket.1),\n",
       "  gpkit.PosynomialInequality(0.5*a_{launch}_Rocket.1*t_{burn}_Rocket.1/Boosters**2 >= 5),\n",
       "  gpkit.PosynomialInequality(m_{prop}_Rocket.1/Boosters >= 0.2),\n",
       "  gpkit.PosynomialInequality(c_Rocket.1/Boosters*m_{prop}_Rocket.1/Boosters >= F_Rocket.1/Boosters*t_{burn}_Rocket.1/Boosters),\n",
       "  gpkit.PosynomialInequality(m_Rocket.1 <= 100),\n",
       "  gpkit.PosynomialInequality(m_Rocket.1 >= 10)]]"
      ]
     },
     "execution_count": 3,
     "metadata": {},
     "output_type": "execute_result"
    }
   ],
   "source": [
    "r"
   ]
  },
  {
   "cell_type": "code",
   "execution_count": 30,
   "metadata": {
    "scrolled": false
   },
   "outputs": [
    {
     "name": "stdout",
     "output_type": "stream",
     "text": [
      "(objective) adds +1 to the sensitivity of m_Rocket.1\n",
      "(objective) is m_Rocket.1 [kg] \n",
      "\n",
      "Ⓐ adds -3.2 to the overall sensitivity of m_Rocket.1\n",
      "Ⓐ is m_Rocket.1 >= m_Rocket.1/Avionics + m_Rocket.1/Boosters + m_Rocket.1/Payload + m_Rocket.1/Recovery + m_Rocket.1/SimpleEngine + m_Rocket.1/Structures \n",
      "\n",
      "Ⓑ adds +2.03 to the overall sensitivity of m_Rocket.1\n",
      "Ⓑ is m_{prop}_Rocket.1/SimpleEngine >= 0.17*m_Rocket.1 \n",
      "\n",
      "Ⓒ adds +3.88e-11 to the overall sensitivity of m_Rocket.1\n",
      "Ⓒ is m_Rocket.1 <= 100 \n",
      "\n",
      "Ⓓ adds -2.03e-12 to the overall sensitivity of m_Rocket.1\n",
      "Ⓓ is m_Rocket.1 >= 10 \n",
      "\n",
      "Ⓔ adds +6.28e-14 to the overall sensitivity of m_Rocket.1\n",
      "Ⓔ is m_Rocket.1 <= 1e+30 \n",
      "\n",
      "Ⓕ adds -5.58e-14 to the overall sensitivity of m_Rocket.1\n",
      "Ⓕ is m_Rocket.1 >= 1e-30 \n",
      "\n"
     ]
    },
    {
     "data": {
      "application/vnd.jupyter.widget-view+json": {
       "model_id": "f9e55bc3b88f48a498aa2c375479aae6",
       "version_major": 2,
       "version_minor": 0
      },
      "text/plain": [
       "SankeyWidget(layout=Layout(height='400', width='900'), links=[{'source': 'm_Rocket.1', 'target': 'Model', 'val…"
      ]
     },
     "metadata": {},
     "output_type": "display_data"
    }
   ],
   "source": [
    "Sankey(prob).diagram(r.m)"
   ]
  },
  {
   "cell_type": "code",
   "execution_count": 39,
   "metadata": {},
   "outputs": [],
   "source": [
    "s = Sankey(prob)"
   ]
  },
  {
   "cell_type": "code",
   "execution_count": 47,
   "metadata": {},
   "outputs": [
    {
     "name": "stdout",
     "output_type": "stream",
     "text": [
      "Ⓐ adds +1.17 to the overall sensitivity of m_{ox}_Rocket.1/SimpleEngine\n",
      "Ⓐ is m_{prop}_Rocket.1/SimpleEngine >= m_{fuel}_Rocket.1/SimpleEngine + m_{ox}_Rocket.1/SimpleEngine \n",
      "\n",
      "Ⓑ adds -2.66 to the overall sensitivity of m_{ox}_Rocket.1/SimpleEngine\n",
      "Ⓑ is OF_Rocket.1/SimpleEngine**-1*m_{ox}_Rocket.1/SimpleEngine + m_{ox}_Rocket.1/SimpleEngine >= m_{prop}_Rocket.1/SimpleEngine \n",
      "\n",
      "Ⓒ adds +1.49 to the overall sensitivity of m_{ox}_Rocket.1/SimpleEngine\n",
      "Ⓒ is V_{ox}_Rocket.1/SimpleEngine >= m_{ox}_Rocket.1/SimpleEngine*rho_{ox}_Rocket.1/SimpleEngine**-1 \n",
      "\n",
      "Ⓓ adds +6.13e-14 to the overall sensitivity of m_{ox}_Rocket.1/SimpleEngine\n",
      "Ⓓ is m_{ox}_Rocket.1/SimpleEngine <= 1e+30 \n",
      "\n",
      "Ⓔ adds -5.72e-14 to the overall sensitivity of m_{ox}_Rocket.1/SimpleEngine\n",
      "Ⓔ is m_{ox}_Rocket.1/SimpleEngine >= 1e-30 \n",
      "\n"
     ]
    },
    {
     "data": {
      "application/vnd.jupyter.widget-view+json": {
       "model_id": "42d3c2873a024673a1960a9303247114",
       "version_major": 2,
       "version_minor": 0
      },
      "text/plain": [
       "SankeyWidget(layout=Layout(height='400', width='900'), links=[{'source': 'm_{ox}_Rocket.1/SimpleEngine', 'targ…"
      ]
     },
     "metadata": {},
     "output_type": "display_data"
    }
   ],
   "source": [
    "s.sorted_by(\"constraints\", 9)"
   ]
  },
  {
   "cell_type": "code",
   "execution_count": 50,
   "metadata": {
    "scrolled": false
   },
   "outputs": [
    {
     "name": "stdout",
     "output_type": "stream",
     "text": [
      "Ⓐ adds +1.61 to the overall sensitivity of m_{dry}_Rocket.1/SimpleEngine\n",
      "Ⓐ is m_Rocket.1/SimpleEngine >= m_{dry}_Rocket.1/SimpleEngine + m_{prop}_Rocket.1/SimpleEngine \n",
      "\n",
      "Ⓑ adds -1.61 to the overall sensitivity of m_{dry}_Rocket.1/SimpleEngine\n",
      "Ⓑ is m_{dry}_Rocket.1/SimpleEngine >= m_{grain tank}_Rocket.1/SimpleEngine + m_{nozzle}_Rocket.1/SimpleEngine + m_{ox tank}_Rocket.1/SimpleEngine + m_{valves}_Rocket.1/SimpleEngine \n",
      "\n",
      "Ⓒ adds +6.2e-14 to the overall sensitivity of m_{dry}_Rocket.1/SimpleEngine\n",
      "Ⓒ is m_{dry}_Rocket.1/SimpleEngine <= 1e+30 \n",
      "\n",
      "Ⓓ adds -5.65e-14 to the overall sensitivity of m_{dry}_Rocket.1/SimpleEngine\n",
      "Ⓓ is m_{dry}_Rocket.1/SimpleEngine >= 1e-30 \n",
      "\n"
     ]
    },
    {
     "data": {
      "application/vnd.jupyter.widget-view+json": {
       "model_id": "1b9303e59b2f40f89ff1f70cee867d88",
       "version_major": 2,
       "version_minor": 0
      },
      "text/plain": [
       "SankeyWidget(layout=Layout(height='400', width='900'), links=[{'source': 'm_{dry}_Rocket.1/SimpleEngine', 'tar…"
      ]
     },
     "metadata": {},
     "output_type": "display_data"
    }
   ],
   "source": [
    "s.sorted_by(\"maxflow\", 3)"
   ]
  },
  {
   "cell_type": "code",
   "execution_count": 73,
   "metadata": {},
   "outputs": [
    {
     "name": "stdout",
     "output_type": "stream",
     "text": [
      "Ⓐ adds +1.17 to the overall sensitivity of m_{ox}_Rocket.1/SimpleEngine\n",
      "Ⓐ is m_{prop}_Rocket.1/SimpleEngine >= m_{fuel}_Rocket.1/SimpleEngine + m_{ox}_Rocket.1/SimpleEngine \n",
      "\n",
      "Ⓑ adds -2.66 to the overall sensitivity of m_{ox}_Rocket.1/SimpleEngine\n",
      "Ⓑ is OF_Rocket.1/SimpleEngine**-1*m_{ox}_Rocket.1/SimpleEngine + m_{ox}_Rocket.1/SimpleEngine >= m_{prop}_Rocket.1/SimpleEngine \n",
      "\n",
      "Ⓒ adds +1.49 to the overall sensitivity of m_{ox}_Rocket.1/SimpleEngine\n",
      "Ⓒ is V_{ox}_Rocket.1/SimpleEngine >= m_{ox}_Rocket.1/SimpleEngine*rho_{ox}_Rocket.1/SimpleEngine**-1 \n",
      "\n",
      "Ⓓ adds +6.13e-14 to the overall sensitivity of m_{ox}_Rocket.1/SimpleEngine\n",
      "Ⓓ is m_{ox}_Rocket.1/SimpleEngine <= 1e+30 \n",
      "\n",
      "Ⓔ adds -5.72e-14 to the overall sensitivity of m_{ox}_Rocket.1/SimpleEngine\n",
      "Ⓔ is m_{ox}_Rocket.1/SimpleEngine >= 1e-30 \n",
      "\n"
     ]
    },
    {
     "data": {
      "application/vnd.jupyter.widget-view+json": {
       "model_id": "0a0ec5c08b984dc28fcb99d04804a85d",
       "version_major": 2,
       "version_minor": 0
      },
      "text/plain": [
       "SankeyWidget(layout=Layout(height='400', width='900'), links=[{'source': 'm_{ox}_Rocket.1/SimpleEngine', 'targ…"
      ]
     },
     "metadata": {},
     "output_type": "display_data"
    }
   ],
   "source": [
    "Sankey(prob).diagram(r.engine.m_ox)"
   ]
  }
 ],
 "metadata": {
  "kernelspec": {
   "display_name": "Python 3",
   "language": "python",
   "name": "python3"
  },
  "language_info": {
   "codemirror_mode": {
    "name": "ipython",
    "version": 3
   },
   "file_extension": ".py",
   "mimetype": "text/x-python",
   "name": "python",
   "nbconvert_exporter": "python",
   "pygments_lexer": "ipython3",
   "version": "3.6.7"
  }
 },
 "nbformat": 4,
 "nbformat_minor": 2
}
