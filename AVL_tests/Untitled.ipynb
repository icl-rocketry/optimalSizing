{
 "cells": [
  {
   "cell_type": "code",
   "execution_count": 10,
   "metadata": {},
   "outputs": [],
   "source": [
    "import json\n",
    "from avlwrapper import (Geometry, Surface, Section, NacaAirfoil, Control,\n",
    "                        Point, Spacing, Session, Case, Parameter,\n",
    "                        create_sweep_cases, partitioned_cases)"
   ]
  },
  {
   "cell_type": "code",
   "execution_count": null,
   "metadata": {},
   "outputs": [],
   "source": []
  },
  {
   "cell_type": "code",
   "execution_count": 11,
   "metadata": {},
   "outputs": [],
   "source": [
    "flap_control = Control(name=\"flap\",\n",
    "                           gain=1.0,\n",
    "                           x_hinge=0.8,\n",
    "                           duplicate_sign=1)\n",
    "\n",
    "# wing root section with a flap control and NACA airfoil\n",
    "root_section = Section(leading_edge_point=Point(0, 0, 0),\n",
    "                           chord=1.0,\n",
    "                           controls=[flap_control],\n",
    "                           airfoil=NacaAirfoil(naca='2414'))\n",
    "\n",
    "# wing tip\n",
    "tip_section = Section(leading_edge_point=Point(0.6, 2.0, 0),\n",
    "                          chord=0.4,\n",
    "                          controls=[flap_control],\n",
    "                          airfoil=NacaAirfoil(naca='2410'))\n",
    "\n",
    "# wing surface defined by root and tip sections\n",
    "wing_surface = Surface(name=\"Wing\",\n",
    "                           n_chordwise=8,\n",
    "                           chord_spacing=Spacing.cosine,\n",
    "                           n_spanwise=12,\n",
    "                           span_spacing=Spacing.cosine,\n",
    "                           y_duplicate=0.0,\n",
    "                           sections=[root_section, tip_section])\n",
    "\n",
    "# elevator control for the tail surface\n",
    "elevator = Control(name=\"elevator\",\n",
    "                   gain=1.0,\n",
    "                   x_hinge=0.6,\n",
    "                   duplicate_sign=1)\n",
    "\n",
    "# tail surface definition, sections are defined in-line\n",
    "tail_sections = [Section(leading_edge_point=Point(3.5, 0, 0.2),\n",
    "                         chord=0.4,\n",
    "                         controls=[elevator]),\n",
    "                 Section(leading_edge_point=Point(3.7, 1.2, 0.2),\n",
    "                         chord=0.25,\n",
    "                         controls=[elevator])]\n",
    "tail_surface = Surface(name=\"Horizontal Stabiliser\",\n",
    "                       n_chordwise=8,\n",
    "                       chord_spacing=Spacing.cosine,\n",
    "                       n_spanwise=8,\n",
    "                       span_spacing=Spacing.cosine,\n",
    "                       y_duplicate=0.0,\n",
    "                       sections=tail_sections)\n",
    "\n",
    "# geometry object (which corresponds to an AVL input-file)\n",
    "geometry = Geometry(name=\"Test wing\",\n",
    "                    reference_area=4.8,\n",
    "                    reference_chord=0.74,\n",
    "                    reference_span=4,\n",
    "                    reference_point=Point(0.21, 0, 0.15),\n",
    "                    surfaces=[wing_surface, tail_surface])\n",
    "\n"
   ]
  },
  {
   "cell_type": "code",
   "execution_count": 12,
   "metadata": {},
   "outputs": [],
   "source": [
    "# Cases (multiple cases can be defined)\n",
    "\n",
    "# Case defined by one angle-of-attack\n",
    "cruise_case = Case(name='Cruise', alpha=4.0)\n",
    "\n",
    "# More elaborate case, angle-of-attack of 4deg,\n",
    "# elevator parameter which sets Cm (pitching moment) to 0.0\n",
    "control_param = Parameter(name='elevator', constraint='Cm', value=0.0)\n",
    "cruise_trim_case = Case(name='Trimmed',\n",
    "                        alpha=4.0,\n",
    "                        elevator=control_param)\n",
    "\n",
    "# Landing case; flaps down by 15deg\n",
    "landing_case = Case(name='Landing', alpha=7.0, flap=15.0)\n",
    "\n",
    "# create session with the geometry object and the cases\n",
    "all_cases = [cruise_case, cruise_trim_case, landing_case]\n",
    "session = Session(geometry=geometry, cases=all_cases)\n"
   ]
  },
  {
   "cell_type": "code",
   "execution_count": 17,
   "metadata": {},
   "outputs": [],
   "source": [
    "\n",
    "# show geometry with AVL\n",
    "session.show_geometry()\n"
   ]
  },
  {
   "cell_type": "code",
   "execution_count": null,
   "metadata": {},
   "outputs": [],
   "source": [
    "session.quit()"
   ]
  },
  {
   "cell_type": "code",
   "execution_count": 16,
   "metadata": {},
   "outputs": [],
   "source": [
    "\n",
    "session.show_trefftz_plot(1)\n"
   ]
  },
  {
   "cell_type": "code",
   "execution_count": null,
   "metadata": {},
   "outputs": [],
   "source": [
    "\n",
    "# get results and write the resulting dict to a JSON-file\n",
    "with open('out.json', 'w') as f:\n",
    "    f.write(json.dumps(session.results))\n",
    "\n",
    "# generate cases for a parameter sweep\n",
    "polar_cases = create_sweep_cases(base_case=cruise_trim_case,\n",
    "                                 parameters=[{'name': 'alpha',\n",
    "                                              'values': list(range(15))},\n",
    "                                             {'name': 'beta',\n",
    "                                              'values': list(range(-5, 6))}])\n",
    "\n",
    "# avl only supports 25 cases, use partitioned_cases generator\n",
    "partitions = partitioned_cases(polar_cases)\n",
    "\n",
    "results = {}\n",
    "for partition in partitions:\n",
    "    session = Session(geometry=geometry, cases=partition)\n",
    "    results.update(session.results)\n",
    "\n",
    "with open('out2.json', 'w') as f:\n",
    "    f.write(json.dumps(results))"
   ]
  }
 ],
 "metadata": {
  "kernelspec": {
   "display_name": "Python 3",
   "language": "python",
   "name": "python3"
  },
  "language_info": {
   "codemirror_mode": {
    "name": "ipython",
    "version": 3
   },
   "file_extension": ".py",
   "mimetype": "text/x-python",
   "name": "python",
   "nbconvert_exporter": "python",
   "pygments_lexer": "ipython3",
   "version": "3.6.7"
  }
 },
 "nbformat": 4,
 "nbformat_minor": 2
}
