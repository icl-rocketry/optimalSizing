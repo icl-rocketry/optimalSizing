{
 "cells": [
  {
   "cell_type": "code",
   "execution_count": 1,
   "metadata": {
    "scrolled": false
   },
   "outputs": [
    {
     "name": "stdout",
     "output_type": "stream",
     "text": [
      "​Beginning signomial solve.\n",
      "Solving took 5 GP solves and 2.25 seconds.\n",
      "\n",
      "Cost\n",
      "----\n",
      " 35.7 [kg]\n",
      "\n",
      "Free Variables\n",
      "--------------\n",
      "               | Rocket\n",
      "    a_{launch} : 98.1       [m/s²] Acceleration off launch rail\n",
      "             m : 35.7       [kg]   Mass of Rocket\n",
      "\n",
      "               | Rocket/Boosters\n",
      "             F : 2752       [N]    Boosters cumulative thrust\n",
      "             c : 2000       [m/s]  boosters exhaust speed\n",
      "             m : 1.464      [kg]   Mass of Boosters\n",
      "       m_{dry} : 1.025      [kg]   Dry mass of boosters\n",
      "      m_{prop} : 0.4393     [kg]   Propellant mass of boosters\n",
      "      t_{burn} : 0.3193     [s]    Booster burn time\n",
      "\n",
      "               | Rocket/SimpleEngine\n",
      "     A_{grain} : 26.04      [cm²]  cross section of where the grain is\n",
      "     L_{grain} : 0.1771     [m]    Length of the grain\n",
      "        L_{ox} : 0.601      [m]    Length of ox tank\n",
      "        V_{ox} : 1.062e+04  [cm³]  Volume of ox tank\n",
      "             m : 18.73      [kg]   Mass of Engine\n",
      "       m_{dry} : 12.67      [kg]   Dry mass of engine\n",
      "      m_{fuel} : 0.867      [kg]   fuel mass\n",
      "m_{grain tank} : 5.333      [kg]   Mass of grain tank\n",
      "   m_{ox tank} : 5.333      [kg]   Mass of ox tank\n",
      "        m_{ox} : 5.202      [kg]   ox mass\n",
      "      m_{prop} : 6.069      [kg]   Mass of Propellant\n",
      "      t_{wall} : 6.977      [mm]   Wall Thickness of ox tank\n",
      "      v_{fuel} : 135.8      [cm³]  Volume of fuel\n",
      "\n",
      "               | Rocket/Structures\n",
      "             m : 6          [kg]   Mass of Structures\n",
      "\n",
      "Most Sensitive\n",
      "--------------\n",
      "        Tank P : +0.62  Max Ox Tank pressure\n",
      "rho_{ox, tank} : +0.62  Density of ox tank (if al)\n",
      "            SF : +0.62  Wall thickness safety factor\n",
      "  \\sigma_{max} : -0.62  Max stress of tank, Al-7075-T6\n",
      "      rho_{ox} : -0.62  density of liquid ox\n",
      "\n",
      "Tightest Constraints\n",
      "--------------------\n",
      "       | Rocket\n",
      "  +2.1 : m_ >= m_/Avionics + m_/Boosters + m_/Payload + m_/Recovery + m_/SimpleEngine\n",
      "           + m_/Structures\n",
      " +0.98 : m_{prop}_/SimpleEngine >= 0.17*m_\n",
      "\n",
      "       | Rocket/SimpleEngine\n",
      "  +1.8 : OF_**-1*m_{ox}_ + m_{ox}_ >= m_{prop}_\n",
      "  +1.4 : m_{prop}_ >= m_{fuel}_ + m_{ox}_\n",
      "  +1.1 : m_ >= m_{dry}_ + m_{prop}_\n",
      "\n"
     ]
    }
   ],
   "source": [
    "import gpkit\n",
    "from gpkit import Model, Variable\n",
    "from gpkit.constraints.tight import Tight\n",
    "from gpkit.constraints.bounded import Bounded\n",
    "from gpkit import ureg\n",
    "\n",
    "from prettytable import PrettyTable\n",
    "\n",
    "from rocket import Rocket\n",
    "from sankey3 import Sankey\n",
    "\n",
    "with gpkit.SignomialsEnabled():\n",
    "    r = Rocket()\n",
    "    prob = Model(r.m, Bounded(r))\n",
    "    sol = prob.localsolve(iteration_limit=10)\n",
    "\n",
    "        \n",
    "print(sol.summary())"
   ]
  },
  {
   "cell_type": "code",
   "execution_count": 43,
   "metadata": {},
   "outputs": [
    {
     "name": "stdout",
     "output_type": "stream",
     "text": [
      "+----------------+---------------------+-----------+--------+-------------+------------------+\n",
      "|            key |             lineage |     value |   unit | sensitivity | abs(sensitivity) |\n",
      "+----------------+---------------------+-----------+--------+-------------+------------------+\n",
      "| rho_{ox, tank} | Rocket/SimpleEngine |  2700.000 | kg/m^3 |       0.624 |            0.624 |\n",
      "|   \\sigma_{max} | Rocket/SimpleEngine |   430.000 |    MPa |      -0.624 |            0.624 |\n",
      "|         Tank P | Rocket/SimpleEngine |    80.000 |    bar |       0.624 |            0.624 |\n",
      "|             SF | Rocket/SimpleEngine |     5.000 |      - |       0.624 |            0.624 |\n",
      "|       rho_{ox} | Rocket/SimpleEngine |   490.000 | kg/m^3 |      -0.624 |            0.624 |\n",
      "|              m |      Rocket/Payload |     4.500 |     kg |       0.263 |            0.263 |\n",
      "|              m |     Rocket/Recovery |     3.000 |     kg |       0.175 |            0.175 |\n",
      "|              m |     Rocket/Avionics |     2.000 |     kg |       0.117 |            0.117 |\n",
      "|             OF | Rocket/SimpleEngine |     6.000 |      - |       0.089 |            0.089 |\n",
      "|              g |              Rocket |     9.810 |  m/s^2 |       0.066 |            0.066 |\n",
      "|            T/W |              Rocket |    10.000 |      - |       0.066 |            0.066 |\n",
      "|     m_{valves} | Rocket/SimpleEngine |     1.000 |     kg |       0.058 |            0.058 |\n",
      "|     m_{nozzle} | Rocket/SimpleEngine |     1.000 |     kg |       0.058 |            0.058 |\n",
      "|              F | Rocket/SimpleEngine |   750.000 |      N |      -0.023 |            0.023 |\n",
      "|              m |     Rocket/Boosters |     1.464 |     kg |       0.000 |            0.000 |\n",
      "|              m | Rocket/SimpleEngine |    18.734 |     kg |      -0.000 |            0.000 |\n",
      "|           d_ox | Rocket/SimpleEngine |    15.000 |     cm |       0.000 |            0.000 |\n",
      "|              m |   Rocket/Structures |     6.000 |     kg |      -0.000 |            0.000 |\n",
      "|       m_{prop} |     Rocket/Boosters |     0.439 |     kg |      -0.000 |            0.000 |\n",
      "|        m_{dry} |     Rocket/Boosters |     1.025 |     kg |       0.000 |            0.000 |\n",
      "| m_{grain tank} | Rocket/SimpleEngine |     5.333 |     kg |       0.000 |            0.000 |\n",
      "|    m_{ox tank} | Rocket/SimpleEngine |     5.333 |     kg |      -0.000 |            0.000 |\n",
      "|       m_{prop} | Rocket/SimpleEngine |     6.069 |     kg |      -0.000 |            0.000 |\n",
      "|        m_{dry} | Rocket/SimpleEngine |    12.665 |     kg |       0.000 |            0.000 |\n",
      "|       m_{fuel} | Rocket/SimpleEngine |     0.867 |     kg |      -0.000 |            0.000 |\n",
      "|         m_{ox} | Rocket/SimpleEngine |     5.202 |     kg |       0.000 |            0.000 |\n",
      "|              m |              Rocket |    35.698 |     kg |       0.000 |            0.000 |\n",
      "|       t_{burn} |     Rocket/Boosters |     0.319 |      s |      -0.000 |            0.000 |\n",
      "|       v_{fuel} | Rocket/SimpleEngine |   135.849 |   cm^3 |       0.000 |            0.000 |\n",
      "|     a_{launch} |              Rocket |    98.100 |  m/s^2 |      -0.000 |            0.000 |\n",
      "|       t_{wall} | Rocket/SimpleEngine |     6.977 |     mm |       0.000 |            0.000 |\n",
      "|              F |     Rocket/Boosters |  2752.008 |      N |       0.000 |            0.000 |\n",
      "|         L_{ox} | Rocket/SimpleEngine |     0.601 |      m |      -0.000 |            0.000 |\n",
      "|         V_{ox} | Rocket/SimpleEngine | 10615.832 |   cm^3 |       0.000 |            0.000 |\n",
      "|              c |     Rocket/Boosters |  2000.000 |    m/s |       0.000 |            0.000 |\n",
      "|      L_{grain} | Rocket/SimpleEngine |     0.177 |      m |      -0.000 |            0.000 |\n",
      "|      A_{grain} | Rocket/SimpleEngine |    26.036 |   cm^2 |       0.000 |            0.000 |\n",
      "+----------------+---------------------+-----------+--------+-------------+------------------+\n"
     ]
    }
   ],
   "source": [
    "\n",
    "d=sol['sensitivities']['variables']\n",
    "variables = sol['variables']\n",
    "t = PrettyTable(['key','lineage','value','unit','sensitivity', 'abs(sensitivity)'])\n",
    "for key, val in d.items():\n",
    "    t.add_row([key.name,key.lineagestr(),float(variables[key]),key.unitrepr,float(val),abs(float(val))])\n",
    "t.sortby = 'abs(sensitivity)'\n",
    "t.float_format='5.3'\n",
    "t.reversesort = True\n",
    "t.align='r'\n",
    "print(t)\n"
   ]
  },
  {
   "cell_type": "code",
   "execution_count": 44,
   "metadata": {},
   "outputs": [
    {
     "name": "stdout",
     "output_type": "stream",
     "text": [
      "+----------------+---------------------+-----------+--------+-------------+------------------+\n",
      "|            key |             lineage |     value |   unit | sensitivity | abs(sensitivity) |\n",
      "+----------------+---------------------+-----------+--------+-------------+------------------+\n",
      "|              m |   Rocket/Structures |     6.000 |     kg |      -0.000 |            0.000 |\n",
      "|       v_{fuel} | Rocket/SimpleEngine |   135.849 |   cm^3 |       0.000 |            0.000 |\n",
      "|       t_{wall} | Rocket/SimpleEngine |     6.977 |     mm |       0.000 |            0.000 |\n",
      "|       rho_{ox} | Rocket/SimpleEngine |   490.000 | kg/m^3 |      -0.624 |            0.624 |\n",
      "| rho_{ox, tank} | Rocket/SimpleEngine |  2700.000 | kg/m^3 |       0.624 |            0.624 |\n",
      "|     m_{valves} | Rocket/SimpleEngine |     1.000 |     kg |       0.058 |            0.058 |\n",
      "|       m_{prop} | Rocket/SimpleEngine |     6.069 |     kg |      -0.000 |            0.000 |\n",
      "|         m_{ox} | Rocket/SimpleEngine |     5.202 |     kg |       0.000 |            0.000 |\n",
      "|    m_{ox tank} | Rocket/SimpleEngine |     5.333 |     kg |      -0.000 |            0.000 |\n",
      "|     m_{nozzle} | Rocket/SimpleEngine |     1.000 |     kg |       0.058 |            0.058 |\n",
      "| m_{grain tank} | Rocket/SimpleEngine |     5.333 |     kg |       0.000 |            0.000 |\n",
      "|       m_{fuel} | Rocket/SimpleEngine |     0.867 |     kg |      -0.000 |            0.000 |\n",
      "|        m_{dry} | Rocket/SimpleEngine |    12.665 |     kg |       0.000 |            0.000 |\n",
      "|              m | Rocket/SimpleEngine |    18.734 |     kg |      -0.000 |            0.000 |\n",
      "|           d_ox | Rocket/SimpleEngine |    15.000 |     cm |       0.000 |            0.000 |\n",
      "|   \\sigma_{max} | Rocket/SimpleEngine |   430.000 |    MPa |      -0.624 |            0.624 |\n",
      "|         V_{ox} | Rocket/SimpleEngine | 10615.832 |   cm^3 |       0.000 |            0.000 |\n",
      "|         Tank P | Rocket/SimpleEngine |    80.000 |    bar |       0.624 |            0.624 |\n",
      "|             SF | Rocket/SimpleEngine |     5.000 |      - |       0.624 |            0.624 |\n",
      "|             OF | Rocket/SimpleEngine |     6.000 |      - |       0.089 |            0.089 |\n",
      "|         L_{ox} | Rocket/SimpleEngine |     0.601 |      m |      -0.000 |            0.000 |\n",
      "|      L_{grain} | Rocket/SimpleEngine |     0.177 |      m |      -0.000 |            0.000 |\n",
      "|              F | Rocket/SimpleEngine |   750.000 |      N |      -0.023 |            0.023 |\n",
      "|      A_{grain} | Rocket/SimpleEngine |    26.036 |   cm^2 |       0.000 |            0.000 |\n",
      "|              m |     Rocket/Recovery |     3.000 |     kg |       0.175 |            0.175 |\n",
      "|              m |      Rocket/Payload |     4.500 |     kg |       0.263 |            0.263 |\n",
      "|       t_{burn} |     Rocket/Boosters |     0.319 |      s |      -0.000 |            0.000 |\n",
      "|       m_{prop} |     Rocket/Boosters |     0.439 |     kg |      -0.000 |            0.000 |\n",
      "|        m_{dry} |     Rocket/Boosters |     1.025 |     kg |       0.000 |            0.000 |\n",
      "|              m |     Rocket/Boosters |     1.464 |     kg |       0.000 |            0.000 |\n",
      "|              c |     Rocket/Boosters |  2000.000 |    m/s |       0.000 |            0.000 |\n",
      "|              F |     Rocket/Boosters |  2752.008 |      N |       0.000 |            0.000 |\n",
      "|              m |     Rocket/Avionics |     2.000 |     kg |       0.117 |            0.117 |\n",
      "|              m |              Rocket |    35.698 |     kg |       0.000 |            0.000 |\n",
      "|              g |              Rocket |     9.810 |  m/s^2 |       0.066 |            0.066 |\n",
      "|     a_{launch} |              Rocket |    98.100 |  m/s^2 |      -0.000 |            0.000 |\n",
      "|            T/W |              Rocket |    10.000 |      - |       0.066 |            0.066 |\n",
      "+----------------+---------------------+-----------+--------+-------------+------------------+\n"
     ]
    }
   ],
   "source": [
    "t.sortby = 'lineage'\n",
    "print(t)"
   ]
  },
  {
   "cell_type": "code",
   "execution_count": null,
   "metadata": {},
   "outputs": [],
   "source": []
  },
  {
   "cell_type": "code",
   "execution_count": 46,
   "metadata": {},
   "outputs": [
    {
     "name": "stdout",
     "output_type": "stream",
     "text": [
      "+----------------+---------------------+-----------+--------+-------------+------------------+\n",
      "|            key |             lineage |     value |   unit | sensitivity | abs(sensitivity) |\n",
      "+----------------+---------------------+-----------+--------+-------------+------------------+\n",
      "|              m |   Rocket/Structures |     6.000 |     kg |      -0.000 |            0.000 |\n",
      "| rho_{ox, tank} | Rocket/SimpleEngine |  2700.000 | kg/m^3 |       0.624 |            0.624 |\n",
      "|   \\sigma_{max} | Rocket/SimpleEngine |   430.000 |    MPa |      -0.624 |            0.624 |\n",
      "|             SF | Rocket/SimpleEngine |     5.000 |      - |       0.624 |            0.624 |\n",
      "|         Tank P | Rocket/SimpleEngine |    80.000 |    bar |       0.624 |            0.624 |\n",
      "|       rho_{ox} | Rocket/SimpleEngine |   490.000 | kg/m^3 |      -0.624 |            0.624 |\n",
      "|             OF | Rocket/SimpleEngine |     6.000 |      - |       0.089 |            0.089 |\n",
      "|     m_{valves} | Rocket/SimpleEngine |     1.000 |     kg |       0.058 |            0.058 |\n",
      "|     m_{nozzle} | Rocket/SimpleEngine |     1.000 |     kg |       0.058 |            0.058 |\n",
      "|              F | Rocket/SimpleEngine |   750.000 |      N |      -0.023 |            0.023 |\n",
      "|              m | Rocket/SimpleEngine |    18.734 |     kg |      -0.000 |            0.000 |\n",
      "|           d_ox | Rocket/SimpleEngine |    15.000 |     cm |       0.000 |            0.000 |\n",
      "| m_{grain tank} | Rocket/SimpleEngine |     5.333 |     kg |       0.000 |            0.000 |\n",
      "|    m_{ox tank} | Rocket/SimpleEngine |     5.333 |     kg |      -0.000 |            0.000 |\n",
      "|       m_{prop} | Rocket/SimpleEngine |     6.069 |     kg |      -0.000 |            0.000 |\n",
      "|        m_{dry} | Rocket/SimpleEngine |    12.665 |     kg |       0.000 |            0.000 |\n",
      "|       m_{fuel} | Rocket/SimpleEngine |     0.867 |     kg |      -0.000 |            0.000 |\n",
      "|         m_{ox} | Rocket/SimpleEngine |     5.202 |     kg |       0.000 |            0.000 |\n",
      "|       v_{fuel} | Rocket/SimpleEngine |   135.849 |   cm^3 |       0.000 |            0.000 |\n",
      "|       t_{wall} | Rocket/SimpleEngine |     6.977 |     mm |       0.000 |            0.000 |\n",
      "|         L_{ox} | Rocket/SimpleEngine |     0.601 |      m |      -0.000 |            0.000 |\n",
      "|         V_{ox} | Rocket/SimpleEngine | 10615.832 |   cm^3 |       0.000 |            0.000 |\n",
      "|      L_{grain} | Rocket/SimpleEngine |     0.177 |      m |      -0.000 |            0.000 |\n",
      "|      A_{grain} | Rocket/SimpleEngine |    26.036 |   cm^2 |       0.000 |            0.000 |\n",
      "|              m |     Rocket/Recovery |     3.000 |     kg |       0.175 |            0.175 |\n",
      "|              m |      Rocket/Payload |     4.500 |     kg |       0.263 |            0.263 |\n",
      "|              m |     Rocket/Boosters |     1.464 |     kg |       0.000 |            0.000 |\n",
      "|       m_{prop} |     Rocket/Boosters |     0.439 |     kg |      -0.000 |            0.000 |\n",
      "|        m_{dry} |     Rocket/Boosters |     1.025 |     kg |       0.000 |            0.000 |\n",
      "|       t_{burn} |     Rocket/Boosters |     0.319 |      s |      -0.000 |            0.000 |\n",
      "|              F |     Rocket/Boosters |  2752.008 |      N |       0.000 |            0.000 |\n",
      "|              c |     Rocket/Boosters |  2000.000 |    m/s |       0.000 |            0.000 |\n",
      "|              m |     Rocket/Avionics |     2.000 |     kg |       0.117 |            0.117 |\n",
      "|              g |              Rocket |     9.810 |  m/s^2 |       0.066 |            0.066 |\n",
      "|            T/W |              Rocket |    10.000 |      - |       0.066 |            0.066 |\n",
      "|              m |              Rocket |    35.698 |     kg |       0.000 |            0.000 |\n",
      "|     a_{launch} |              Rocket |    98.100 |  m/s^2 |      -0.000 |            0.000 |\n",
      "+----------------+---------------------+-----------+--------+-------------+------------------+\n"
     ]
    }
   ],
   "source": [
    "import operator\n",
    "t.sort_key=operator.itemgetter(2,6)\n",
    "print(t)"
   ]
  },
  {
   "cell_type": "code",
   "execution_count": null,
   "metadata": {},
   "outputs": [],
   "source": []
  },
  {
   "cell_type": "code",
   "execution_count": 14,
   "metadata": {
    "scrolled": false
   },
   "outputs": [
    {
     "name": "stdout",
     "output_type": "stream",
     "text": [
      "(objective) adds +1 to the sensitivity of m_Rocket\n",
      "(objective) is m_Rocket [kg] \n",
      "\n",
      "Ⓐ adds -2.09 to the overall sensitivity of m_Rocket\n",
      "Ⓐ is m_Rocket >= m_Rocket/Avionics + m_Rocket/Boosters + m_Rocket/Payload + m_Rocket/Recovery + m_Rocket/SimpleEngine + m_Rocket/Structures \n",
      "\n",
      "Ⓑ adds +0.979 to the overall sensitivity of m_Rocket\n",
      "Ⓑ is m_{prop}_Rocket/SimpleEngine >= 0.17*m_Rocket \n",
      "\n",
      "Ⓒ adds +1.39e-11 to the overall sensitivity of m_Rocket\n",
      "Ⓒ is m_Rocket <= 100 \n",
      "\n",
      "Ⓓ adds -3.33e-11 to the overall sensitivity of m_Rocket\n",
      "Ⓓ is m_Rocket >= 10 \n",
      "\n",
      "Ⓔ adds +4.37e-13 to the overall sensitivity of m_Rocket\n",
      "Ⓔ is m_Rocket <= 1e+30 \n",
      "\n",
      "Ⓕ adds -4.02e-13 to the overall sensitivity of m_Rocket\n",
      "Ⓕ is m_Rocket >= 1e-30 \n",
      "\n"
     ]
    },
    {
     "data": {
      "application/vnd.jupyter.widget-view+json": {
       "model_id": "dd46bb70a0554faaaa21f60e5124858e",
       "version_major": 2,
       "version_minor": 0
      },
      "text/plain": [
       "SankeyWidget(layout=Layout(height='400', width='900'), links=[{'source': 'm_Rocket', 'target': 'Model', 'value…"
      ]
     },
     "metadata": {},
     "output_type": "display_data"
    }
   ],
   "source": [
    "Sankey(prob).diagram(r.m)"
   ]
  },
  {
   "cell_type": "code",
   "execution_count": 15,
   "metadata": {},
   "outputs": [],
   "source": [
    "s = Sankey(prob)"
   ]
  },
  {
   "cell_type": "code",
   "execution_count": 16,
   "metadata": {},
   "outputs": [
    {
     "name": "stdout",
     "output_type": "stream",
     "text": [
      "Ⓐ adds +1.2 to the overall sensitivity of m_{ox}_Rocket/SimpleEngine\n",
      "Ⓐ is m_{prop}_Rocket/SimpleEngine >= m_{fuel}_Rocket/SimpleEngine + m_{ox}_Rocket/SimpleEngine \n",
      "\n",
      "Ⓑ adds -1.83 to the overall sensitivity of m_{ox}_Rocket/SimpleEngine\n",
      "Ⓑ is OF_Rocket/SimpleEngine**-1*m_{ox}_Rocket/SimpleEngine + m_{ox}_Rocket/SimpleEngine >= m_{prop}_Rocket/SimpleEngine \n",
      "\n",
      "Ⓒ adds +0.624 to the overall sensitivity of m_{ox}_Rocket/SimpleEngine\n",
      "Ⓒ is V_{ox}_Rocket/SimpleEngine >= m_{ox}_Rocket/SimpleEngine*rho_{ox}_Rocket/SimpleEngine**-1 \n",
      "\n",
      "Ⓓ adds +4.25e-13 to the overall sensitivity of m_{ox}_Rocket/SimpleEngine\n",
      "Ⓓ is m_{ox}_Rocket/SimpleEngine <= 1e+30 \n",
      "\n",
      "Ⓔ adds -4.12e-13 to the overall sensitivity of m_{ox}_Rocket/SimpleEngine\n",
      "Ⓔ is m_{ox}_Rocket/SimpleEngine >= 1e-30 \n",
      "\n"
     ]
    },
    {
     "data": {
      "application/vnd.jupyter.widget-view+json": {
       "model_id": "fc8bf027be2f486bbe9d57091894d857",
       "version_major": 2,
       "version_minor": 0
      },
      "text/plain": [
       "SankeyWidget(layout=Layout(height='400', width='900'), links=[{'source': 'm_{ox}_Rocket/SimpleEngine', 'target…"
      ]
     },
     "metadata": {},
     "output_type": "display_data"
    }
   ],
   "source": [
    "s.sorted_by(\"constraints\", 9)"
   ]
  },
  {
   "cell_type": "code",
   "execution_count": 17,
   "metadata": {
    "scrolled": false
   },
   "outputs": [
    {
     "name": "stdout",
     "output_type": "stream",
     "text": [
      "(objective) adds +1 to the sensitivity of m_Rocket\n",
      "(objective) is m_Rocket [kg] \n",
      "\n",
      "Ⓐ adds -2.09 to the overall sensitivity of m_Rocket\n",
      "Ⓐ is m_Rocket >= m_Rocket/Avionics + m_Rocket/Boosters + m_Rocket/Payload + m_Rocket/Recovery + m_Rocket/SimpleEngine + m_Rocket/Structures \n",
      "\n",
      "Ⓑ adds +0.979 to the overall sensitivity of m_Rocket\n",
      "Ⓑ is m_{prop}_Rocket/SimpleEngine >= 0.17*m_Rocket \n",
      "\n",
      "Ⓒ adds +1.39e-11 to the overall sensitivity of m_Rocket\n",
      "Ⓒ is m_Rocket <= 100 \n",
      "\n",
      "Ⓓ adds -3.33e-11 to the overall sensitivity of m_Rocket\n",
      "Ⓓ is m_Rocket >= 10 \n",
      "\n",
      "Ⓔ adds +4.37e-13 to the overall sensitivity of m_Rocket\n",
      "Ⓔ is m_Rocket <= 1e+30 \n",
      "\n",
      "Ⓕ adds -4.02e-13 to the overall sensitivity of m_Rocket\n",
      "Ⓕ is m_Rocket >= 1e-30 \n",
      "\n"
     ]
    },
    {
     "data": {
      "application/vnd.jupyter.widget-view+json": {
       "model_id": "b9a3620435094f429fe28820b2e57e93",
       "version_major": 2,
       "version_minor": 0
      },
      "text/plain": [
       "SankeyWidget(layout=Layout(height='400', width='900'), links=[{'source': 'm_Rocket', 'target': 'Model', 'value…"
      ]
     },
     "metadata": {},
     "output_type": "display_data"
    }
   ],
   "source": [
    "s.sorted_by(\"maxflow\", 3)"
   ]
  },
  {
   "cell_type": "code",
   "execution_count": 18,
   "metadata": {},
   "outputs": [
    {
     "name": "stdout",
     "output_type": "stream",
     "text": [
      "Ⓐ adds +1.2 to the overall sensitivity of m_{ox}_Rocket/SimpleEngine\n",
      "Ⓐ is m_{prop}_Rocket/SimpleEngine >= m_{fuel}_Rocket/SimpleEngine + m_{ox}_Rocket/SimpleEngine \n",
      "\n",
      "Ⓑ adds -1.83 to the overall sensitivity of m_{ox}_Rocket/SimpleEngine\n",
      "Ⓑ is OF_Rocket/SimpleEngine**-1*m_{ox}_Rocket/SimpleEngine + m_{ox}_Rocket/SimpleEngine >= m_{prop}_Rocket/SimpleEngine \n",
      "\n",
      "Ⓒ adds +0.624 to the overall sensitivity of m_{ox}_Rocket/SimpleEngine\n",
      "Ⓒ is V_{ox}_Rocket/SimpleEngine >= m_{ox}_Rocket/SimpleEngine*rho_{ox}_Rocket/SimpleEngine**-1 \n",
      "\n",
      "Ⓓ adds +4.25e-13 to the overall sensitivity of m_{ox}_Rocket/SimpleEngine\n",
      "Ⓓ is m_{ox}_Rocket/SimpleEngine <= 1e+30 \n",
      "\n",
      "Ⓔ adds -4.12e-13 to the overall sensitivity of m_{ox}_Rocket/SimpleEngine\n",
      "Ⓔ is m_{ox}_Rocket/SimpleEngine >= 1e-30 \n",
      "\n"
     ]
    },
    {
     "data": {
      "application/vnd.jupyter.widget-view+json": {
       "model_id": "948744118ded463487a6c871da95c761",
       "version_major": 2,
       "version_minor": 0
      },
      "text/plain": [
       "SankeyWidget(layout=Layout(height='400', width='900'), links=[{'source': 'm_{ox}_Rocket/SimpleEngine', 'target…"
      ]
     },
     "metadata": {},
     "output_type": "display_data"
    }
   ],
   "source": [
    "Sankey(prob).diagram(r.engine.m_ox)"
   ]
  },
  {
   "cell_type": "code",
   "execution_count": null,
   "metadata": {},
   "outputs": [],
   "source": []
  },
  {
   "cell_type": "code",
   "execution_count": null,
   "metadata": {},
   "outputs": [],
   "source": []
  }
 ],
 "metadata": {
  "kernelspec": {
   "display_name": "Python 3",
   "language": "python",
   "name": "python3"
  },
  "language_info": {
   "codemirror_mode": {
    "name": "ipython",
    "version": 3
   },
   "file_extension": ".py",
   "mimetype": "text/x-python",
   "name": "python",
   "nbconvert_exporter": "python",
   "pygments_lexer": "ipython3",
   "version": "3.6.7"
  }
 },
 "nbformat": 4,
 "nbformat_minor": 2
}
