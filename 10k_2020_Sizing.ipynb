{
 "cells": [
  {
   "cell_type": "code",
   "execution_count": 1,
   "metadata": {},
   "outputs": [
    {
     "name": "stdout",
     "output_type": "stream",
     "text": [
      "​"
     ]
    }
   ],
   "source": [
    "\n",
    "from gpkit import Model, Variable\n",
    "from gpkit.constraints.tight import Tight\n",
    "from gpkit.constraints.bounded import Bounded\n",
    "from gpkit import ureg\n",
    "\n",
    "from BasicRocketComponents import Motor, Tube"
   ]
  },
  {
   "cell_type": "code",
   "execution_count": 2,
   "metadata": {},
   "outputs": [],
   "source": [
    "\n",
    "class Rocket(Model):\n",
    "    \n",
    "    def setup(self):\n",
    "        \n",
    "        constraints = []\n",
    "        components = []\n",
    "        \n",
    "        \n",
    "        #define all components\n",
    "        \n",
    "        nc   = self.nc   = NoseCone()\n",
    "        body = self.body = Tube()\n",
    "        fins = self.fins = Fins()\n",
    "        \n",
    "        av = self.av = Avionics()\n",
    "        payload = self.payload = Payload()\n",
    "        \n",
    "        recovery = self.recovery = Recovery()\n",
    "        \n",
    "        mainMotor = self.mainMotor = MainMotor()\n",
    "        boosters  = self.boosters  = Booster()\n",
    "        \n",
    "        \n",
    "        \n",
    "        components += [nc, body, fins, mainMotor, boosters]\n",
    "        \n",
    "        \n",
    "        \n",
    "        "
   ]
  },
  {
   "cell_type": "code",
   "execution_count": 55,
   "metadata": {},
   "outputs": [],
   "source": [
    "class MainMotor(Model):\n",
    "    \n",
    "    def setup(self):\n",
    "        \n",
    "        constraints = []\n",
    "        components = self.components = []\n",
    "        m = self.m = Variable(\"m\", \"kg\", \"Mass of Main Motor\")\n",
    "        \n",
    "        motor = self.motor = Motor()\n",
    "        components += [motor]\n",
    "        \n",
    "        constraints += [motor.m_dry >= 0.7*self.m] #based on most rockets on thrustcurve.org\n",
    "        constraints += [Tight([motor.F_avg >= 750*ureg.N])]\n",
    "        constraints += [Tight([motor.t_burn >= 20*ureg.s])]\n",
    "        \n",
    "        constraints += [Tight([motor.c <= 1800*ureg.m/ureg.s])] #based on most rockets on thrustcurve.org\n",
    "                                    \n",
    "        \n",
    "        \n",
    "        return [components, constraints, Tight([self.m >= sum(comp.m for comp in components)])]\n",
    "    \n",
    "class Booster(Model):\n",
    "    \n",
    "    def setup(self):\n",
    "        \n",
    "        constraints = []\n",
    "        components = self.components = []\n",
    "        m = self.m = Variable(\"m\", \"kg\", \"Mass of all boosters\")\n",
    "        \n",
    "        \n",
    "        num = Variable(\"num\", \"\", \"Number of boosters\", integer = True)\n",
    "        \n",
    "        constraints += [num>=2]\n",
    "        \n",
    "        motor = self.motor = Motor()\n",
    "        components += [motor]\n",
    "        \n",
    "        #generic bounds, computing the bounds based on the vehicle mass is done in the Rocket() class. \n",
    "        constraints += [motor.m_dry >= 0.1*ureg.kg]\n",
    "        constraints += [Tight([motor.F_avg >= 10*ureg.N])]\n",
    "        constraints += [Tight([motor.t_burn >= 1*ureg.s])]\n",
    "        \n",
    "        constraints += [Tight([motor.c <= 3000*ureg.m/ureg.s])]\n",
    "                                    \n",
    "        #in this case, we define the mass constraint explicity\n",
    "        constraints += [Tight([self.m >= num*motor.m])]\n",
    "        \n",
    "        return [components, constraints]"
   ]
  },
  {
   "cell_type": "code",
   "execution_count": 56,
   "metadata": {},
   "outputs": [],
   "source": [
    "m = Motor()"
   ]
  },
  {
   "cell_type": "code",
   "execution_count": 57,
   "metadata": {},
   "outputs": [],
   "source": [
    "mm = MainMotor()"
   ]
  },
  {
   "cell_type": "code",
   "execution_count": 58,
   "metadata": {},
   "outputs": [
    {
     "data": {
      "text/latex": [
       "$$\\begin{array}{ll} \\text{}\n",
       "\\text{minimize}\n",
       "    & 1 \\\\\n",
       "\\text{subject to}\n",
       "    & Motor_{0} \\\\\n",
       "    & {m_{dry}}_{MainMotor.5/Motor} \\geq 0.7{m}_{MainMotor.5} \\\\\n",
       "    & {T_{avg}}_{MainMotor.5/Motor} \\geq 750 \\\\\n",
       "    & {t_{burn}}_{MainMotor.5/Motor} \\geq 20 \\\\\n",
       "    & {c}_{MainMotor.5/Motor} \\leq 1800 \\\\\n",
       "    & {m}_{MainMotor.5} \\geq {m}_{MainMotor.5/Motor} \\\\\n",
       "\\end{array}$$"
      ],
      "text/plain": [
       "[[[gpkit.PosynomialInequality(m_MainMotor.5/Motor >= m_{dry}_MainMotor.5/Motor + m_{prop}_MainMotor.5/Motor),\n",
       "   [gpkit.PosynomialInequality(T_{avg}_MainMotor.5/Motor <= c_MainMotor.5/Motor*m_{prop}_MainMotor.5/Motor*t_{burn}_MainMotor.5/Motor**-1)],\n",
       "   [gpkit.MonomialEquality(I_t_MainMotor.5/Motor = c_MainMotor.5/Motor*m_{prop}_MainMotor.5/Motor)],\n",
       "   [gpkit.PosynomialInequality(I_t_MainMotor.5/Motor >= c_MainMotor.5/Motor*m_{prop}_MainMotor.5/Motor)]]],\n",
       " [gpkit.PosynomialInequality(m_{dry}_MainMotor.5/Motor >= 0.7*m_MainMotor.5),\n",
       "  [gpkit.PosynomialInequality(T_{avg}_MainMotor.5/Motor >= 750)],\n",
       "  [gpkit.PosynomialInequality(t_{burn}_MainMotor.5/Motor >= 20)],\n",
       "  [gpkit.PosynomialInequality(c_MainMotor.5/Motor <= 1.8e+03)]],\n",
       " [gpkit.PosynomialInequality(m_MainMotor.5 >= m_MainMotor.5/Motor)]]"
      ]
     },
     "execution_count": 58,
     "metadata": {},
     "output_type": "execute_result"
    }
   ],
   "source": [
    "mm"
   ]
  },
  {
   "cell_type": "code",
   "execution_count": 59,
   "metadata": {},
   "outputs": [],
   "source": [
    "opt = Model(mm.m, Bounded(mm))"
   ]
  },
  {
   "cell_type": "code",
   "execution_count": 60,
   "metadata": {},
   "outputs": [
    {
     "name": "stdout",
     "output_type": "stream",
     "text": [
      "Using solver 'cvxopt'\n",
      "Solving for 8 variables.\n",
      "Solving took 0.0532 seconds.\n"
     ]
    }
   ],
   "source": [
    "sol = opt.solve()"
   ]
  },
  {
   "cell_type": "code",
   "execution_count": 61,
   "metadata": {},
   "outputs": [
    {
     "name": "stdout",
     "output_type": "stream",
     "text": [
      "\n",
      "Cost\n",
      "----\n",
      " 27.78 [kg]\n",
      "\n",
      "Free Variables\n",
      "--------------\n",
      "         | MainMotor.5\n",
      "       m : 27.78    [kg]  Mass of Main Motor\n",
      "\n",
      "         | MainMotor.5/Motor\n",
      "     I_t : 1.5e+04  [N·s] Total impulse of motor\n",
      " T_{avg} : 750      [N]   Average force of motor\n",
      "       c : 1800     [m/s] Exhaust speed of motor\n",
      "       m : 27.78    [kg]  Total mass of motor\n",
      " m_{dry} : 19.44    [kg]  Dry Mass of Motor\n",
      "m_{prop} : 8.333    [kg]  Propellant Mass of Motor\n",
      "t_{burn} : 20       [s]   Burn Time\n",
      "\n",
      "Tightest Constraints\n",
      "--------------------\n",
      "       | MainMotor.5\n",
      "  +3.3 : m_ >= m_/Motor\n",
      "  +2.3 : m_{dry}_/Motor >= 0.7*m_\n",
      "    +1 : T_{avg}_/Motor >= 750\n",
      "\n",
      "       | MainMotor.5/Motor\n",
      "  +3.3 : m_ >= m_{dry}_ + m_{prop}_\n",
      "    +1 : T_{avg}_ <= c_*m_{prop}_*t_{burn}_**-1\n",
      "\n"
     ]
    }
   ],
   "source": [
    "print(sol.summary())"
   ]
  },
  {
   "cell_type": "code",
   "execution_count": 45,
   "metadata": {},
   "outputs": [],
   "source": [
    "booster = Booster()"
   ]
  },
  {
   "cell_type": "code",
   "execution_count": 46,
   "metadata": {},
   "outputs": [
    {
     "name": "stdout",
     "output_type": "stream",
     "text": [
      "Using solver 'cvxopt'\n",
      "Solving for 9 variables.\n",
      "Solving took 0.0615 seconds.\n"
     ]
    }
   ],
   "source": [
    "sol = Model(booster.m, Bounded(booster)).solve()"
   ]
  },
  {
   "cell_type": "code",
   "execution_count": 47,
   "metadata": {},
   "outputs": [
    {
     "name": "stdout",
     "output_type": "stream",
     "text": [
      "\n",
      "Cost\n",
      "----\n",
      " 0.2067 [kg]\n",
      "\n",
      "Free Variables\n",
      "--------------\n",
      "         | Booster.3\n",
      "       m : 0.2067    [kg]  Mass of all boosters\n",
      "     num : 2               Number of boosters\n",
      "\n",
      "         | Booster.3/Motor\n",
      "     I_t : 10        [N·s] Total impulse of motor\n",
      " T_{avg} : 10        [N]   Average force of motor\n",
      "       c : 3000      [m/s] Exhaust speed of motor\n",
      "       m : 0.1033    [kg]  Total mass of motor\n",
      " m_{dry} : 0.1       [kg]  Dry Mass of Motor\n",
      "m_{prop} : 0.003333  [kg]  Propellant Mass of Motor\n",
      "t_{burn} : 1         [s]   Burn Time\n",
      "\n",
      "Tightest Constraints\n",
      "--------------------\n",
      "       | Booster.3/Motor\n",
      "  +1.1 : I_t_ = c_*m_{prop}_\n",
      "  +1.1 : I_t_ >= c_*m_{prop}_\n",
      "    +1 : m_ >= m_{dry}_ + m_{prop}_\n",
      "\n",
      "       | Booster.3\n",
      "    +1 : m_ >= m_/Motor*num_\n",
      "    +1 : num_ >= 2\n",
      "\n"
     ]
    }
   ],
   "source": [
    "print(sol.summary())"
   ]
  },
  {
   "cell_type": "code",
   "execution_count": null,
   "metadata": {},
   "outputs": [],
   "source": []
  },
  {
   "cell_type": "code",
   "execution_count": null,
   "metadata": {},
   "outputs": [],
   "source": []
  },
  {
   "cell_type": "code",
   "execution_count": null,
   "metadata": {},
   "outputs": [],
   "source": []
  },
  {
   "cell_type": "code",
   "execution_count": null,
   "metadata": {},
   "outputs": [],
   "source": []
  },
  {
   "cell_type": "code",
   "execution_count": null,
   "metadata": {},
   "outputs": [],
   "source": []
  },
  {
   "cell_type": "code",
   "execution_count": null,
   "metadata": {},
   "outputs": [],
   "source": []
  },
  {
   "cell_type": "code",
   "execution_count": null,
   "metadata": {},
   "outputs": [],
   "source": []
  },
  {
   "cell_type": "code",
   "execution_count": null,
   "metadata": {},
   "outputs": [],
   "source": []
  },
  {
   "cell_type": "code",
   "execution_count": null,
   "metadata": {},
   "outputs": [],
   "source": []
  }
 ],
 "metadata": {
  "kernelspec": {
   "display_name": "Python 3",
   "language": "python",
   "name": "python3"
  },
  "language_info": {
   "codemirror_mode": {
    "name": "ipython",
    "version": 3
   },
   "file_extension": ".py",
   "mimetype": "text/x-python",
   "name": "python",
   "nbconvert_exporter": "python",
   "pygments_lexer": "ipython3",
   "version": "3.6.7"
  }
 },
 "nbformat": 4,
 "nbformat_minor": 2
}
