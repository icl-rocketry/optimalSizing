{
 "cells": [
  {
   "cell_type": "code",
   "execution_count": 2,
   "metadata": {},
   "outputs": [
    {
     "name": "stdout",
     "output_type": "stream",
     "text": [
      "​"
     ]
    }
   ],
   "source": [
    "\n",
    "from gpkit import Model, Variable\n",
    "from gpkit.constraints.tight import Tight\n",
    "from gpkit.constraints.bounded import Bounded\n",
    "from gpkit import ureg\n",
    "\n",
    "from BasicRocketComponents import Motor, Tube"
   ]
  },
  {
   "cell_type": "code",
   "execution_count": 13,
   "metadata": {},
   "outputs": [
    {
     "ename": "SyntaxError",
     "evalue": "unexpected EOF while parsing (<ipython-input-13-93990a4087cc>, line 48)",
     "output_type": "error",
     "traceback": [
      "\u001b[0;36m  File \u001b[0;32m\"<ipython-input-13-93990a4087cc>\"\u001b[0;36m, line \u001b[0;32m48\u001b[0m\n\u001b[0;31m    \u001b[0m\n\u001b[0m    ^\u001b[0m\n\u001b[0;31mSyntaxError\u001b[0m\u001b[0;31m:\u001b[0m unexpected EOF while parsing\n"
     ]
    }
   ],
   "source": [
    "\n",
    "class Rocket(Model):\n",
    "    \n",
    "    def setup(self):\n",
    "        \n",
    "        constraints = []\n",
    "        components = []\n",
    "        \n",
    "        m = self.m = Variable(\"m\",\"kg\",\"Mass of Rocket\")\n",
    "        \n",
    "        #define all components\n",
    "        \n",
    "        #nc   = self.nc   = NoseCone()\n",
    "        body = self.body = Tube()\n",
    "        #fins = self.fins = Fins()\n",
    "        #av      = self.av      = Avionics()\n",
    "        payload = self.payload = Payload()\n",
    "        #recovery  = self.recovery  = Recovery()\n",
    "        mainMotor = self.mainMotor = MainMotor()\n",
    "        boosters  = self.boosters  = Booster()\n",
    "        \n",
    "        #components += [nc]\n",
    "        components += [body]\n",
    "        #components += [fins]\n",
    "        #components += [av]\n",
    "        components += [payload]\n",
    "        #components += [recovery]\n",
    "        components += [mainMotor]\n",
    "        components += [boosters]\n",
    "        \n",
    "        \n",
    "        #define mass of airframe based on dry mass\n",
    "        constraints += [body.m >= 0.3*m]\n",
    "        \n",
    "        #require boosters to clear the launch tower\n",
    "        \n",
    "        constraints += self.launch_rod_clearance()\n",
    "        \n",
    "        constraints +=  Tight([self.m >= sum(comp.m for comp in components)])\n",
    "        return [components, constraints]\n",
    "    \n",
    "    \n",
    "    def launch_rod_clearance(self):\n",
    "        \n",
    "        constraints = []\n",
    "        \n",
    "        # first performed by assuming the mass isnt changed\n",
    "        #height of launch rod\n",
    "        h_LR = self.h_LR = Variable(\"h_{LR}\",5, \"m\", \"Launch rod height\")\n",
    "\n",
    "        \n",
    "        #height reached by boosters alone\n",
    "        \n",
    "        \n",
    "        #needs to return a list of constraints\n",
    "        \n",
    "        \n",
    "        \n",
    "        "
   ]
  },
  {
   "cell_type": "code",
   "execution_count": null,
   "metadata": {},
   "outputs": [],
   "source": [
    "#"
   ]
  },
  {
   "cell_type": "code",
   "execution_count": 5,
   "metadata": {},
   "outputs": [],
   "source": [
    "class Payload(Model):\n",
    "    \n",
    "    def setup(self):\n",
    "        \n",
    "        constraints = []\n",
    "        m = self.m = Variable(\"m\", \"kg\",\"Mass of payload\")\n",
    "        \n",
    "        constraints += [m >= 4*ureg.kg]\n",
    "        \n",
    "        return [constraints]\n",
    "        \n",
    "    "
   ]
  },
  {
   "cell_type": "code",
   "execution_count": 6,
   "metadata": {},
   "outputs": [],
   "source": [
    "class MainMotor(Model):\n",
    "    \n",
    "    def setup(self):\n",
    "        \n",
    "        constraints = []\n",
    "        components = self.components = []\n",
    "        m = self.m = Variable(\"m\", \"kg\", \"Mass of Main Motor\")\n",
    "        \n",
    "        motor = self.motor = Motor()\n",
    "        components += [motor]\n",
    "        \n",
    "        constraints += [motor.m_dry >= 0.7*self.m] #based on most rockets on thrustcurve.org\n",
    "        constraints += [Tight([motor.F_avg >= 750*ureg.N])]\n",
    "        constraints += [Tight([motor.t_burn >= 20*ureg.s])]\n",
    "        \n",
    "        constraints += [Tight([motor.c <= 1800*ureg.m/ureg.s])] #based on most rockets on thrustcurve.org\n",
    "                                    \n",
    "        constraints +=  Tight([self.m >= sum(comp.m for comp in components)])\n",
    "        \n",
    "        return [components, constraints]\n",
    "    \n",
    "class Booster(Model):\n",
    "    \n",
    "    def setup(self):\n",
    "        \n",
    "        constraints = []\n",
    "        components = self.components = []\n",
    "        m = self.m = Variable(\"m\", \"kg\", \"Mass of all boosters\")\n",
    "        \n",
    "        \n",
    "        num = Variable(\"num\", 3, \"\", \"Number of boosters\")\n",
    "        \n",
    "        #motor referes to a single motor\n",
    "        motor = self.motor = Motor()\n",
    "        components += [motor]\n",
    "        \n",
    "        #generic bounds, computing the bounds based on the vehicle mass is done in the Rocket() class. \n",
    "        constraints += [motor.m_dry >= 0.7*motor.m]\n",
    "        constraints += [motor.F_avg >= 10*ureg.N]\n",
    "        constraints += [motor.t_burn >= 1*ureg.s]\n",
    "        \n",
    "        constraints += [Tight([motor.c <= 1800*ureg.m/ureg.s])]\n",
    "        \n",
    "        \n",
    "        #get average thrust of all the boosters\n",
    "        F_avg = self.F_avg  = Variable(\"F_{avg}\", \"\", \"N\", \"Average force produced by all the boosters together\")\n",
    "        constraints += [F_avg >= num*motor.F_avg]\n",
    "        \n",
    "        \n",
    "        #in this case, we define the mass constraint explicity\n",
    "        constraints += [Tight([self.m >= num*motor.m])]\n",
    "        \n",
    "        return [components, constraints]"
   ]
  },
  {
   "cell_type": "code",
   "execution_count": 8,
   "metadata": {},
   "outputs": [],
   "source": [
    "r = Rocket()"
   ]
  },
  {
   "cell_type": "code",
   "execution_count": 9,
   "metadata": {},
   "outputs": [
    {
     "data": {
      "text/latex": [
       "$$\\begin{array}{ll} \\text{}\n",
       "\\text{minimize}\n",
       "    & 1 \\\\\n",
       "\\text{subject to}\n",
       "    & Tube_{0} \\\\\n",
       "    & Payload_{0} \\\\\n",
       "    & MainMotor_{0} \\\\\n",
       "    & Booster_{0} \\\\\n",
       "    & {m}_{Rocket/Tube} \\geq 0.3{m}_{Rocket} \\\\\n",
       "    & {m}_{Rocket} \\geq {m}_{Rocket/Booster} + {m}_{Rocket/MainMotor} + {m}_{Rocket/Payload} + {m}_{Rocket/Tube} \\\\\n",
       "\\end{array}$$"
      ],
      "text/plain": [
       "[[[],\n",
       "  [[gpkit.PosynomialInequality(m_Rocket/Payload >= 4)]],\n",
       "  [[[gpkit.PosynomialInequality(m_Rocket/MainMotor/Motor >= m_{dry}_Rocket/MainMotor/Motor + m_{prop}_Rocket/MainMotor/Motor),\n",
       "     [gpkit.PosynomialInequality(T_{avg}_Rocket/MainMotor/Motor <= c_Rocket/MainMotor/Motor*m_{prop}_Rocket/MainMotor/Motor*t_{burn}_Rocket/MainMotor/Motor**-1)],\n",
       "     [gpkit.PosynomialInequality(T_{avg}_Rocket/MainMotor/Motor >= c_Rocket/MainMotor/Motor*m_{prop}_Rocket/MainMotor/Motor*t_{burn}_Rocket/MainMotor/Motor**-1)],\n",
       "     [gpkit.PosynomialInequality(I_t_Rocket/MainMotor/Motor <= c_Rocket/MainMotor/Motor*m_{prop}_Rocket/MainMotor/Motor)],\n",
       "     [gpkit.PosynomialInequality(I_t_Rocket/MainMotor/Motor >= c_Rocket/MainMotor/Motor*m_{prop}_Rocket/MainMotor/Motor)]]],\n",
       "   [gpkit.PosynomialInequality(m_{dry}_Rocket/MainMotor/Motor >= 0.7*m_Rocket/MainMotor),\n",
       "    [gpkit.PosynomialInequality(T_{avg}_Rocket/MainMotor/Motor >= 750)],\n",
       "    [gpkit.PosynomialInequality(t_{burn}_Rocket/MainMotor/Motor >= 20)],\n",
       "    [gpkit.PosynomialInequality(c_Rocket/MainMotor/Motor <= 1.8e+03)],\n",
       "    gpkit.PosynomialInequality(m_Rocket/MainMotor >= m_Rocket/MainMotor/Motor)]],\n",
       "  [[[gpkit.PosynomialInequality(m_Rocket/Booster/Motor >= m_{dry}_Rocket/Booster/Motor + m_{prop}_Rocket/Booster/Motor),\n",
       "     [gpkit.PosynomialInequality(T_{avg}_Rocket/Booster/Motor <= c_Rocket/Booster/Motor*m_{prop}_Rocket/Booster/Motor*t_{burn}_Rocket/Booster/Motor**-1)],\n",
       "     [gpkit.PosynomialInequality(T_{avg}_Rocket/Booster/Motor >= c_Rocket/Booster/Motor*m_{prop}_Rocket/Booster/Motor*t_{burn}_Rocket/Booster/Motor**-1)],\n",
       "     [gpkit.PosynomialInequality(I_t_Rocket/Booster/Motor <= c_Rocket/Booster/Motor*m_{prop}_Rocket/Booster/Motor)],\n",
       "     [gpkit.PosynomialInequality(I_t_Rocket/Booster/Motor >= c_Rocket/Booster/Motor*m_{prop}_Rocket/Booster/Motor)]]],\n",
       "   [gpkit.PosynomialInequality(m_{dry}_Rocket/Booster/Motor >= 0.7*m_Rocket/Booster/Motor),\n",
       "    gpkit.PosynomialInequality(T_{avg}_Rocket/Booster/Motor >= 10),\n",
       "    gpkit.PosynomialInequality(t_{burn}_Rocket/Booster/Motor >= 1),\n",
       "    [gpkit.PosynomialInequality(c_Rocket/Booster/Motor <= 1.8e+03)],\n",
       "    [gpkit.PosynomialInequality(m_Rocket/Booster >= m_Rocket/Booster/Motor*num_Rocket/Booster)]]]],\n",
       " [gpkit.PosynomialInequality(m_Rocket/Tube >= 0.3*m_Rocket),\n",
       "  gpkit.PosynomialInequality(m_Rocket >= m_Rocket/Booster + m_Rocket/MainMotor + m_Rocket/Payload + m_Rocket/Tube)]]"
      ]
     },
     "execution_count": 9,
     "metadata": {},
     "output_type": "execute_result"
    }
   ],
   "source": [
    "r"
   ]
  },
  {
   "cell_type": "code",
   "execution_count": null,
   "metadata": {},
   "outputs": [],
   "source": []
  },
  {
   "cell_type": "code",
   "execution_count": 10,
   "metadata": {},
   "outputs": [],
   "source": [
    "opt = Model(r.m, Bounded(r))"
   ]
  },
  {
   "cell_type": "code",
   "execution_count": 11,
   "metadata": {},
   "outputs": [
    {
     "name": "stdout",
     "output_type": "stream",
     "text": [
      "Using solver 'cvxopt'\n",
      "Solving for 19 variables.\n",
      "Solving took 0.105 seconds.\n"
     ]
    }
   ],
   "source": [
    "sol = opt.solve()"
   ]
  },
  {
   "cell_type": "code",
   "execution_count": 12,
   "metadata": {
    "scrolled": false
   },
   "outputs": [
    {
     "name": "stdout",
     "output_type": "stream",
     "text": [
      "\n",
      "Cost\n",
      "----\n",
      " 45.48 [kg]\n",
      "\n",
      "Free Variables\n",
      "--------------\n",
      "         | Rocket\n",
      "       m : 45.48     [kg]  Mass of Rocket\n",
      "\n",
      "         | Rocket/Booster\n",
      "       m : 0.05556   [kg]  Mass of all boosters\n",
      "\n",
      "         | Rocket/Booster/Motor\n",
      "     I_t : 10        [N·s] Total impulse of motor\n",
      " T_{avg} : 10        [N]   Average force of motor\n",
      "       c : 1800      [m/s] Exhaust speed of motor\n",
      "       m : 0.01852   [kg]  Total mass of motor\n",
      " m_{dry} : 0.01296   [kg]  Dry Mass of Motor\n",
      "m_{prop} : 0.005556  [kg]  Propellant Mass of Motor\n",
      "t_{burn} : 1         [s]   Burn Time\n",
      "\n",
      "         | Rocket/MainMotor\n",
      "       m : 27.78     [kg]  Mass of Main Motor\n",
      "\n",
      "         | Rocket/MainMotor/Motor\n",
      "     I_t : 1.5e+04   [N·s] Total impulse of motor\n",
      " T_{avg} : 750       [N]   Average force of motor\n",
      "       c : 1800      [m/s] Exhaust speed of motor\n",
      "       m : 27.78     [kg]  Total mass of motor\n",
      " m_{dry} : 19.44     [kg]  Dry Mass of Motor\n",
      "m_{prop} : 8.333     [kg]  Propellant Mass of Motor\n",
      "t_{burn} : 20        [s]   Burn Time\n",
      "\n",
      "         | Rocket/Payload\n",
      "       m : 4         [kg]  Mass of payload\n",
      "\n",
      "         | Rocket/Tube\n",
      "       m : 13.64     [kg]  Mass of Tube\n",
      "\n",
      "Sensitivities\n",
      "-------------\n",
      "num : +0.0017  Number of boosters\n",
      "\n",
      "Tightest Constraints\n",
      "--------------------\n",
      "       | Rocket/MainMotor/Motor\n",
      "  +3.7 : T_{avg}_ <= c_*m_{prop}_*t_{burn}_**-1\n",
      "    +3 : I_t_ <= c_*m_{prop}_\n",
      "    +3 : I_t_ >= c_*m_{prop}_\n",
      "\n",
      "       | Rocket/Booster/Motor\n",
      "    +3 : I_t_ <= c_*m_{prop}_\n",
      "    +3 : I_t_ >= c_*m_{prop}_\n",
      "\n"
     ]
    }
   ],
   "source": [
    "print(sol.summary())"
   ]
  },
  {
   "cell_type": "code",
   "execution_count": 45,
   "metadata": {},
   "outputs": [],
   "source": [
    "booster = Booster()"
   ]
  },
  {
   "cell_type": "code",
   "execution_count": 46,
   "metadata": {},
   "outputs": [
    {
     "name": "stdout",
     "output_type": "stream",
     "text": [
      "Using solver 'cvxopt'\n",
      "Solving for 9 variables.\n",
      "Solving took 0.0615 seconds.\n"
     ]
    }
   ],
   "source": [
    "sol = Model(booster.m, Bounded(booster)).solve()"
   ]
  },
  {
   "cell_type": "code",
   "execution_count": 47,
   "metadata": {},
   "outputs": [
    {
     "name": "stdout",
     "output_type": "stream",
     "text": [
      "\n",
      "Cost\n",
      "----\n",
      " 0.2067 [kg]\n",
      "\n",
      "Free Variables\n",
      "--------------\n",
      "         | Booster.3\n",
      "       m : 0.2067    [kg]  Mass of all boosters\n",
      "     num : 2               Number of boosters\n",
      "\n",
      "         | Booster.3/Motor\n",
      "     I_t : 10        [N·s] Total impulse of motor\n",
      " T_{avg} : 10        [N]   Average force of motor\n",
      "       c : 3000      [m/s] Exhaust speed of motor\n",
      "       m : 0.1033    [kg]  Total mass of motor\n",
      " m_{dry} : 0.1       [kg]  Dry Mass of Motor\n",
      "m_{prop} : 0.003333  [kg]  Propellant Mass of Motor\n",
      "t_{burn} : 1         [s]   Burn Time\n",
      "\n",
      "Tightest Constraints\n",
      "--------------------\n",
      "       | Booster.3/Motor\n",
      "  +1.1 : I_t_ = c_*m_{prop}_\n",
      "  +1.1 : I_t_ >= c_*m_{prop}_\n",
      "    +1 : m_ >= m_{dry}_ + m_{prop}_\n",
      "\n",
      "       | Booster.3\n",
      "    +1 : m_ >= m_/Motor*num_\n",
      "    +1 : num_ >= 2\n",
      "\n"
     ]
    }
   ],
   "source": [
    "print(sol.summary())"
   ]
  },
  {
   "cell_type": "code",
   "execution_count": null,
   "metadata": {},
   "outputs": [],
   "source": []
  },
  {
   "cell_type": "code",
   "execution_count": null,
   "metadata": {},
   "outputs": [],
   "source": []
  },
  {
   "cell_type": "code",
   "execution_count": null,
   "metadata": {},
   "outputs": [],
   "source": []
  },
  {
   "cell_type": "code",
   "execution_count": null,
   "metadata": {},
   "outputs": [],
   "source": []
  },
  {
   "cell_type": "code",
   "execution_count": null,
   "metadata": {},
   "outputs": [],
   "source": []
  },
  {
   "cell_type": "code",
   "execution_count": null,
   "metadata": {},
   "outputs": [],
   "source": []
  },
  {
   "cell_type": "code",
   "execution_count": null,
   "metadata": {},
   "outputs": [],
   "source": []
  },
  {
   "cell_type": "code",
   "execution_count": null,
   "metadata": {},
   "outputs": [],
   "source": []
  },
  {
   "cell_type": "code",
   "execution_count": null,
   "metadata": {},
   "outputs": [],
   "source": []
  }
 ],
 "metadata": {
  "kernelspec": {
   "display_name": "Python 3",
   "language": "python",
   "name": "python3"
  },
  "language_info": {
   "codemirror_mode": {
    "name": "ipython",
    "version": 3
   },
   "file_extension": ".py",
   "mimetype": "text/x-python",
   "name": "python",
   "nbconvert_exporter": "python",
   "pygments_lexer": "ipython3",
   "version": "3.6.7"
  }
 },
 "nbformat": 4,
 "nbformat_minor": 2
}
